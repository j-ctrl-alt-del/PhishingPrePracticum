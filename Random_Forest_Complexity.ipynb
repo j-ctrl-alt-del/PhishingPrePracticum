{
 "cells": [
  {
   "cell_type": "markdown",
   "metadata": {},
   "source": [
    "## Random Forest Classification of Code Complexity Features"
   ]
  },
  {
   "cell_type": "code",
   "execution_count": 89,
   "metadata": {
    "ExecuteTime": {
     "end_time": "2020-04-09T21:00:15.067392Z",
     "start_time": "2020-04-09T21:00:15.062437Z"
    }
   },
   "outputs": [],
   "source": [
    "import pandas as pd\n",
    "from sklearn.model_selection import train_test_split\n",
    "from sklearn.ensemble import RandomForestRegressor\n",
    "from sklearn.model_selection import ParameterGrid\n",
    "import matplotlib.pyplot as plt\n",
    "from sklearn.metrics import classification_report,confusion_matrix\n",
    "from sklearn.preprocessing import scale\n",
    "from sklearn.model_selection import cross_val_score\n",
    "from sklearn.metrics import accuracy_score"
   ]
  },
  {
   "cell_type": "code",
   "execution_count": 101,
   "metadata": {
    "ExecuteTime": {
     "end_time": "2020-04-09T21:02:34.460001Z",
     "start_time": "2020-04-09T21:02:34.276528Z"
    },
    "scrolled": true
   },
   "outputs": [
    {
     "data": {
      "text/html": [
       "<div>\n",
       "<style scoped>\n",
       "    .dataframe tbody tr th:only-of-type {\n",
       "        vertical-align: middle;\n",
       "    }\n",
       "\n",
       "    .dataframe tbody tr th {\n",
       "        vertical-align: top;\n",
       "    }\n",
       "\n",
       "    .dataframe thead th {\n",
       "        text-align: right;\n",
       "    }\n",
       "</style>\n",
       "<table border=\"1\" class=\"dataframe\">\n",
       "  <thead>\n",
       "    <tr style=\"text-align: right;\">\n",
       "      <th></th>\n",
       "      <th>site</th>\n",
       "      <th>scrap_time</th>\n",
       "      <th>path</th>\n",
       "      <th>has_html</th>\n",
       "      <th>inline_count</th>\n",
       "      <th>avg_inline_script_block</th>\n",
       "      <th>external_count</th>\n",
       "      <th>avg_external_script_block</th>\n",
       "      <th>onclick_count</th>\n",
       "      <th>onload_count</th>\n",
       "      <th>onchange_count</th>\n",
       "      <th>avg_onclick_count</th>\n",
       "      <th>avg_onload_count</th>\n",
       "      <th>avg_onchange_count</th>\n",
       "      <th>avg_cyc_complexity</th>\n",
       "      <th>library_code_count</th>\n",
       "      <th>type</th>\n",
       "      <th>class_bin</th>\n",
       "    </tr>\n",
       "  </thead>\n",
       "  <tbody>\n",
       "    <tr>\n",
       "      <th>0</th>\n",
       "      <td>0.2090000.ru</td>\n",
       "      <td>2017-11-17 11-19-03</td>\n",
       "      <td>C:\\Phishing Project\\phishtank - november 2017\\...</td>\n",
       "      <td>True</td>\n",
       "      <td>2.0</td>\n",
       "      <td>0.0</td>\n",
       "      <td>4.0</td>\n",
       "      <td>64.0</td>\n",
       "      <td>1</td>\n",
       "      <td>1.0</td>\n",
       "      <td>0.0</td>\n",
       "      <td>358</td>\n",
       "      <td>3</td>\n",
       "      <td>1</td>\n",
       "      <td>0.0</td>\n",
       "      <td>0</td>\n",
       "      <td>phish</td>\n",
       "      <td>1</td>\n",
       "    </tr>\n",
       "    <tr>\n",
       "      <th>1</th>\n",
       "      <td>000keca.wcomhost.com</td>\n",
       "      <td>2017-09-20 07-53-06</td>\n",
       "      <td>C:\\Phishing Project\\phishtank - september 2017...</td>\n",
       "      <td>True</td>\n",
       "      <td>2.0</td>\n",
       "      <td>2.0</td>\n",
       "      <td>2.0</td>\n",
       "      <td>169.0</td>\n",
       "      <td>1</td>\n",
       "      <td>1.0</td>\n",
       "      <td>0.0</td>\n",
       "      <td>219</td>\n",
       "      <td>1</td>\n",
       "      <td>1</td>\n",
       "      <td>1.0</td>\n",
       "      <td>1</td>\n",
       "      <td>phish</td>\n",
       "      <td>1</td>\n",
       "    </tr>\n",
       "  </tbody>\n",
       "</table>\n",
       "</div>"
      ],
      "text/plain": [
       "                   site           scrap_time  \\\n",
       "0          0.2090000.ru  2017-11-17 11-19-03   \n",
       "1  000keca.wcomhost.com  2017-09-20 07-53-06   \n",
       "\n",
       "                                                path  has_html  inline_count  \\\n",
       "0  C:\\Phishing Project\\phishtank - november 2017\\...      True           2.0   \n",
       "1  C:\\Phishing Project\\phishtank - september 2017...      True           2.0   \n",
       "\n",
       "   avg_inline_script_block  external_count  avg_external_script_block  \\\n",
       "0                      0.0             4.0                       64.0   \n",
       "1                      2.0             2.0                      169.0   \n",
       "\n",
       "   onclick_count  onload_count  onchange_count  avg_onclick_count  \\\n",
       "0              1           1.0             0.0                358   \n",
       "1              1           1.0             0.0                219   \n",
       "\n",
       "   avg_onload_count  avg_onchange_count  avg_cyc_complexity  \\\n",
       "0                 3                   1                 0.0   \n",
       "1                 1                   1                 1.0   \n",
       "\n",
       "   library_code_count   type  class_bin  \n",
       "0                   0  phish          1  \n",
       "1                   1  phish          1  "
      ]
     },
     "execution_count": 101,
     "metadata": {},
     "output_type": "execute_result"
    }
   ],
   "source": [
    "# Read in the code complexity features excel file\n",
    "complexity = pd.read_csv('wc(augmented).csv')\n",
    "\n",
    "# Create a column for binary output where if the class is phish, it equals 1\n",
    "complexity['class_bin'] = [1 if x == 'phish' else 0 for x in complexity['type']]\n",
    "\n",
    "complexity.head(2)"
   ]
  },
  {
   "cell_type": "code",
   "execution_count": 102,
   "metadata": {
    "ExecuteTime": {
     "end_time": "2020-04-09T21:02:35.340090Z",
     "start_time": "2020-04-09T21:02:35.335083Z"
    }
   },
   "outputs": [
    {
     "data": {
      "text/plain": [
       "(24232, 18)"
      ]
     },
     "execution_count": 102,
     "metadata": {},
     "output_type": "execute_result"
    }
   ],
   "source": [
    "complexity.shape"
   ]
  },
  {
   "cell_type": "code",
   "execution_count": 103,
   "metadata": {
    "ExecuteTime": {
     "end_time": "2020-04-09T21:02:35.841097Z",
     "start_time": "2020-04-09T21:02:35.827099Z"
    }
   },
   "outputs": [
    {
     "data": {
      "text/html": [
       "<div>\n",
       "<style scoped>\n",
       "    .dataframe tbody tr th:only-of-type {\n",
       "        vertical-align: middle;\n",
       "    }\n",
       "\n",
       "    .dataframe tbody tr th {\n",
       "        vertical-align: top;\n",
       "    }\n",
       "\n",
       "    .dataframe thead th {\n",
       "        text-align: right;\n",
       "    }\n",
       "</style>\n",
       "<table border=\"1\" class=\"dataframe\">\n",
       "  <thead>\n",
       "    <tr style=\"text-align: right;\">\n",
       "      <th></th>\n",
       "      <th>has_html</th>\n",
       "      <th>inline_count</th>\n",
       "      <th>avg_inline_script_block</th>\n",
       "      <th>external_count</th>\n",
       "      <th>avg_external_script_block</th>\n",
       "      <th>onclick_count</th>\n",
       "      <th>onload_count</th>\n",
       "      <th>onchange_count</th>\n",
       "      <th>avg_onclick_count</th>\n",
       "      <th>avg_onload_count</th>\n",
       "      <th>avg_onchange_count</th>\n",
       "      <th>avg_cyc_complexity</th>\n",
       "      <th>library_code_count</th>\n",
       "    </tr>\n",
       "  </thead>\n",
       "  <tbody>\n",
       "    <tr>\n",
       "      <th>0</th>\n",
       "      <td>True</td>\n",
       "      <td>2.0</td>\n",
       "      <td>0.0</td>\n",
       "      <td>4.0</td>\n",
       "      <td>64.0</td>\n",
       "      <td>1</td>\n",
       "      <td>1.0</td>\n",
       "      <td>0.0</td>\n",
       "      <td>358</td>\n",
       "      <td>3</td>\n",
       "      <td>1</td>\n",
       "      <td>0.0</td>\n",
       "      <td>0</td>\n",
       "    </tr>\n",
       "    <tr>\n",
       "      <th>1</th>\n",
       "      <td>True</td>\n",
       "      <td>2.0</td>\n",
       "      <td>2.0</td>\n",
       "      <td>2.0</td>\n",
       "      <td>169.0</td>\n",
       "      <td>1</td>\n",
       "      <td>1.0</td>\n",
       "      <td>0.0</td>\n",
       "      <td>219</td>\n",
       "      <td>1</td>\n",
       "      <td>1</td>\n",
       "      <td>1.0</td>\n",
       "      <td>1</td>\n",
       "    </tr>\n",
       "    <tr>\n",
       "      <th>2</th>\n",
       "      <td>True</td>\n",
       "      <td>4.0</td>\n",
       "      <td>0.0</td>\n",
       "      <td>3.0</td>\n",
       "      <td>260.5</td>\n",
       "      <td>1</td>\n",
       "      <td>0.0</td>\n",
       "      <td>1.0</td>\n",
       "      <td>1783</td>\n",
       "      <td>1</td>\n",
       "      <td>2</td>\n",
       "      <td>1.0</td>\n",
       "      <td>2</td>\n",
       "    </tr>\n",
       "  </tbody>\n",
       "</table>\n",
       "</div>"
      ],
      "text/plain": [
       "   has_html  inline_count  avg_inline_script_block  external_count  \\\n",
       "0      True           2.0                      0.0             4.0   \n",
       "1      True           2.0                      2.0             2.0   \n",
       "2      True           4.0                      0.0             3.0   \n",
       "\n",
       "   avg_external_script_block  onclick_count  onload_count  onchange_count  \\\n",
       "0                       64.0              1           1.0             0.0   \n",
       "1                      169.0              1           1.0             0.0   \n",
       "2                      260.5              1           0.0             1.0   \n",
       "\n",
       "   avg_onclick_count  avg_onload_count  avg_onchange_count  \\\n",
       "0                358                 3                   1   \n",
       "1                219                 1                   1   \n",
       "2               1783                 1                   2   \n",
       "\n",
       "   avg_cyc_complexity  library_code_count  \n",
       "0                 0.0                   0  \n",
       "1                 1.0                   1  \n",
       "2                 1.0                   2  "
      ]
     },
     "execution_count": 103,
     "metadata": {},
     "output_type": "execute_result"
    }
   ],
   "source": [
    "X = complexity.iloc[:, 3:16]\n",
    "y = complexity.iloc[:,-1] \n",
    "X.head(3)"
   ]
  },
  {
   "cell_type": "code",
   "execution_count": 104,
   "metadata": {
    "ExecuteTime": {
     "end_time": "2020-04-09T21:02:45.687329Z",
     "start_time": "2020-04-09T21:02:36.844284Z"
    }
   },
   "outputs": [
    {
     "data": {
      "text/plain": [
       "RandomForestRegressor(bootstrap=True, criterion='mse', max_depth=20,\n",
       "                      max_features='auto', max_leaf_nodes=None,\n",
       "                      min_impurity_decrease=0.0, min_impurity_split=None,\n",
       "                      min_samples_leaf=1, min_samples_split=2,\n",
       "                      min_weight_fraction_leaf=0.0, n_estimators=200,\n",
       "                      n_jobs=None, oob_score=False, random_state=42, verbose=0,\n",
       "                      warm_start=False)"
      ]
     },
     "execution_count": 104,
     "metadata": {},
     "output_type": "execute_result"
    }
   ],
   "source": [
    "# Scale the X values\n",
    "XS=scale(X)\n",
    "\n",
    "# Perform a train-test split\n",
    "X_train, X_test, y_train, y_test = train_test_split(XS, y, test_size=0.3, random_state=42)\n",
    "\n",
    "# Create the random forest classifier model with particular parameters\n",
    "random_forest = RandomForestRegressor(n_estimators=200,\n",
    "                                      max_depth=20,\n",
    "                                      random_state=42)\n",
    "\n",
    "# Fit the random forest model to the data\n",
    "random_forest.fit(X_train, y_train)"
   ]
  },
  {
   "cell_type": "code",
   "execution_count": 96,
   "metadata": {
    "ExecuteTime": {
     "end_time": "2020-04-09T21:01:02.501485Z",
     "start_time": "2020-04-09T21:01:02.362148Z"
    }
   },
   "outputs": [
    {
     "data": {
      "text/plain": [
       "0.6646613521857487"
      ]
     },
     "execution_count": 96,
     "metadata": {},
     "output_type": "execute_result"
    }
   ],
   "source": [
    "random_forest.score(X_test, y_test)"
   ]
  },
  {
   "cell_type": "code",
   "execution_count": 105,
   "metadata": {
    "ExecuteTime": {
     "end_time": "2020-04-09T21:03:06.238183Z",
     "start_time": "2020-04-09T21:03:06.093552Z"
    }
   },
   "outputs": [],
   "source": [
    "# Make predictions with our model\n",
    "pred = random_forest.predict(X_test)"
   ]
  },
  {
   "cell_type": "code",
   "execution_count": 107,
   "metadata": {
    "ExecuteTime": {
     "end_time": "2020-04-09T21:03:15.494897Z",
     "start_time": "2020-04-09T21:03:15.470438Z"
    }
   },
   "outputs": [
    {
     "name": "stdout",
     "output_type": "stream",
     "text": [
      "[[4976  303]\n",
      " [ 302 1689]]\n"
     ]
    }
   ],
   "source": [
    "# Example of a confusion matrix in Python\n",
    "y_test = y_test\n",
    "pred = np.around(pred)\n",
    "\n",
    "results = confusion_matrix(y_test, pred)\n",
    "print(results)"
   ]
  },
  {
   "cell_type": "code",
   "execution_count": 108,
   "metadata": {
    "ExecuteTime": {
     "end_time": "2020-04-09T21:03:25.499128Z",
     "start_time": "2020-04-09T21:03:25.493161Z"
    }
   },
   "outputs": [
    {
     "data": {
      "text/plain": [
       "0.9167812929848693"
      ]
     },
     "execution_count": 108,
     "metadata": {},
     "output_type": "execute_result"
    }
   ],
   "source": [
    "accuracy_score( y_test, pred)"
   ]
  },
  {
   "cell_type": "code",
   "execution_count": 109,
   "metadata": {
    "ExecuteTime": {
     "end_time": "2020-04-09T21:03:26.780661Z",
     "start_time": "2020-04-09T21:03:26.764669Z"
    }
   },
   "outputs": [
    {
     "name": "stdout",
     "output_type": "stream",
     "text": [
      "              precision    recall  f1-score   support\n",
      "\n",
      "           0       0.94      0.94      0.94      5279\n",
      "           1       0.85      0.85      0.85      1991\n",
      "\n",
      "    accuracy                           0.92      7270\n",
      "   macro avg       0.90      0.90      0.90      7270\n",
      "weighted avg       0.92      0.92      0.92      7270\n",
      "\n"
     ]
    }
   ],
   "source": [
    "print(classification_report(y_test,pred))"
   ]
  }
 ],
 "metadata": {
  "kernelspec": {
   "display_name": "Python 3",
   "language": "python",
   "name": "python3"
  },
  "language_info": {
   "codemirror_mode": {
    "name": "ipython",
    "version": 3
   },
   "file_extension": ".py",
   "mimetype": "text/x-python",
   "name": "python",
   "nbconvert_exporter": "python",
   "pygments_lexer": "ipython3",
   "version": "3.7.3"
  },
  "toc": {
   "base_numbering": 1,
   "nav_menu": {},
   "number_sections": true,
   "sideBar": true,
   "skip_h1_title": false,
   "title_cell": "Table of Contents",
   "title_sidebar": "Contents",
   "toc_cell": false,
   "toc_position": {},
   "toc_section_display": true,
   "toc_window_display": false
  },
  "varInspector": {
   "cols": {
    "lenName": 16,
    "lenType": 16,
    "lenVar": 40
   },
   "kernels_config": {
    "python": {
     "delete_cmd_postfix": "",
     "delete_cmd_prefix": "del ",
     "library": "var_list.py",
     "varRefreshCmd": "print(var_dic_list())"
    },
    "r": {
     "delete_cmd_postfix": ") ",
     "delete_cmd_prefix": "rm(",
     "library": "var_list.r",
     "varRefreshCmd": "cat(var_dic_list()) "
    }
   },
   "types_to_exclude": [
    "module",
    "function",
    "builtin_function_or_method",
    "instance",
    "_Feature"
   ],
   "window_display": false
  }
 },
 "nbformat": 4,
 "nbformat_minor": 2
}
