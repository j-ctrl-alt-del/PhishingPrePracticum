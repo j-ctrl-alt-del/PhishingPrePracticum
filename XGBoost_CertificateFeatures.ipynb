{
 "cells": [
  {
   "cell_type": "code",
   "execution_count": 47,
   "metadata": {
    "ExecuteTime": {
     "end_time": "2020-02-26T15:55:12.684402Z",
     "start_time": "2020-02-26T15:55:12.668812Z"
    }
   },
   "outputs": [],
   "source": [
    "# Overall Stats:\n",
    "# All Variables: 92.17%\n",
    "# has_cert: 84.2%\n",
    "# longevity: 86.98%\n",
    "# valid_cert: 84.2%\n",
    "# cert_age: 87.7%\n",
    "# multi_mtn: 84.2%"
   ]
  },
  {
   "cell_type": "code",
   "execution_count": 48,
   "metadata": {
    "ExecuteTime": {
     "end_time": "2020-02-26T15:55:12.700026Z",
     "start_time": "2020-02-26T15:55:12.684402Z"
    }
   },
   "outputs": [],
   "source": [
    "# The below was heavily inspired by\n",
    "# https://machinelearningmastery.com/develop-first-xgboost-model-python-scikit-learn/\n",
    "# and Damien's previous work on developing a Random Forrest Classifier. \n",
    "\n",
    "import pandas as pd # Needed for iloc.\n",
    "from numpy import loadtxt\n",
    "from xgboost import XGBClassifier\n",
    "from sklearn.model_selection import train_test_split\n",
    "from sklearn.metrics import accuracy_score"
   ]
  },
  {
   "cell_type": "code",
   "execution_count": 49,
   "metadata": {
    "ExecuteTime": {
     "end_time": "2020-02-26T15:55:14.387224Z",
     "start_time": "2020-02-26T15:55:12.700026Z"
    }
   },
   "outputs": [
    {
     "data": {
      "text/html": [
       "<div>\n",
       "<style scoped>\n",
       "    .dataframe tbody tr th:only-of-type {\n",
       "        vertical-align: middle;\n",
       "    }\n",
       "\n",
       "    .dataframe tbody tr th {\n",
       "        vertical-align: top;\n",
       "    }\n",
       "\n",
       "    .dataframe thead th {\n",
       "        text-align: right;\n",
       "    }\n",
       "</style>\n",
       "<table border=\"1\" class=\"dataframe\">\n",
       "  <thead>\n",
       "    <tr style=\"text-align: right;\">\n",
       "      <th></th>\n",
       "      <th>domain</th>\n",
       "      <th>has_cert</th>\n",
       "      <th>longetivity</th>\n",
       "      <th>valid_cert</th>\n",
       "      <th>extended_validation</th>\n",
       "      <th>cert_age</th>\n",
       "      <th>multi_mtn</th>\n",
       "      <th>type</th>\n",
       "      <th>globalsign nv-sa</th>\n",
       "      <th>google inc</th>\n",
       "      <th>...</th>\n",
       "      <th>fiorettigioielli.it</th>\n",
       "      <th>wponabudget.com</th>\n",
       "      <th>reviews-by.ml</th>\n",
       "      <th>sewaknepal.org</th>\n",
       "      <th>watchvslivestreamtv.club</th>\n",
       "      <th>nehanaxane.ga</th>\n",
       "      <th>alexis-collins10.tk</th>\n",
       "      <th>laborindonesia.com</th>\n",
       "      <th>egdemo.info</th>\n",
       "      <th>theflatbellydrink.com</th>\n",
       "    </tr>\n",
       "  </thead>\n",
       "  <tbody>\n",
       "    <tr>\n",
       "      <td>0</td>\n",
       "      <td>01100111011001010110010101101011.info</td>\n",
       "      <td>True</td>\n",
       "      <td>1098</td>\n",
       "      <td>True</td>\n",
       "      <td>False</td>\n",
       "      <td>305</td>\n",
       "      <td>False</td>\n",
       "      <td>alexa</td>\n",
       "      <td>0</td>\n",
       "      <td>0</td>\n",
       "      <td>...</td>\n",
       "      <td>0</td>\n",
       "      <td>0</td>\n",
       "      <td>0</td>\n",
       "      <td>0</td>\n",
       "      <td>0</td>\n",
       "      <td>0</td>\n",
       "      <td>0</td>\n",
       "      <td>0</td>\n",
       "      <td>0</td>\n",
       "      <td>0</td>\n",
       "    </tr>\n",
       "    <tr>\n",
       "      <td>1</td>\n",
       "      <td>012global.com</td>\n",
       "      <td>True</td>\n",
       "      <td>707</td>\n",
       "      <td>True</td>\n",
       "      <td>False</td>\n",
       "      <td>266</td>\n",
       "      <td>True</td>\n",
       "      <td>alexa</td>\n",
       "      <td>0</td>\n",
       "      <td>0</td>\n",
       "      <td>...</td>\n",
       "      <td>0</td>\n",
       "      <td>0</td>\n",
       "      <td>0</td>\n",
       "      <td>0</td>\n",
       "      <td>0</td>\n",
       "      <td>0</td>\n",
       "      <td>0</td>\n",
       "      <td>0</td>\n",
       "      <td>0</td>\n",
       "      <td>0</td>\n",
       "    </tr>\n",
       "    <tr>\n",
       "      <td>2</td>\n",
       "      <td>09017wsa.000webhostapp.com</td>\n",
       "      <td>True</td>\n",
       "      <td>1095</td>\n",
       "      <td>True</td>\n",
       "      <td>False</td>\n",
       "      <td>478</td>\n",
       "      <td>False</td>\n",
       "      <td>phish</td>\n",
       "      <td>0</td>\n",
       "      <td>0</td>\n",
       "      <td>...</td>\n",
       "      <td>0</td>\n",
       "      <td>0</td>\n",
       "      <td>0</td>\n",
       "      <td>0</td>\n",
       "      <td>0</td>\n",
       "      <td>0</td>\n",
       "      <td>0</td>\n",
       "      <td>0</td>\n",
       "      <td>0</td>\n",
       "      <td>0</td>\n",
       "    </tr>\n",
       "    <tr>\n",
       "      <td>3</td>\n",
       "      <td>0boticario.gq</td>\n",
       "      <td>True</td>\n",
       "      <td>190</td>\n",
       "      <td>True</td>\n",
       "      <td>False</td>\n",
       "      <td>2</td>\n",
       "      <td>True</td>\n",
       "      <td>phish</td>\n",
       "      <td>0</td>\n",
       "      <td>0</td>\n",
       "      <td>...</td>\n",
       "      <td>0</td>\n",
       "      <td>0</td>\n",
       "      <td>0</td>\n",
       "      <td>0</td>\n",
       "      <td>0</td>\n",
       "      <td>0</td>\n",
       "      <td>0</td>\n",
       "      <td>0</td>\n",
       "      <td>0</td>\n",
       "      <td>0</td>\n",
       "    </tr>\n",
       "    <tr>\n",
       "      <td>4</td>\n",
       "      <td>0day.kiev.ua</td>\n",
       "      <td>True</td>\n",
       "      <td>89</td>\n",
       "      <td>True</td>\n",
       "      <td>False</td>\n",
       "      <td>25</td>\n",
       "      <td>False</td>\n",
       "      <td>alexa</td>\n",
       "      <td>0</td>\n",
       "      <td>0</td>\n",
       "      <td>...</td>\n",
       "      <td>0</td>\n",
       "      <td>0</td>\n",
       "      <td>0</td>\n",
       "      <td>0</td>\n",
       "      <td>0</td>\n",
       "      <td>0</td>\n",
       "      <td>0</td>\n",
       "      <td>0</td>\n",
       "      <td>0</td>\n",
       "      <td>0</td>\n",
       "    </tr>\n",
       "  </tbody>\n",
       "</table>\n",
       "<p>5 rows × 2208 columns</p>\n",
       "</div>"
      ],
      "text/plain": [
       "                                  domain  has_cert  longetivity  valid_cert  \\\n",
       "0  01100111011001010110010101101011.info      True         1098        True   \n",
       "1                          012global.com      True          707        True   \n",
       "2             09017wsa.000webhostapp.com      True         1095        True   \n",
       "3                          0boticario.gq      True          190        True   \n",
       "4                           0day.kiev.ua      True           89        True   \n",
       "\n",
       "   extended_validation  cert_age  multi_mtn   type  globalsign nv-sa  \\\n",
       "0                False       305      False  alexa                 0   \n",
       "1                False       266       True  alexa                 0   \n",
       "2                False       478      False  phish                 0   \n",
       "3                False         2       True  phish                 0   \n",
       "4                False        25      False  alexa                 0   \n",
       "\n",
       "   google inc  ...  fiorettigioielli.it  wponabudget.com  reviews-by.ml  \\\n",
       "0           0  ...                    0                0              0   \n",
       "1           0  ...                    0                0              0   \n",
       "2           0  ...                    0                0              0   \n",
       "3           0  ...                    0                0              0   \n",
       "4           0  ...                    0                0              0   \n",
       "\n",
       "   sewaknepal.org  watchvslivestreamtv.club  nehanaxane.ga  \\\n",
       "0               0                         0              0   \n",
       "1               0                         0              0   \n",
       "2               0                         0              0   \n",
       "3               0                         0              0   \n",
       "4               0                         0              0   \n",
       "\n",
       "   alexis-collins10.tk  laborindonesia.com  egdemo.info  theflatbellydrink.com  \n",
       "0                    0                   0            0                      0  \n",
       "1                    0                   0            0                      0  \n",
       "2                    0                   0            0                      0  \n",
       "3                    0                   0            0                      0  \n",
       "4                    0                   0            0                      0  \n",
       "\n",
       "[5 rows x 2208 columns]"
      ]
     },
     "execution_count": 49,
     "metadata": {},
     "output_type": "execute_result"
    }
   ],
   "source": [
    "# Reading the data from the provided csv. \n",
    "rawdata = pd.read_csv(r\"C:\\Users\\jft2456\\Desktop\\PrePracticum\\certificate_features_consolidated.csv\")\n",
    "rawdata.head()"
   ]
  },
  {
   "cell_type": "code",
   "execution_count": 50,
   "metadata": {
    "ExecuteTime": {
     "end_time": "2020-02-26T15:55:14.402751Z",
     "start_time": "2020-02-26T15:55:14.387224Z"
    }
   },
   "outputs": [],
   "source": [
    "# Changing the rawdata type so that we receive true/false values in the reshaped array. \n",
    "# False values are known phishing URLs.  True values are known good values from Alexa Internet Rankings. \n",
    "rawdata.type = (rawdata.type == \"alexa\")"
   ]
  },
  {
   "cell_type": "code",
   "execution_count": 51,
   "metadata": {
    "ExecuteTime": {
     "end_time": "2020-02-26T15:55:14.434091Z",
     "start_time": "2020-02-26T15:55:14.402751Z"
    }
   },
   "outputs": [
    {
     "data": {
      "text/html": [
       "<div>\n",
       "<style scoped>\n",
       "    .dataframe tbody tr th:only-of-type {\n",
       "        vertical-align: middle;\n",
       "    }\n",
       "\n",
       "    .dataframe tbody tr th {\n",
       "        vertical-align: top;\n",
       "    }\n",
       "\n",
       "    .dataframe thead th {\n",
       "        text-align: right;\n",
       "    }\n",
       "</style>\n",
       "<table border=\"1\" class=\"dataframe\">\n",
       "  <thead>\n",
       "    <tr style=\"text-align: right;\">\n",
       "      <th></th>\n",
       "      <th>domain</th>\n",
       "      <th>has_cert</th>\n",
       "      <th>longetivity</th>\n",
       "      <th>valid_cert</th>\n",
       "      <th>extended_validation</th>\n",
       "      <th>cert_age</th>\n",
       "      <th>multi_mtn</th>\n",
       "      <th>type</th>\n",
       "      <th>globalsign nv-sa</th>\n",
       "      <th>google inc</th>\n",
       "      <th>...</th>\n",
       "      <th>fiorettigioielli.it</th>\n",
       "      <th>wponabudget.com</th>\n",
       "      <th>reviews-by.ml</th>\n",
       "      <th>sewaknepal.org</th>\n",
       "      <th>watchvslivestreamtv.club</th>\n",
       "      <th>nehanaxane.ga</th>\n",
       "      <th>alexis-collins10.tk</th>\n",
       "      <th>laborindonesia.com</th>\n",
       "      <th>egdemo.info</th>\n",
       "      <th>theflatbellydrink.com</th>\n",
       "    </tr>\n",
       "  </thead>\n",
       "  <tbody>\n",
       "    <tr>\n",
       "      <td>0</td>\n",
       "      <td>01100111011001010110010101101011.info</td>\n",
       "      <td>True</td>\n",
       "      <td>1098</td>\n",
       "      <td>True</td>\n",
       "      <td>False</td>\n",
       "      <td>305</td>\n",
       "      <td>False</td>\n",
       "      <td>True</td>\n",
       "      <td>0</td>\n",
       "      <td>0</td>\n",
       "      <td>...</td>\n",
       "      <td>0</td>\n",
       "      <td>0</td>\n",
       "      <td>0</td>\n",
       "      <td>0</td>\n",
       "      <td>0</td>\n",
       "      <td>0</td>\n",
       "      <td>0</td>\n",
       "      <td>0</td>\n",
       "      <td>0</td>\n",
       "      <td>0</td>\n",
       "    </tr>\n",
       "    <tr>\n",
       "      <td>1</td>\n",
       "      <td>012global.com</td>\n",
       "      <td>True</td>\n",
       "      <td>707</td>\n",
       "      <td>True</td>\n",
       "      <td>False</td>\n",
       "      <td>266</td>\n",
       "      <td>True</td>\n",
       "      <td>True</td>\n",
       "      <td>0</td>\n",
       "      <td>0</td>\n",
       "      <td>...</td>\n",
       "      <td>0</td>\n",
       "      <td>0</td>\n",
       "      <td>0</td>\n",
       "      <td>0</td>\n",
       "      <td>0</td>\n",
       "      <td>0</td>\n",
       "      <td>0</td>\n",
       "      <td>0</td>\n",
       "      <td>0</td>\n",
       "      <td>0</td>\n",
       "    </tr>\n",
       "    <tr>\n",
       "      <td>2</td>\n",
       "      <td>09017wsa.000webhostapp.com</td>\n",
       "      <td>True</td>\n",
       "      <td>1095</td>\n",
       "      <td>True</td>\n",
       "      <td>False</td>\n",
       "      <td>478</td>\n",
       "      <td>False</td>\n",
       "      <td>False</td>\n",
       "      <td>0</td>\n",
       "      <td>0</td>\n",
       "      <td>...</td>\n",
       "      <td>0</td>\n",
       "      <td>0</td>\n",
       "      <td>0</td>\n",
       "      <td>0</td>\n",
       "      <td>0</td>\n",
       "      <td>0</td>\n",
       "      <td>0</td>\n",
       "      <td>0</td>\n",
       "      <td>0</td>\n",
       "      <td>0</td>\n",
       "    </tr>\n",
       "    <tr>\n",
       "      <td>3</td>\n",
       "      <td>0boticario.gq</td>\n",
       "      <td>True</td>\n",
       "      <td>190</td>\n",
       "      <td>True</td>\n",
       "      <td>False</td>\n",
       "      <td>2</td>\n",
       "      <td>True</td>\n",
       "      <td>False</td>\n",
       "      <td>0</td>\n",
       "      <td>0</td>\n",
       "      <td>...</td>\n",
       "      <td>0</td>\n",
       "      <td>0</td>\n",
       "      <td>0</td>\n",
       "      <td>0</td>\n",
       "      <td>0</td>\n",
       "      <td>0</td>\n",
       "      <td>0</td>\n",
       "      <td>0</td>\n",
       "      <td>0</td>\n",
       "      <td>0</td>\n",
       "    </tr>\n",
       "    <tr>\n",
       "      <td>4</td>\n",
       "      <td>0day.kiev.ua</td>\n",
       "      <td>True</td>\n",
       "      <td>89</td>\n",
       "      <td>True</td>\n",
       "      <td>False</td>\n",
       "      <td>25</td>\n",
       "      <td>False</td>\n",
       "      <td>True</td>\n",
       "      <td>0</td>\n",
       "      <td>0</td>\n",
       "      <td>...</td>\n",
       "      <td>0</td>\n",
       "      <td>0</td>\n",
       "      <td>0</td>\n",
       "      <td>0</td>\n",
       "      <td>0</td>\n",
       "      <td>0</td>\n",
       "      <td>0</td>\n",
       "      <td>0</td>\n",
       "      <td>0</td>\n",
       "      <td>0</td>\n",
       "    </tr>\n",
       "  </tbody>\n",
       "</table>\n",
       "<p>5 rows × 2208 columns</p>\n",
       "</div>"
      ],
      "text/plain": [
       "                                  domain  has_cert  longetivity  valid_cert  \\\n",
       "0  01100111011001010110010101101011.info      True         1098        True   \n",
       "1                          012global.com      True          707        True   \n",
       "2             09017wsa.000webhostapp.com      True         1095        True   \n",
       "3                          0boticario.gq      True          190        True   \n",
       "4                           0day.kiev.ua      True           89        True   \n",
       "\n",
       "   extended_validation  cert_age  multi_mtn   type  globalsign nv-sa  \\\n",
       "0                False       305      False   True                 0   \n",
       "1                False       266       True   True                 0   \n",
       "2                False       478      False  False                 0   \n",
       "3                False         2       True  False                 0   \n",
       "4                False        25      False   True                 0   \n",
       "\n",
       "   google inc  ...  fiorettigioielli.it  wponabudget.com  reviews-by.ml  \\\n",
       "0           0  ...                    0                0              0   \n",
       "1           0  ...                    0                0              0   \n",
       "2           0  ...                    0                0              0   \n",
       "3           0  ...                    0                0              0   \n",
       "4           0  ...                    0                0              0   \n",
       "\n",
       "   sewaknepal.org  watchvslivestreamtv.club  nehanaxane.ga  \\\n",
       "0               0                         0              0   \n",
       "1               0                         0              0   \n",
       "2               0                         0              0   \n",
       "3               0                         0              0   \n",
       "4               0                         0              0   \n",
       "\n",
       "   alexis-collins10.tk  laborindonesia.com  egdemo.info  theflatbellydrink.com  \n",
       "0                    0                   0            0                      0  \n",
       "1                    0                   0            0                      0  \n",
       "2                    0                   0            0                      0  \n",
       "3                    0                   0            0                      0  \n",
       "4                    0                   0            0                      0  \n",
       "\n",
       "[5 rows x 2208 columns]"
      ]
     },
     "execution_count": 51,
     "metadata": {},
     "output_type": "execute_result"
    }
   ],
   "source": [
    "rawdata.head()"
   ]
  },
  {
   "cell_type": "code",
   "execution_count": 52,
   "metadata": {
    "ExecuteTime": {
     "end_time": "2020-02-26T15:55:14.449614Z",
     "start_time": "2020-02-26T15:55:14.434091Z"
    }
   },
   "outputs": [
    {
     "data": {
      "text/plain": [
       "array([ True,  True, False, ...,  True,  True,  True])"
      ]
     },
     "execution_count": 52,
     "metadata": {},
     "output_type": "execute_result"
    }
   ],
   "source": [
    "# Selecting the desired rows (excluding site, scrape_time, and path).\n",
    "X = rawdata.iloc[:,2:7].values  # Dependent variables. \n",
    "y = rawdata.iloc[:,7:8].values  # Response variable (aleax, or not phish, and phish). \n",
    "\n",
    "# Reshaping into a flat array to allow processing.\n",
    "y.reshape((8398,))"
   ]
  },
  {
   "cell_type": "code",
   "execution_count": 53,
   "metadata": {
    "ExecuteTime": {
     "end_time": "2020-02-26T15:55:14.465235Z",
     "start_time": "2020-02-26T15:55:14.449614Z"
    }
   },
   "outputs": [
    {
     "data": {
      "text/plain": [
       "(8398, 1)"
      ]
     },
     "execution_count": 53,
     "metadata": {},
     "output_type": "execute_result"
    }
   ],
   "source": [
    "y.shape"
   ]
  },
  {
   "cell_type": "code",
   "execution_count": 54,
   "metadata": {
    "ExecuteTime": {
     "end_time": "2020-02-26T15:55:14.652785Z",
     "start_time": "2020-02-26T15:55:14.465235Z"
    }
   },
   "outputs": [
    {
     "name": "stdout",
     "output_type": "stream",
     "text": [
      "Accuracy: 92.17%\n"
     ]
    },
    {
     "name": "stderr",
     "output_type": "stream",
     "text": [
      "C:\\Users\\jft2456\\AppData\\Local\\Continuum\\anaconda3\\lib\\site-packages\\sklearn\\preprocessing\\label.py:219: DataConversionWarning: A column-vector y was passed when a 1d array was expected. Please change the shape of y to (n_samples, ), for example using ravel().\n",
      "  y = column_or_1d(y, warn=True)\n",
      "C:\\Users\\jft2456\\AppData\\Local\\Continuum\\anaconda3\\lib\\site-packages\\sklearn\\preprocessing\\label.py:252: DataConversionWarning: A column-vector y was passed when a 1d array was expected. Please change the shape of y to (n_samples, ), for example using ravel().\n",
      "  y = column_or_1d(y, warn=True)\n"
     ]
    }
   ],
   "source": [
    "# Splitting the training and testing data sets. \n",
    "seed = 7\n",
    "test_size = 0.33\n",
    "X_train, X_test, y_train, y_test = train_test_split(X, y, test_size=test_size, random_state=seed)\n",
    "\n",
    "# Fitting the model. \n",
    "model = XGBClassifier()\n",
    "model.fit(X_train, y_train)\n",
    "\n",
    "# Making predictions for the test data. \n",
    "y_pred = model.predict(X_test)\n",
    "predictions = [round(value) for value in y_pred]\n",
    "\n",
    "# Evaluating predictions for the test data. \n",
    "accuracy = accuracy_score(y_test, predictions)\n",
    "print(\"Accuracy: %.2f%%\" % (accuracy * 100.0))"
   ]
  },
  {
   "cell_type": "code",
   "execution_count": 55,
   "metadata": {
    "ExecuteTime": {
     "end_time": "2020-02-26T15:55:14.668318Z",
     "start_time": "2020-02-26T15:55:14.652785Z"
    }
   },
   "outputs": [],
   "source": [
    "# NOTE: The colums in the wc.csv file were moved to allow values in the same feature category to be considered together. \n",
    "# No content was changed. "
   ]
  },
  {
   "cell_type": "code",
   "execution_count": 83,
   "metadata": {
    "ExecuteTime": {
     "end_time": "2020-02-26T17:33:43.699172Z",
     "start_time": "2020-02-26T17:33:43.687199Z"
    }
   },
   "outputs": [
    {
     "data": {
      "text/plain": [
       "array([ True,  True, False, ...,  True,  True,  True])"
      ]
     },
     "execution_count": 83,
     "metadata": {},
     "output_type": "execute_result"
    }
   ],
   "source": [
    "# has_cert \n",
    "\n",
    "\n",
    "# Selecting the desired row (only avg_cyc_complexity).\n",
    "X = rawdata.iloc[:,1:2].values\n",
    "y = rawdata.iloc[:,7:8].values\n",
    "\n",
    "# Reshaping into a flat array to allow processing.\n",
    "y.reshape((8398,))"
   ]
  },
  {
   "cell_type": "code",
   "execution_count": 84,
   "metadata": {
    "ExecuteTime": {
     "end_time": "2020-02-26T17:33:45.350489Z",
     "start_time": "2020-02-26T17:33:45.224852Z"
    }
   },
   "outputs": [
    {
     "name": "stdout",
     "output_type": "stream",
     "text": [
      "Accuracy: 84.20%\n"
     ]
    }
   ],
   "source": [
    "# Splitting the training and testing data sets. \n",
    "seed = 7\n",
    "test_size = 0.33\n",
    "X_train, X_test, y_train, y_test = train_test_split(X, y, test_size=test_size, random_state=seed)\n",
    "\n",
    "# Fitting the model. \n",
    "model = XGBClassifier()\n",
    "model.fit(X_train, y_train)\n",
    "\n",
    "# Making predictions for the test data. \n",
    "y_pred = model.predict(X_test)\n",
    "predictions = [round(value) for value in y_pred]\n",
    "\n",
    "# Evaluating predictions for the test data. \n",
    "accuracy = accuracy_score(y_test, predictions)\n",
    "print(\"Accuracy: %.2f%%\" % (accuracy * 100.0))"
   ]
  },
  {
   "cell_type": "code",
   "execution_count": 85,
   "metadata": {
    "ExecuteTime": {
     "end_time": "2020-02-26T17:33:46.766709Z",
     "start_time": "2020-02-26T17:33:46.754688Z"
    }
   },
   "outputs": [
    {
     "data": {
      "text/plain": [
       "array([ True,  True, False, ...,  True,  True,  True])"
      ]
     },
     "execution_count": 85,
     "metadata": {},
     "output_type": "execute_result"
    }
   ],
   "source": [
    "# longevity \n",
    "\n",
    "\n",
    "# Selecting the desired rows (only external_count and avg_external_script_block).\n",
    "X = rawdata.iloc[:,2:3].values\n",
    "y = rawdata.iloc[:,7:8].values\n",
    "\n",
    "# Reshaping into a flat array to allow processing.\n",
    "y.reshape((8398,))"
   ]
  },
  {
   "cell_type": "code",
   "execution_count": 86,
   "metadata": {
    "ExecuteTime": {
     "end_time": "2020-02-26T17:33:48.416584Z",
     "start_time": "2020-02-26T17:33:48.222125Z"
    }
   },
   "outputs": [
    {
     "name": "stdout",
     "output_type": "stream",
     "text": [
      "Accuracy: 86.98%\n"
     ]
    }
   ],
   "source": [
    "# Splitting the training and testing data sets. \n",
    "seed = 7\n",
    "test_size = 0.33\n",
    "X_train, X_test, y_train, y_test = train_test_split(X, y, test_size=test_size, random_state=seed)\n",
    "\n",
    "# Fitting the model. \n",
    "model = XGBClassifier()\n",
    "model.fit(X_train, y_train)\n",
    "\n",
    "# Making predictions for the test data. \n",
    "y_pred = model.predict(X_test)\n",
    "predictions = [round(value) for value in y_pred]\n",
    "\n",
    "# Evaluating predictions for the test data. \n",
    "accuracy = accuracy_score(y_test, predictions)\n",
    "print(\"Accuracy: %.2f%%\" % (accuracy * 100.0))"
   ]
  },
  {
   "cell_type": "code",
   "execution_count": 87,
   "metadata": {
    "ExecuteTime": {
     "end_time": "2020-02-26T17:33:50.033274Z",
     "start_time": "2020-02-26T17:33:50.018493Z"
    }
   },
   "outputs": [
    {
     "data": {
      "text/plain": [
       "array([ True,  True, False, ...,  True,  True,  True])"
      ]
     },
     "execution_count": 87,
     "metadata": {},
     "output_type": "execute_result"
    }
   ],
   "source": [
    "# valid_cert \n",
    "\n",
    "\n",
    "# Selecting the desired row (only library_code_count).\n",
    "X = rawdata.iloc[:,3:4].values\n",
    "y = rawdata.iloc[:,7:8].values\n",
    "\n",
    "# Reshaping into a flat array to allow processing.\n",
    "y.reshape((8398,))"
   ]
  },
  {
   "cell_type": "code",
   "execution_count": 88,
   "metadata": {
    "ExecuteTime": {
     "end_time": "2020-02-26T17:33:51.650630Z",
     "start_time": "2020-02-26T17:33:51.496580Z"
    }
   },
   "outputs": [
    {
     "name": "stdout",
     "output_type": "stream",
     "text": [
      "Accuracy: 84.20%\n"
     ]
    }
   ],
   "source": [
    "# Splitting the training and testing data sets. \n",
    "seed = 7\n",
    "test_size = 0.33\n",
    "X_train, X_test, y_train, y_test = train_test_split(X, y, test_size=test_size, random_state=seed)\n",
    "\n",
    "# Fitting the model. \n",
    "model = XGBClassifier()\n",
    "model.fit(X_train, y_train)\n",
    "\n",
    "# Making predictions for the test data. \n",
    "y_pred = model.predict(X_test)\n",
    "predictions = [round(value) for value in y_pred]\n",
    "\n",
    "# Evaluating predictions for the test data. \n",
    "accuracy = accuracy_score(y_test, predictions)\n",
    "print(\"Accuracy: %.2f%%\" % (accuracy * 100.0))"
   ]
  },
  {
   "cell_type": "code",
   "execution_count": 89,
   "metadata": {
    "ExecuteTime": {
     "end_time": "2020-02-26T17:33:53.065257Z",
     "start_time": "2020-02-26T17:33:53.046961Z"
    }
   },
   "outputs": [
    {
     "data": {
      "text/plain": [
       "array([ True,  True, False, ...,  True,  True,  True])"
      ]
     },
     "execution_count": 89,
     "metadata": {},
     "output_type": "execute_result"
    }
   ],
   "source": [
    "# extended_validation\n",
    "\n",
    "\n",
    "# Selecting the desired rows (only inline_count and avg_inline_script_block).\n",
    "X = rawdata.iloc[:,4:5].values\n",
    "y = rawdata.iloc[:,7:8].values\n",
    "\n",
    "# Reshaping into a flat array to allow processing.\n",
    "y.reshape((8398,))"
   ]
  },
  {
   "cell_type": "code",
   "execution_count": 90,
   "metadata": {
    "ExecuteTime": {
     "end_time": "2020-02-26T17:33:54.665033Z",
     "start_time": "2020-02-26T17:33:54.506089Z"
    }
   },
   "outputs": [
    {
     "name": "stdout",
     "output_type": "stream",
     "text": [
      "Accuracy: 84.20%\n"
     ]
    }
   ],
   "source": [
    "# Splitting the training and testing data sets. \n",
    "seed = 7\n",
    "test_size = 0.33\n",
    "X_train, X_test, y_train, y_test = train_test_split(X, y, test_size=test_size, random_state=seed)\n",
    "\n",
    "# Fitting the model. \n",
    "model = XGBClassifier()\n",
    "model.fit(X_train, y_train)\n",
    "\n",
    "# Making predictions for the test data. \n",
    "y_pred = model.predict(X_test)\n",
    "predictions = [round(value) for value in y_pred]\n",
    "\n",
    "# Evaluating predictions for the test data. \n",
    "accuracy = accuracy_score(y_test, predictions)\n",
    "print(\"Accuracy: %.2f%%\" % (accuracy * 100.0))"
   ]
  },
  {
   "cell_type": "code",
   "execution_count": 91,
   "metadata": {
    "ExecuteTime": {
     "end_time": "2020-02-26T17:33:56.080977Z",
     "start_time": "2020-02-26T17:33:56.070094Z"
    }
   },
   "outputs": [
    {
     "data": {
      "text/plain": [
       "array([ True,  True, False, ...,  True,  True,  True])"
      ]
     },
     "execution_count": 91,
     "metadata": {},
     "output_type": "execute_result"
    }
   ],
   "source": [
    "# cert_age\n",
    "\n",
    "\n",
    "# Selecting the desired rows (only inline_count and avg_inline_script_block).\n",
    "X = rawdata.iloc[:,5:6].values\n",
    "y = rawdata.iloc[:,7:8].values\n",
    "\n",
    "# Reshaping into a flat array to allow processing.\n",
    "y.reshape((8398,))"
   ]
  },
  {
   "cell_type": "code",
   "execution_count": 92,
   "metadata": {
    "ExecuteTime": {
     "end_time": "2020-02-26T17:33:59.215358Z",
     "start_time": "2020-02-26T17:33:59.009475Z"
    }
   },
   "outputs": [
    {
     "name": "stdout",
     "output_type": "stream",
     "text": [
      "Accuracy: 87.70%\n"
     ]
    }
   ],
   "source": [
    "# Splitting the training and testing data sets. \n",
    "seed = 7\n",
    "test_size = 0.33\n",
    "X_train, X_test, y_train, y_test = train_test_split(X, y, test_size=test_size, random_state=seed)\n",
    "\n",
    "# Fitting the model. \n",
    "model = XGBClassifier()\n",
    "model.fit(X_train, y_train)\n",
    "\n",
    "# Making predictions for the test data. \n",
    "y_pred = model.predict(X_test)\n",
    "predictions = [round(value) for value in y_pred]\n",
    "\n",
    "# Evaluating predictions for the test data. \n",
    "accuracy = accuracy_score(y_test, predictions)\n",
    "print(\"Accuracy: %.2f%%\" % (accuracy * 100.0))"
   ]
  },
  {
   "cell_type": "code",
   "execution_count": 93,
   "metadata": {
    "ExecuteTime": {
     "end_time": "2020-02-26T17:34:02.311940Z",
     "start_time": "2020-02-26T17:34:02.288244Z"
    }
   },
   "outputs": [
    {
     "data": {
      "text/plain": [
       "array([ True,  True, False, ...,  True,  True,  True])"
      ]
     },
     "execution_count": 93,
     "metadata": {},
     "output_type": "execute_result"
    }
   ],
   "source": [
    "# multi_mtn (Valid on multiple 2-level domain names)\n",
    "\n",
    "\n",
    "# Selecting the desired rows (only inline_count and avg_inline_script_block).\n",
    "X = rawdata.iloc[:,6:7].values\n",
    "y = rawdata.iloc[:,7:8].values\n",
    "\n",
    "# Reshaping into a flat array to allow processing.\n",
    "y.reshape((8398,))"
   ]
  },
  {
   "cell_type": "code",
   "execution_count": 94,
   "metadata": {
    "ExecuteTime": {
     "end_time": "2020-02-26T17:34:20.595358Z",
     "start_time": "2020-02-26T17:34:20.436538Z"
    }
   },
   "outputs": [
    {
     "name": "stdout",
     "output_type": "stream",
     "text": [
      "Accuracy: 84.20%\n"
     ]
    }
   ],
   "source": [
    "# Splitting the training and testing data sets. \n",
    "seed = 7\n",
    "test_size = 0.33\n",
    "X_train, X_test, y_train, y_test = train_test_split(X, y, test_size=test_size, random_state=seed)\n",
    "\n",
    "# Fitting the model. \n",
    "model = XGBClassifier()\n",
    "model.fit(X_train, y_train)\n",
    "\n",
    "# Making predictions for the test data. \n",
    "y_pred = model.predict(X_test)\n",
    "predictions = [round(value) for value in y_pred]\n",
    "\n",
    "# Evaluating predictions for the test data. \n",
    "accuracy = accuracy_score(y_test, predictions)\n",
    "print(\"Accuracy: %.2f%%\" % (accuracy * 100.0))"
   ]
  },
  {
   "cell_type": "code",
   "execution_count": 66,
   "metadata": {
    "ExecuteTime": {
     "end_time": "2020-02-26T15:55:15.308789Z",
     "start_time": "2020-02-26T15:55:15.293265Z"
    }
   },
   "outputs": [],
   "source": [
    "# Function for producing logarithmic scales of inputted phishing data. \n",
    "def figure_1(y,X):\n",
    "    \n",
    "    import numpy as np\n",
    "    import matplotlib.pyplot as plt\n",
    "    from matplotlib.ticker import MultipleLocator, FormatStrFormatter\n",
    "    \n",
    "    # Creating lists to store values for boxplots\n",
    "    alexa_values = []\n",
    "    phish_values = []\n",
    "    for i in range(len(y)):\n",
    "        if y[i] == True:\n",
    "            alexa_values.append(float(X[i]))\n",
    "        else:\n",
    "            phish_values.append(float(X[i]))\n",
    "\n",
    "    # Inputting extremely small value to substitute for 0 so that we can use log\n",
    "    for j in alexa_values:\n",
    "        if j == 0:\n",
    "            j += 10**-10\n",
    "    \n",
    "    for k in phish_values:\n",
    "        if k == 0:\n",
    "            k += 10**-10\n",
    "    \n",
    "    # Creating boxplots for both alexa and phish values.  \n",
    "    # I'm using the log of each list to replicate paper (i.e., y axis of Count (Logarithmic Scale))\n",
    "    fig = plt.figure(figsize=(18, 6))\n",
    "\n",
    "    ax = plt.subplot(1, 3, 1)\n",
    "    ax.boxplot(np.log(alexa_values))\n",
    "    ax.set_title('Alexa')\n",
    "\n",
    "    ax = plt.subplot(1, 3, 2)\n",
    "    ax.boxplot(np.log(phish_values))\n",
    "    ax.set_title('Phish')\n",
    "\n",
    "    plt.show()"
   ]
  },
  {
   "cell_type": "code",
   "execution_count": 67,
   "metadata": {
    "ExecuteTime": {
     "end_time": "2020-02-26T15:55:15.589982Z",
     "start_time": "2020-02-26T15:55:15.308789Z"
    },
    "scrolled": false
   },
   "outputs": [
    {
     "name": "stderr",
     "output_type": "stream",
     "text": [
      "C:\\Users\\jft2456\\AppData\\Local\\Continuum\\anaconda3\\lib\\site-packages\\ipykernel_launcher.py:31: RuntimeWarning: divide by zero encountered in log\n",
      "C:\\Users\\jft2456\\AppData\\Local\\Continuum\\anaconda3\\lib\\site-packages\\numpy\\lib\\function_base.py:3942: RuntimeWarning: invalid value encountered in multiply\n",
      "  x2 = take(ap, indices_above, axis=axis) * weights_above\n",
      "C:\\Users\\jft2456\\AppData\\Local\\Continuum\\anaconda3\\lib\\site-packages\\matplotlib\\cbook\\__init__.py:1316: RuntimeWarning: invalid value encountered in less_equal\n",
      "  wiskhi = x[x <= hival]\n",
      "C:\\Users\\jft2456\\AppData\\Local\\Continuum\\anaconda3\\lib\\site-packages\\matplotlib\\cbook\\__init__.py:1323: RuntimeWarning: invalid value encountered in greater_equal\n",
      "  wisklo = x[x >= loval]\n",
      "C:\\Users\\jft2456\\AppData\\Local\\Continuum\\anaconda3\\lib\\site-packages\\matplotlib\\cbook\\__init__.py:1331: RuntimeWarning: invalid value encountered in less\n",
      "  x[x < stats['whislo']],\n",
      "C:\\Users\\jft2456\\AppData\\Local\\Continuum\\anaconda3\\lib\\site-packages\\matplotlib\\cbook\\__init__.py:1332: RuntimeWarning: invalid value encountered in greater\n",
      "  x[x > stats['whishi']],\n",
      "C:\\Users\\jft2456\\AppData\\Local\\Continuum\\anaconda3\\lib\\site-packages\\ipykernel_launcher.py:35: RuntimeWarning: divide by zero encountered in log\n",
      "C:\\Users\\jft2456\\AppData\\Local\\Continuum\\anaconda3\\lib\\site-packages\\numpy\\lib\\function_base.py:3942: RuntimeWarning: invalid value encountered in multiply\n",
      "  x2 = take(ap, indices_above, axis=axis) * weights_above\n",
      "C:\\Users\\jft2456\\AppData\\Local\\Continuum\\anaconda3\\lib\\site-packages\\matplotlib\\cbook\\__init__.py:1316: RuntimeWarning: invalid value encountered in less_equal\n",
      "  wiskhi = x[x <= hival]\n",
      "C:\\Users\\jft2456\\AppData\\Local\\Continuum\\anaconda3\\lib\\site-packages\\matplotlib\\cbook\\__init__.py:1323: RuntimeWarning: invalid value encountered in greater_equal\n",
      "  wisklo = x[x >= loval]\n",
      "C:\\Users\\jft2456\\AppData\\Local\\Continuum\\anaconda3\\lib\\site-packages\\matplotlib\\cbook\\__init__.py:1331: RuntimeWarning: invalid value encountered in less\n",
      "  x[x < stats['whislo']],\n",
      "C:\\Users\\jft2456\\AppData\\Local\\Continuum\\anaconda3\\lib\\site-packages\\matplotlib\\cbook\\__init__.py:1332: RuntimeWarning: invalid value encountered in greater\n",
      "  x[x > stats['whishi']],\n"
     ]
    },
    {
     "data": {
      "image/png": "[encoded data removed]",
      "text/plain": [
       "<Figure size 1296x432 with 2 Axes>"
      ]
     },
     "metadata": {
      "needs_background": "light"
     },
     "output_type": "display_data"
    }
   ],
   "source": [
    "# Inline Blocks (inline_count)\n",
    "\n",
    "X = rawdata.iloc[:,4:5].values\n",
    "y = rawdata.iloc[:,16].values\n",
    "\n",
    "figure_1(y,X)"
   ]
  },
  {
   "cell_type": "code",
   "execution_count": 68,
   "metadata": {
    "ExecuteTime": {
     "end_time": "2020-02-26T15:55:15.839912Z",
     "start_time": "2020-02-26T15:55:15.589982Z"
    }
   },
   "outputs": [
    {
     "name": "stderr",
     "output_type": "stream",
     "text": [
      "C:\\Users\\jft2456\\AppData\\Local\\Continuum\\anaconda3\\lib\\site-packages\\ipykernel_launcher.py:35: RuntimeWarning: divide by zero encountered in log\n"
     ]
    },
    {
     "data": {
      "image/png": "[encoded data removed]",
      "text/plain": [
       "<Figure size 1296x432 with 2 Axes>"
      ]
     },
     "metadata": {
      "needs_background": "light"
     },
     "output_type": "display_data"
    }
   ],
   "source": [
    "# Inline Blocks (avg_inline_script_block - This one doesn't work well)\n",
    "\n",
    "X = rawdata.iloc[:,5:6].values\n",
    "y = rawdata.iloc[:,16].values\n",
    "\n",
    "figure_1(y,X)"
   ]
  },
  {
   "cell_type": "code",
   "execution_count": 69,
   "metadata": {
    "ExecuteTime": {
     "end_time": "2020-02-26T15:55:16.058637Z",
     "start_time": "2020-02-26T15:55:15.839912Z"
    }
   },
   "outputs": [
    {
     "name": "stderr",
     "output_type": "stream",
     "text": [
      "C:\\Users\\jft2456\\AppData\\Local\\Continuum\\anaconda3\\lib\\site-packages\\ipykernel_launcher.py:31: RuntimeWarning: divide by zero encountered in log\n",
      "C:\\Users\\jft2456\\AppData\\Local\\Continuum\\anaconda3\\lib\\site-packages\\numpy\\lib\\function_base.py:3942: RuntimeWarning: invalid value encountered in multiply\n",
      "  x2 = take(ap, indices_above, axis=axis) * weights_above\n",
      "C:\\Users\\jft2456\\AppData\\Local\\Continuum\\anaconda3\\lib\\site-packages\\matplotlib\\cbook\\__init__.py:1316: RuntimeWarning: invalid value encountered in less_equal\n",
      "  wiskhi = x[x <= hival]\n",
      "C:\\Users\\jft2456\\AppData\\Local\\Continuum\\anaconda3\\lib\\site-packages\\matplotlib\\cbook\\__init__.py:1323: RuntimeWarning: invalid value encountered in greater_equal\n",
      "  wisklo = x[x >= loval]\n",
      "C:\\Users\\jft2456\\AppData\\Local\\Continuum\\anaconda3\\lib\\site-packages\\matplotlib\\cbook\\__init__.py:1331: RuntimeWarning: invalid value encountered in less\n",
      "  x[x < stats['whislo']],\n",
      "C:\\Users\\jft2456\\AppData\\Local\\Continuum\\anaconda3\\lib\\site-packages\\ipykernel_launcher.py:35: RuntimeWarning: divide by zero encountered in log\n",
      "C:\\Users\\jft2456\\AppData\\Local\\Continuum\\anaconda3\\lib\\site-packages\\numpy\\lib\\function_base.py:3942: RuntimeWarning: invalid value encountered in multiply\n",
      "  x2 = take(ap, indices_above, axis=axis) * weights_above\n",
      "C:\\Users\\jft2456\\AppData\\Local\\Continuum\\anaconda3\\lib\\site-packages\\matplotlib\\cbook\\__init__.py:1316: RuntimeWarning: invalid value encountered in less_equal\n",
      "  wiskhi = x[x <= hival]\n",
      "C:\\Users\\jft2456\\AppData\\Local\\Continuum\\anaconda3\\lib\\site-packages\\matplotlib\\cbook\\__init__.py:1323: RuntimeWarning: invalid value encountered in greater_equal\n",
      "  wisklo = x[x >= loval]\n",
      "C:\\Users\\jft2456\\AppData\\Local\\Continuum\\anaconda3\\lib\\site-packages\\matplotlib\\cbook\\__init__.py:1331: RuntimeWarning: invalid value encountered in less\n",
      "  x[x < stats['whislo']],\n"
     ]
    },
    {
     "data": {
      "image/png": "[encoded data removed]",
      "text/plain": [
       "<Figure size 1296x432 with 2 Axes>"
      ]
     },
     "metadata": {
      "needs_background": "light"
     },
     "output_type": "display_data"
    }
   ],
   "source": [
    "# External Blocks (external_count)\n",
    "\n",
    "X = rawdata.iloc[:,6:7].values\n",
    "y = rawdata.iloc[:,16].values\n",
    "\n",
    "figure_1(y,X)"
   ]
  },
  {
   "cell_type": "code",
   "execution_count": 70,
   "metadata": {
    "ExecuteTime": {
     "end_time": "2020-02-26T15:55:16.261688Z",
     "start_time": "2020-02-26T15:55:16.058637Z"
    }
   },
   "outputs": [
    {
     "name": "stderr",
     "output_type": "stream",
     "text": [
      "C:\\Users\\jft2456\\AppData\\Local\\Continuum\\anaconda3\\lib\\site-packages\\ipykernel_launcher.py:31: RuntimeWarning: divide by zero encountered in log\n",
      "C:\\Users\\jft2456\\AppData\\Local\\Continuum\\anaconda3\\lib\\site-packages\\numpy\\lib\\function_base.py:3942: RuntimeWarning: invalid value encountered in multiply\n",
      "  x2 = take(ap, indices_above, axis=axis) * weights_above\n",
      "C:\\Users\\jft2456\\AppData\\Local\\Continuum\\anaconda3\\lib\\site-packages\\matplotlib\\cbook\\__init__.py:1316: RuntimeWarning: invalid value encountered in less_equal\n",
      "  wiskhi = x[x <= hival]\n",
      "C:\\Users\\jft2456\\AppData\\Local\\Continuum\\anaconda3\\lib\\site-packages\\matplotlib\\cbook\\__init__.py:1323: RuntimeWarning: invalid value encountered in greater_equal\n",
      "  wisklo = x[x >= loval]\n",
      "C:\\Users\\jft2456\\AppData\\Local\\Continuum\\anaconda3\\lib\\site-packages\\matplotlib\\cbook\\__init__.py:1331: RuntimeWarning: invalid value encountered in less\n",
      "  x[x < stats['whislo']],\n",
      "C:\\Users\\jft2456\\AppData\\Local\\Continuum\\anaconda3\\lib\\site-packages\\ipykernel_launcher.py:35: RuntimeWarning: divide by zero encountered in log\n"
     ]
    },
    {
     "data": {
      "image/png": "[encoded data removed]",
      "text/plain": [
       "<Figure size 1296x432 with 2 Axes>"
      ]
     },
     "metadata": {
      "needs_background": "light"
     },
     "output_type": "display_data"
    }
   ],
   "source": [
    "# External Blocks (avg_external_script_block)\n",
    "\n",
    "X = rawdata.iloc[:,7:8].values\n",
    "y = rawdata.iloc[:,16].values\n",
    "\n",
    "figure_1(y,X)"
   ]
  },
  {
   "cell_type": "code",
   "execution_count": 71,
   "metadata": {
    "ExecuteTime": {
     "end_time": "2020-02-26T15:55:16.496100Z",
     "start_time": "2020-02-26T15:55:16.261688Z"
    }
   },
   "outputs": [
    {
     "name": "stderr",
     "output_type": "stream",
     "text": [
      "C:\\Users\\jft2456\\AppData\\Local\\Continuum\\anaconda3\\lib\\site-packages\\ipykernel_launcher.py:31: RuntimeWarning: divide by zero encountered in log\n",
      "C:\\Users\\jft2456\\AppData\\Local\\Continuum\\anaconda3\\lib\\site-packages\\numpy\\lib\\function_base.py:3942: RuntimeWarning: invalid value encountered in multiply\n",
      "  x2 = take(ap, indices_above, axis=axis) * weights_above\n",
      "C:\\Users\\jft2456\\AppData\\Local\\Continuum\\anaconda3\\lib\\site-packages\\matplotlib\\cbook\\__init__.py:1316: RuntimeWarning: invalid value encountered in less_equal\n",
      "  wiskhi = x[x <= hival]\n",
      "C:\\Users\\jft2456\\AppData\\Local\\Continuum\\anaconda3\\lib\\site-packages\\matplotlib\\cbook\\__init__.py:1323: RuntimeWarning: invalid value encountered in greater_equal\n",
      "  wisklo = x[x >= loval]\n",
      "C:\\Users\\jft2456\\AppData\\Local\\Continuum\\anaconda3\\lib\\site-packages\\matplotlib\\cbook\\__init__.py:1331: RuntimeWarning: invalid value encountered in less\n",
      "  x[x < stats['whislo']],\n",
      "C:\\Users\\jft2456\\AppData\\Local\\Continuum\\anaconda3\\lib\\site-packages\\matplotlib\\cbook\\__init__.py:1332: RuntimeWarning: invalid value encountered in greater\n",
      "  x[x > stats['whishi']],\n",
      "C:\\Users\\jft2456\\AppData\\Local\\Continuum\\anaconda3\\lib\\site-packages\\ipykernel_launcher.py:35: RuntimeWarning: divide by zero encountered in log\n",
      "C:\\Users\\jft2456\\AppData\\Local\\Continuum\\anaconda3\\lib\\site-packages\\numpy\\lib\\function_base.py:3942: RuntimeWarning: invalid value encountered in multiply\n",
      "  x2 = take(ap, indices_above, axis=axis) * weights_above\n",
      "C:\\Users\\jft2456\\AppData\\Local\\Continuum\\anaconda3\\lib\\site-packages\\matplotlib\\cbook\\__init__.py:1316: RuntimeWarning: invalid value encountered in less_equal\n",
      "  wiskhi = x[x <= hival]\n",
      "C:\\Users\\jft2456\\AppData\\Local\\Continuum\\anaconda3\\lib\\site-packages\\matplotlib\\cbook\\__init__.py:1323: RuntimeWarning: invalid value encountered in greater_equal\n",
      "  wisklo = x[x >= loval]\n",
      "C:\\Users\\jft2456\\AppData\\Local\\Continuum\\anaconda3\\lib\\site-packages\\matplotlib\\cbook\\__init__.py:1331: RuntimeWarning: invalid value encountered in less\n",
      "  x[x < stats['whislo']],\n",
      "C:\\Users\\jft2456\\AppData\\Local\\Continuum\\anaconda3\\lib\\site-packages\\matplotlib\\cbook\\__init__.py:1332: RuntimeWarning: invalid value encountered in greater\n",
      "  x[x > stats['whishi']],\n"
     ]
    },
    {
     "data": {
      "image/png": "[encoded data removed]",
      "text/plain": [
       "<Figure size 1296x432 with 2 Axes>"
      ]
     },
     "metadata": {
      "needs_background": "light"
     },
     "output_type": "display_data"
    }
   ],
   "source": [
    "# Cyclomatic Complexity (avg_cyc_complexity)\n",
    "\n",
    "X = rawdata.iloc[:,14:15].values\n",
    "y = rawdata.iloc[:,16].values\n",
    "\n",
    "figure_1(y,X)"
   ]
  },
  {
   "cell_type": "code",
   "execution_count": 72,
   "metadata": {
    "ExecuteTime": {
     "end_time": "2020-02-26T15:55:16.730417Z",
     "start_time": "2020-02-26T15:55:16.496100Z"
    }
   },
   "outputs": [
    {
     "name": "stderr",
     "output_type": "stream",
     "text": [
      "C:\\Users\\jft2456\\AppData\\Local\\Continuum\\anaconda3\\lib\\site-packages\\ipykernel_launcher.py:31: RuntimeWarning: divide by zero encountered in log\n",
      "C:\\Users\\jft2456\\AppData\\Local\\Continuum\\anaconda3\\lib\\site-packages\\numpy\\lib\\function_base.py:3942: RuntimeWarning: invalid value encountered in multiply\n",
      "  x2 = take(ap, indices_above, axis=axis) * weights_above\n",
      "C:\\Users\\jft2456\\AppData\\Local\\Continuum\\anaconda3\\lib\\site-packages\\matplotlib\\cbook\\__init__.py:1316: RuntimeWarning: invalid value encountered in less_equal\n",
      "  wiskhi = x[x <= hival]\n",
      "C:\\Users\\jft2456\\AppData\\Local\\Continuum\\anaconda3\\lib\\site-packages\\matplotlib\\cbook\\__init__.py:1323: RuntimeWarning: invalid value encountered in greater_equal\n",
      "  wisklo = x[x >= loval]\n",
      "C:\\Users\\jft2456\\AppData\\Local\\Continuum\\anaconda3\\lib\\site-packages\\matplotlib\\cbook\\__init__.py:1331: RuntimeWarning: invalid value encountered in less\n",
      "  x[x < stats['whislo']],\n",
      "C:\\Users\\jft2456\\AppData\\Local\\Continuum\\anaconda3\\lib\\site-packages\\matplotlib\\cbook\\__init__.py:1332: RuntimeWarning: invalid value encountered in greater\n",
      "  x[x > stats['whishi']],\n",
      "C:\\Users\\jft2456\\AppData\\Local\\Continuum\\anaconda3\\lib\\site-packages\\ipykernel_launcher.py:35: RuntimeWarning: divide by zero encountered in log\n",
      "C:\\Users\\jft2456\\AppData\\Local\\Continuum\\anaconda3\\lib\\site-packages\\numpy\\lib\\function_base.py:3942: RuntimeWarning: invalid value encountered in multiply\n",
      "  x2 = take(ap, indices_above, axis=axis) * weights_above\n",
      "C:\\Users\\jft2456\\AppData\\Local\\Continuum\\anaconda3\\lib\\site-packages\\matplotlib\\cbook\\__init__.py:1316: RuntimeWarning: invalid value encountered in less_equal\n",
      "  wiskhi = x[x <= hival]\n",
      "C:\\Users\\jft2456\\AppData\\Local\\Continuum\\anaconda3\\lib\\site-packages\\matplotlib\\cbook\\__init__.py:1323: RuntimeWarning: invalid value encountered in greater_equal\n",
      "  wisklo = x[x >= loval]\n",
      "C:\\Users\\jft2456\\AppData\\Local\\Continuum\\anaconda3\\lib\\site-packages\\matplotlib\\cbook\\__init__.py:1331: RuntimeWarning: invalid value encountered in less\n",
      "  x[x < stats['whislo']],\n",
      "C:\\Users\\jft2456\\AppData\\Local\\Continuum\\anaconda3\\lib\\site-packages\\matplotlib\\cbook\\__init__.py:1332: RuntimeWarning: invalid value encountered in greater\n",
      "  x[x > stats['whishi']],\n"
     ]
    },
    {
     "data": {
      "image/png": "[encoded data removed]",
      "text/plain": [
       "<Figure size 1296x432 with 2 Axes>"
      ]
     },
     "metadata": {
      "needs_background": "light"
     },
     "output_type": "display_data"
    }
   ],
   "source": [
    "# LOC for library files (library_code_count)\n",
    "\n",
    "X = rawdata.iloc[:,15:16].values\n",
    "y = rawdata.iloc[:,16].values\n",
    "\n",
    "figure_1(y,X)"
   ]
  },
  {
   "cell_type": "code",
   "execution_count": null,
   "metadata": {},
   "outputs": [],
   "source": []
  }
 ],
 "metadata": {
  "hide_input": false,
  "kernelspec": {
   "display_name": "Python 3",
   "language": "python",
   "name": "python3"
  },
  "language_info": {
   "codemirror_mode": {
    "name": "ipython",
    "version": 3
   },
   "file_extension": ".py",
   "mimetype": "text/x-python",
   "name": "python",
   "nbconvert_exporter": "python",
   "pygments_lexer": "ipython3",
   "version": "3.7.4"
  },
  "toc": {
   "base_numbering": 1,
   "nav_menu": {},
   "number_sections": true,
   "sideBar": true,
   "skip_h1_title": false,
   "title_cell": "Table of Contents",
   "title_sidebar": "Contents",
   "toc_cell": false,
   "toc_position": {},
   "toc_section_display": true,
   "toc_window_display": false
  },
  "varInspector": {
   "cols": {
    "lenName": 16,
    "lenType": 16,
    "lenVar": 40
   },
   "kernels_config": {
    "python": {
     "delete_cmd_postfix": "",
     "delete_cmd_prefix": "del ",
     "library": "var_list.py",
     "varRefreshCmd": "print(var_dic_list())"
    },
    "r": {
     "delete_cmd_postfix": ") ",
     "delete_cmd_prefix": "rm(",
     "library": "var_list.r",
     "varRefreshCmd": "cat(var_dic_list()) "
    }
   },
   "types_to_exclude": [
    "module",
    "function",
    "builtin_function_or_method",
    "instance",
    "_Feature"
   ],
   "window_display": false
  }
 },
 "nbformat": 4,
 "nbformat_minor": 2
}
