{
 "cells": [
  {
   "cell_type": "markdown",
   "metadata": {},
   "source": [
    "## MLP Classification of Code Complexity Features"
   ]
  },
  {
   "cell_type": "code",
   "execution_count": 86,
   "metadata": {
    "ExecuteTime": {
     "end_time": "2020-04-09T21:13:34.111742Z",
     "start_time": "2020-04-09T21:13:34.107753Z"
    }
   },
   "outputs": [],
   "source": [
    "# Import necessary packages\n",
    "\n",
    "import pandas as pd\n",
    "from sklearn.model_selection import train_test_split\n",
    "from sklearn.model_selection import ParameterGrid\n",
    "import matplotlib.pyplot as plt\n",
    "from sklearn.metrics import confusion_matrix\n",
    "from sklearn.preprocessing import scale\n",
    "from sklearn.neural_network import MLPClassifier\n",
    "from sklearn.model_selection import cross_val_score\n",
    "from sklearn.model_selection import train_test_split"
   ]
  },
  {
   "cell_type": "code",
   "execution_count": 87,
   "metadata": {
    "ExecuteTime": {
     "end_time": "2020-04-09T21:13:34.604981Z",
     "start_time": "2020-04-09T21:13:34.504221Z"
    }
   },
   "outputs": [
    {
     "data": {
      "text/html": [
       "<div>\n",
       "<style scoped>\n",
       "    .dataframe tbody tr th:only-of-type {\n",
       "        vertical-align: middle;\n",
       "    }\n",
       "\n",
       "    .dataframe tbody tr th {\n",
       "        vertical-align: top;\n",
       "    }\n",
       "\n",
       "    .dataframe thead th {\n",
       "        text-align: right;\n",
       "    }\n",
       "</style>\n",
       "<table border=\"1\" class=\"dataframe\">\n",
       "  <thead>\n",
       "    <tr style=\"text-align: right;\">\n",
       "      <th></th>\n",
       "      <th>site</th>\n",
       "      <th>scrap_time</th>\n",
       "      <th>path</th>\n",
       "      <th>has_html</th>\n",
       "      <th>inline_count</th>\n",
       "      <th>avg_inline_script_block</th>\n",
       "      <th>external_count</th>\n",
       "      <th>avg_external_script_block</th>\n",
       "      <th>onclick_count</th>\n",
       "      <th>onload_count</th>\n",
       "      <th>onchange_count</th>\n",
       "      <th>avg_onclick_count</th>\n",
       "      <th>avg_onload_count</th>\n",
       "      <th>avg_onchange_count</th>\n",
       "      <th>avg_cyc_complexity</th>\n",
       "      <th>library_code_count</th>\n",
       "      <th>type</th>\n",
       "      <th>class_bin</th>\n",
       "    </tr>\n",
       "  </thead>\n",
       "  <tbody>\n",
       "    <tr>\n",
       "      <th>0</th>\n",
       "      <td>0.2090000.ru</td>\n",
       "      <td>2017-11-17 11-19-03</td>\n",
       "      <td>C:\\Phishing Project\\phishtank - november 2017\\...</td>\n",
       "      <td>True</td>\n",
       "      <td>2.0</td>\n",
       "      <td>0.0</td>\n",
       "      <td>4.0</td>\n",
       "      <td>64.0</td>\n",
       "      <td>1</td>\n",
       "      <td>1.0</td>\n",
       "      <td>0.0</td>\n",
       "      <td>358</td>\n",
       "      <td>3</td>\n",
       "      <td>1</td>\n",
       "      <td>0.0</td>\n",
       "      <td>0</td>\n",
       "      <td>phish</td>\n",
       "      <td>1</td>\n",
       "    </tr>\n",
       "    <tr>\n",
       "      <th>1</th>\n",
       "      <td>000keca.wcomhost.com</td>\n",
       "      <td>2017-09-20 07-53-06</td>\n",
       "      <td>C:\\Phishing Project\\phishtank - september 2017...</td>\n",
       "      <td>True</td>\n",
       "      <td>2.0</td>\n",
       "      <td>2.0</td>\n",
       "      <td>2.0</td>\n",
       "      <td>169.0</td>\n",
       "      <td>1</td>\n",
       "      <td>1.0</td>\n",
       "      <td>0.0</td>\n",
       "      <td>219</td>\n",
       "      <td>1</td>\n",
       "      <td>1</td>\n",
       "      <td>1.0</td>\n",
       "      <td>1</td>\n",
       "      <td>phish</td>\n",
       "      <td>1</td>\n",
       "    </tr>\n",
       "  </tbody>\n",
       "</table>\n",
       "</div>"
      ],
      "text/plain": [
       "                   site           scrap_time  \\\n",
       "0          0.2090000.ru  2017-11-17 11-19-03   \n",
       "1  000keca.wcomhost.com  2017-09-20 07-53-06   \n",
       "\n",
       "                                                path  has_html  inline_count  \\\n",
       "0  C:\\Phishing Project\\phishtank - november 2017\\...      True           2.0   \n",
       "1  C:\\Phishing Project\\phishtank - september 2017...      True           2.0   \n",
       "\n",
       "   avg_inline_script_block  external_count  avg_external_script_block  \\\n",
       "0                      0.0             4.0                       64.0   \n",
       "1                      2.0             2.0                      169.0   \n",
       "\n",
       "   onclick_count  onload_count  onchange_count  avg_onclick_count  \\\n",
       "0              1           1.0             0.0                358   \n",
       "1              1           1.0             0.0                219   \n",
       "\n",
       "   avg_onload_count  avg_onchange_count  avg_cyc_complexity  \\\n",
       "0                 3                   1                 0.0   \n",
       "1                 1                   1                 1.0   \n",
       "\n",
       "   library_code_count   type  class_bin  \n",
       "0                   0  phish          1  \n",
       "1                   1  phish          1  "
      ]
     },
     "execution_count": 87,
     "metadata": {},
     "output_type": "execute_result"
    }
   ],
   "source": [
    "# Read in the certificate features excel files with the \"phish\" classification\n",
    "complexity = pd.read_csv('wc(augmented).csv')\n",
    "\n",
    "# Create a column for binary output where if the class is phish, it equals 1\n",
    "complexity['class_bin'] = [1 if x == 'phish' else 0 for x in complexity['type']]\n",
    "\n",
    "complexity.head(2)"
   ]
  },
  {
   "cell_type": "code",
   "execution_count": 88,
   "metadata": {
    "ExecuteTime": {
     "end_time": "2020-04-09T21:13:34.894104Z",
     "start_time": "2020-04-09T21:13:34.890115Z"
    }
   },
   "outputs": [
    {
     "data": {
      "text/plain": [
       "(24232, 18)"
      ]
     },
     "execution_count": 88,
     "metadata": {},
     "output_type": "execute_result"
    }
   ],
   "source": [
    "complexity.shape"
   ]
  },
  {
   "cell_type": "code",
   "execution_count": 89,
   "metadata": {
    "ExecuteTime": {
     "end_time": "2020-04-09T21:13:35.382311Z",
     "start_time": "2020-04-09T21:13:35.369345Z"
    }
   },
   "outputs": [
    {
     "data": {
      "text/html": [
       "<div>\n",
       "<style scoped>\n",
       "    .dataframe tbody tr th:only-of-type {\n",
       "        vertical-align: middle;\n",
       "    }\n",
       "\n",
       "    .dataframe tbody tr th {\n",
       "        vertical-align: top;\n",
       "    }\n",
       "\n",
       "    .dataframe thead th {\n",
       "        text-align: right;\n",
       "    }\n",
       "</style>\n",
       "<table border=\"1\" class=\"dataframe\">\n",
       "  <thead>\n",
       "    <tr style=\"text-align: right;\">\n",
       "      <th></th>\n",
       "      <th>has_html</th>\n",
       "      <th>inline_count</th>\n",
       "      <th>avg_inline_script_block</th>\n",
       "      <th>external_count</th>\n",
       "      <th>avg_external_script_block</th>\n",
       "      <th>onclick_count</th>\n",
       "      <th>onload_count</th>\n",
       "      <th>onchange_count</th>\n",
       "      <th>avg_onclick_count</th>\n",
       "      <th>avg_onload_count</th>\n",
       "      <th>avg_onchange_count</th>\n",
       "    </tr>\n",
       "  </thead>\n",
       "  <tbody>\n",
       "    <tr>\n",
       "      <th>0</th>\n",
       "      <td>True</td>\n",
       "      <td>2.0</td>\n",
       "      <td>0.0</td>\n",
       "      <td>4.0</td>\n",
       "      <td>64.000000</td>\n",
       "      <td>1</td>\n",
       "      <td>1.0</td>\n",
       "      <td>0.0</td>\n",
       "      <td>358</td>\n",
       "      <td>3</td>\n",
       "      <td>1</td>\n",
       "    </tr>\n",
       "    <tr>\n",
       "      <th>1</th>\n",
       "      <td>True</td>\n",
       "      <td>2.0</td>\n",
       "      <td>2.0</td>\n",
       "      <td>2.0</td>\n",
       "      <td>169.000000</td>\n",
       "      <td>1</td>\n",
       "      <td>1.0</td>\n",
       "      <td>0.0</td>\n",
       "      <td>219</td>\n",
       "      <td>1</td>\n",
       "      <td>1</td>\n",
       "    </tr>\n",
       "    <tr>\n",
       "      <th>2</th>\n",
       "      <td>True</td>\n",
       "      <td>4.0</td>\n",
       "      <td>0.0</td>\n",
       "      <td>3.0</td>\n",
       "      <td>260.500000</td>\n",
       "      <td>1</td>\n",
       "      <td>0.0</td>\n",
       "      <td>1.0</td>\n",
       "      <td>1783</td>\n",
       "      <td>1</td>\n",
       "      <td>2</td>\n",
       "    </tr>\n",
       "    <tr>\n",
       "      <th>3</th>\n",
       "      <td>True</td>\n",
       "      <td>75.0</td>\n",
       "      <td>0.0</td>\n",
       "      <td>18.5</td>\n",
       "      <td>955.733333</td>\n",
       "      <td>2</td>\n",
       "      <td>72.0</td>\n",
       "      <td>0.0</td>\n",
       "      <td>41327</td>\n",
       "      <td>4</td>\n",
       "      <td>15</td>\n",
       "    </tr>\n",
       "    <tr>\n",
       "      <th>4</th>\n",
       "      <td>True</td>\n",
       "      <td>3.0</td>\n",
       "      <td>0.0</td>\n",
       "      <td>6.0</td>\n",
       "      <td>740.600000</td>\n",
       "      <td>1</td>\n",
       "      <td>0.0</td>\n",
       "      <td>0.0</td>\n",
       "      <td>10901</td>\n",
       "      <td>1</td>\n",
       "      <td>5</td>\n",
       "    </tr>\n",
       "  </tbody>\n",
       "</table>\n",
       "</div>"
      ],
      "text/plain": [
       "   has_html  inline_count  avg_inline_script_block  external_count  \\\n",
       "0      True           2.0                      0.0             4.0   \n",
       "1      True           2.0                      2.0             2.0   \n",
       "2      True           4.0                      0.0             3.0   \n",
       "3      True          75.0                      0.0            18.5   \n",
       "4      True           3.0                      0.0             6.0   \n",
       "\n",
       "   avg_external_script_block  onclick_count  onload_count  onchange_count  \\\n",
       "0                  64.000000              1           1.0             0.0   \n",
       "1                 169.000000              1           1.0             0.0   \n",
       "2                 260.500000              1           0.0             1.0   \n",
       "3                 955.733333              2          72.0             0.0   \n",
       "4                 740.600000              1           0.0             0.0   \n",
       "\n",
       "   avg_onclick_count  avg_onload_count  avg_onchange_count  \n",
       "0                358                 3                   1  \n",
       "1                219                 1                   1  \n",
       "2               1783                 1                   2  \n",
       "3              41327                 4                  15  \n",
       "4              10901                 1                   5  "
      ]
     },
     "execution_count": 89,
     "metadata": {},
     "output_type": "execute_result"
    }
   ],
   "source": [
    "X = complexity.iloc[:, 3:14]\n",
    "y = complexity.iloc[:,-1]\n",
    "X.head()"
   ]
  },
  {
   "cell_type": "code",
   "execution_count": 90,
   "metadata": {
    "ExecuteTime": {
     "end_time": "2020-04-09T21:20:01.723962Z",
     "start_time": "2020-04-09T21:13:35.874942Z"
    }
   },
   "outputs": [
    {
     "data": {
      "text/plain": [
       "0.8853903876569958"
      ]
     },
     "execution_count": 90,
     "metadata": {},
     "output_type": "execute_result"
    }
   ],
   "source": [
    "# Scale the X values\n",
    "XS=scale(X)\n",
    "\n",
    "# Perform a train-test split\n",
    "X_train, X_test, y_train, y_test = train_test_split(XS, y, test_size=0.3, random_state=42)\n",
    "\n",
    "# Create the MLP classifier model with particular parameters\n",
    "mlp = MLPClassifier(max_iter=10000, random_state=42, hidden_layer_sizes=(256,128,128,128,256))\n",
    "\n",
    "# Fit the mlp model to the data\n",
    "mlp.fit(X_train, y_train)\n",
    "\n",
    "\n",
    "# Perform a 5-fold cross validation\n",
    "scores = cross_val_score(mlp, X_train, y_train, cv=5, scoring=\"accuracy\")\n",
    "\n",
    "\n",
    "# Print the mean of the validation scores\n",
    "np.mean(scores)"
   ]
  },
  {
   "cell_type": "code",
   "execution_count": 91,
   "metadata": {
    "ExecuteTime": {
     "end_time": "2020-04-09T21:20:01.924789Z",
     "start_time": "2020-04-09T21:20:01.834141Z"
    }
   },
   "outputs": [
    {
     "data": {
      "text/plain": [
       "0.8903713892709766"
      ]
     },
     "execution_count": 91,
     "metadata": {},
     "output_type": "execute_result"
    }
   ],
   "source": [
    "mlp.score(X_test, y_test)"
   ]
  },
  {
   "cell_type": "code",
   "execution_count": 92,
   "metadata": {
    "ExecuteTime": {
     "end_time": "2020-04-09T21:20:02.137102Z",
     "start_time": "2020-04-09T21:20:02.037069Z"
    }
   },
   "outputs": [],
   "source": [
    "pred = mlp.predict(X_test)"
   ]
  },
  {
   "cell_type": "code",
   "execution_count": 93,
   "metadata": {
    "ExecuteTime": {
     "end_time": "2020-04-09T21:20:02.329587Z",
     "start_time": "2020-04-09T21:20:02.325598Z"
    }
   },
   "outputs": [],
   "source": [
    "from sklearn.metrics import classification_report,confusion_matrix"
   ]
  },
  {
   "cell_type": "code",
   "execution_count": 94,
   "metadata": {
    "ExecuteTime": {
     "end_time": "2020-04-09T21:20:02.425332Z",
     "start_time": "2020-04-09T21:20:02.413364Z"
    }
   },
   "outputs": [
    {
     "name": "stdout",
     "output_type": "stream",
     "text": [
      "[[4792  487]\n",
      " [ 310 1681]]\n"
     ]
    }
   ],
   "source": [
    "print(confusion_matrix(y_test,pred))"
   ]
  },
  {
   "cell_type": "code",
   "execution_count": 95,
   "metadata": {
    "ExecuteTime": {
     "end_time": "2020-04-09T21:20:02.538031Z",
     "start_time": "2020-04-09T21:20:02.522073Z"
    }
   },
   "outputs": [
    {
     "name": "stdout",
     "output_type": "stream",
     "text": [
      "              precision    recall  f1-score   support\n",
      "\n",
      "           0       0.94      0.91      0.92      5279\n",
      "           1       0.78      0.84      0.81      1991\n",
      "\n",
      "    accuracy                           0.89      7270\n",
      "   macro avg       0.86      0.88      0.87      7270\n",
      "weighted avg       0.89      0.89      0.89      7270\n",
      "\n"
     ]
    }
   ],
   "source": [
    "print(classification_report(y_test,pred))"
   ]
  },
  {
   "cell_type": "code",
   "execution_count": null,
   "metadata": {},
   "outputs": [],
   "source": []
  }
 ],
 "metadata": {
  "kernelspec": {
   "display_name": "Python 3",
   "language": "python",
   "name": "python3"
  },
  "language_info": {
   "codemirror_mode": {
    "name": "ipython",
    "version": 3
   },
   "file_extension": ".py",
   "mimetype": "text/x-python",
   "name": "python",
   "nbconvert_exporter": "python",
   "pygments_lexer": "ipython3",
   "version": "3.7.3"
  },
  "toc": {
   "base_numbering": 1,
   "nav_menu": {},
   "number_sections": true,
   "sideBar": true,
   "skip_h1_title": false,
   "title_cell": "Table of Contents",
   "title_sidebar": "Contents",
   "toc_cell": false,
   "toc_position": {},
   "toc_section_display": true,
   "toc_window_display": false
  },
  "varInspector": {
   "cols": {
    "lenName": 16,
    "lenType": 16,
    "lenVar": 40
   },
   "kernels_config": {
    "python": {
     "delete_cmd_postfix": "",
     "delete_cmd_prefix": "del ",
     "library": "var_list.py",
     "varRefreshCmd": "print(var_dic_list())"
    },
    "r": {
     "delete_cmd_postfix": ") ",
     "delete_cmd_prefix": "rm(",
     "library": "var_list.r",
     "varRefreshCmd": "cat(var_dic_list()) "
    }
   },
   "types_to_exclude": [
    "module",
    "function",
    "builtin_function_or_method",
    "instance",
    "_Feature"
   ],
   "window_display": false
  }
 },
 "nbformat": 4,
 "nbformat_minor": 2
}
