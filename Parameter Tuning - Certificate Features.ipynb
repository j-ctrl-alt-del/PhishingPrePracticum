{
 "cells": [
  {
   "cell_type": "code",
   "execution_count": 17,
   "metadata": {
    "ExecuteTime": {
     "end_time": "2020-04-05T14:51:09.153993Z",
     "start_time": "2020-04-05T14:51:09.150028Z"
    }
   },
   "outputs": [],
   "source": [
    "import pandas as pd\n",
    "import numpy as np"
   ]
  },
  {
   "cell_type": "code",
   "execution_count": 18,
   "metadata": {
    "ExecuteTime": {
     "end_time": "2020-04-05T14:51:12.323775Z",
     "start_time": "2020-04-05T14:51:09.570050Z"
    }
   },
   "outputs": [],
   "source": [
    "#Read in the certificate feature alexa dataset\n",
    "alexa = pd.read_csv(\"certificate features.alexa.csv\")\n"
   ]
  },
  {
   "cell_type": "code",
   "execution_count": 19,
   "metadata": {
    "ExecuteTime": {
     "end_time": "2020-04-05T14:51:12.851200Z",
     "start_time": "2020-04-05T14:51:12.824130Z"
    }
   },
   "outputs": [
    {
     "data": {
      "text/html": [
       "<div>\n",
       "<style scoped>\n",
       "    .dataframe tbody tr th:only-of-type {\n",
       "        vertical-align: middle;\n",
       "    }\n",
       "\n",
       "    .dataframe tbody tr th {\n",
       "        vertical-align: top;\n",
       "    }\n",
       "\n",
       "    .dataframe thead th {\n",
       "        text-align: right;\n",
       "    }\n",
       "</style>\n",
       "<table border=\"1\" class=\"dataframe\">\n",
       "  <thead>\n",
       "    <tr style=\"text-align: right;\">\n",
       "      <th></th>\n",
       "      <th>domain</th>\n",
       "      <th>has_cert</th>\n",
       "      <th>longetivity</th>\n",
       "      <th>valid_cert</th>\n",
       "      <th>extended_validation</th>\n",
       "      <th>cert_age</th>\n",
       "      <th>multi_mtn</th>\n",
       "      <th>globalsign nv-sa</th>\n",
       "      <th>google inc</th>\n",
       "      <th>gandi</th>\n",
       "      <th>...</th>\n",
       "      <th>wponabudget.com</th>\n",
       "      <th>reviews-by.ml</th>\n",
       "      <th>sewaknepal.org</th>\n",
       "      <th>watchvslivestreamtv.club</th>\n",
       "      <th>nehanaxane.ga</th>\n",
       "      <th>alexis-collins10.tk</th>\n",
       "      <th>laborindonesia.com</th>\n",
       "      <th>egdemo.info</th>\n",
       "      <th>theflatbellydrink.com</th>\n",
       "      <th>class</th>\n",
       "    </tr>\n",
       "  </thead>\n",
       "  <tbody>\n",
       "    <tr>\n",
       "      <th>0</th>\n",
       "      <td>www.yahoo.com</td>\n",
       "      <td>True</td>\n",
       "      <td>180</td>\n",
       "      <td>True</td>\n",
       "      <td>False</td>\n",
       "      <td>61</td>\n",
       "      <td>True</td>\n",
       "      <td>0</td>\n",
       "      <td>0</td>\n",
       "      <td>0</td>\n",
       "      <td>...</td>\n",
       "      <td>0</td>\n",
       "      <td>0</td>\n",
       "      <td>0</td>\n",
       "      <td>0</td>\n",
       "      <td>0</td>\n",
       "      <td>0</td>\n",
       "      <td>0</td>\n",
       "      <td>0</td>\n",
       "      <td>0</td>\n",
       "      <td>alexa</td>\n",
       "    </tr>\n",
       "    <tr>\n",
       "      <th>1</th>\n",
       "      <td>www.google.co.in</td>\n",
       "      <td>True</td>\n",
       "      <td>83</td>\n",
       "      <td>True</td>\n",
       "      <td>False</td>\n",
       "      <td>11</td>\n",
       "      <td>True</td>\n",
       "      <td>0</td>\n",
       "      <td>1</td>\n",
       "      <td>0</td>\n",
       "      <td>...</td>\n",
       "      <td>0</td>\n",
       "      <td>0</td>\n",
       "      <td>0</td>\n",
       "      <td>0</td>\n",
       "      <td>0</td>\n",
       "      <td>0</td>\n",
       "      <td>0</td>\n",
       "      <td>0</td>\n",
       "      <td>0</td>\n",
       "      <td>alexa</td>\n",
       "    </tr>\n",
       "    <tr>\n",
       "      <th>2</th>\n",
       "      <td>www.reddit.com</td>\n",
       "      <td>True</td>\n",
       "      <td>1100</td>\n",
       "      <td>True</td>\n",
       "      <td>False</td>\n",
       "      <td>826</td>\n",
       "      <td>True</td>\n",
       "      <td>0</td>\n",
       "      <td>0</td>\n",
       "      <td>0</td>\n",
       "      <td>...</td>\n",
       "      <td>0</td>\n",
       "      <td>0</td>\n",
       "      <td>0</td>\n",
       "      <td>0</td>\n",
       "      <td>0</td>\n",
       "      <td>0</td>\n",
       "      <td>0</td>\n",
       "      <td>0</td>\n",
       "      <td>0</td>\n",
       "      <td>alexa</td>\n",
       "    </tr>\n",
       "    <tr>\n",
       "      <th>3</th>\n",
       "      <td>world.taobao.com</td>\n",
       "      <td>True</td>\n",
       "      <td>74</td>\n",
       "      <td>True</td>\n",
       "      <td>False</td>\n",
       "      <td>61</td>\n",
       "      <td>True</td>\n",
       "      <td>1</td>\n",
       "      <td>0</td>\n",
       "      <td>0</td>\n",
       "      <td>...</td>\n",
       "      <td>0</td>\n",
       "      <td>0</td>\n",
       "      <td>0</td>\n",
       "      <td>0</td>\n",
       "      <td>0</td>\n",
       "      <td>0</td>\n",
       "      <td>0</td>\n",
       "      <td>0</td>\n",
       "      <td>0</td>\n",
       "      <td>alexa</td>\n",
       "    </tr>\n",
       "    <tr>\n",
       "      <th>4</th>\n",
       "      <td>www.google.co.jp</td>\n",
       "      <td>True</td>\n",
       "      <td>83</td>\n",
       "      <td>True</td>\n",
       "      <td>False</td>\n",
       "      <td>11</td>\n",
       "      <td>True</td>\n",
       "      <td>0</td>\n",
       "      <td>1</td>\n",
       "      <td>0</td>\n",
       "      <td>...</td>\n",
       "      <td>0</td>\n",
       "      <td>0</td>\n",
       "      <td>0</td>\n",
       "      <td>0</td>\n",
       "      <td>0</td>\n",
       "      <td>0</td>\n",
       "      <td>0</td>\n",
       "      <td>0</td>\n",
       "      <td>0</td>\n",
       "      <td>alexa</td>\n",
       "    </tr>\n",
       "  </tbody>\n",
       "</table>\n",
       "<p>5 rows × 2208 columns</p>\n",
       "</div>"
      ],
      "text/plain": [
       "             domain  has_cert  longetivity  valid_cert  extended_validation  \\\n",
       "0     www.yahoo.com      True          180        True                False   \n",
       "1  www.google.co.in      True           83        True                False   \n",
       "2    www.reddit.com      True         1100        True                False   \n",
       "3  world.taobao.com      True           74        True                False   \n",
       "4  www.google.co.jp      True           83        True                False   \n",
       "\n",
       "   cert_age  multi_mtn  globalsign nv-sa  google inc  gandi  ...  \\\n",
       "0        61       True                 0           0      0  ...   \n",
       "1        11       True                 0           1      0  ...   \n",
       "2       826       True                 0           0      0  ...   \n",
       "3        61       True                 1           0      0  ...   \n",
       "4        11       True                 0           1      0  ...   \n",
       "\n",
       "   wponabudget.com  reviews-by.ml  sewaknepal.org  watchvslivestreamtv.club  \\\n",
       "0                0              0               0                         0   \n",
       "1                0              0               0                         0   \n",
       "2                0              0               0                         0   \n",
       "3                0              0               0                         0   \n",
       "4                0              0               0                         0   \n",
       "\n",
       "   nehanaxane.ga  alexis-collins10.tk  laborindonesia.com  egdemo.info  \\\n",
       "0              0                    0                   0            0   \n",
       "1              0                    0                   0            0   \n",
       "2              0                    0                   0            0   \n",
       "3              0                    0                   0            0   \n",
       "4              0                    0                   0            0   \n",
       "\n",
       "   theflatbellydrink.com  class  \n",
       "0                      0  alexa  \n",
       "1                      0  alexa  \n",
       "2                      0  alexa  \n",
       "3                      0  alexa  \n",
       "4                      0  alexa  \n",
       "\n",
       "[5 rows x 2208 columns]"
      ]
     },
     "execution_count": 19,
     "metadata": {},
     "output_type": "execute_result"
    }
   ],
   "source": [
    "alexa.head()"
   ]
  },
  {
   "cell_type": "code",
   "execution_count": 20,
   "metadata": {
    "ExecuteTime": {
     "end_time": "2020-04-05T14:51:14.062830Z",
     "start_time": "2020-04-05T14:51:13.266304Z"
    }
   },
   "outputs": [],
   "source": [
    "#Read in the certificate feature alexa dataset\n",
    "phish = pd.read_csv(\"certificate features.phish.csv\")"
   ]
  },
  {
   "cell_type": "code",
   "execution_count": 21,
   "metadata": {
    "ExecuteTime": {
     "end_time": "2020-04-05T14:51:14.540492Z",
     "start_time": "2020-04-05T14:51:14.508950Z"
    },
    "scrolled": true
   },
   "outputs": [
    {
     "data": {
      "text/html": [
       "<div>\n",
       "<style scoped>\n",
       "    .dataframe tbody tr th:only-of-type {\n",
       "        vertical-align: middle;\n",
       "    }\n",
       "\n",
       "    .dataframe tbody tr th {\n",
       "        vertical-align: top;\n",
       "    }\n",
       "\n",
       "    .dataframe thead th {\n",
       "        text-align: right;\n",
       "    }\n",
       "</style>\n",
       "<table border=\"1\" class=\"dataframe\">\n",
       "  <thead>\n",
       "    <tr style=\"text-align: right;\">\n",
       "      <th></th>\n",
       "      <th>domain</th>\n",
       "      <th>has_cert</th>\n",
       "      <th>longetivity</th>\n",
       "      <th>valid_cert</th>\n",
       "      <th>extended_validation</th>\n",
       "      <th>cert_age</th>\n",
       "      <th>multi_mtn</th>\n",
       "      <th>globalsign nv-sa</th>\n",
       "      <th>google inc</th>\n",
       "      <th>gandi</th>\n",
       "      <th>...</th>\n",
       "      <th>wponabudget.com</th>\n",
       "      <th>reviews-by.ml</th>\n",
       "      <th>sewaknepal.org</th>\n",
       "      <th>watchvslivestreamtv.club</th>\n",
       "      <th>nehanaxane.ga</th>\n",
       "      <th>alexis-collins10.tk</th>\n",
       "      <th>laborindonesia.com</th>\n",
       "      <th>egdemo.info</th>\n",
       "      <th>theflatbellydrink.com</th>\n",
       "      <th>class</th>\n",
       "    </tr>\n",
       "  </thead>\n",
       "  <tbody>\n",
       "    <tr>\n",
       "      <th>0</th>\n",
       "      <td>yusqa.com</td>\n",
       "      <td>True</td>\n",
       "      <td>365</td>\n",
       "      <td>True</td>\n",
       "      <td>False</td>\n",
       "      <td>257</td>\n",
       "      <td>False</td>\n",
       "      <td>0</td>\n",
       "      <td>0</td>\n",
       "      <td>0</td>\n",
       "      <td>...</td>\n",
       "      <td>0</td>\n",
       "      <td>0</td>\n",
       "      <td>0</td>\n",
       "      <td>0</td>\n",
       "      <td>0</td>\n",
       "      <td>0</td>\n",
       "      <td>0</td>\n",
       "      <td>0</td>\n",
       "      <td>0</td>\n",
       "      <td>phish</td>\n",
       "    </tr>\n",
       "    <tr>\n",
       "      <th>1</th>\n",
       "      <td>yonnaforexbureau.gm</td>\n",
       "      <td>True</td>\n",
       "      <td>90</td>\n",
       "      <td>True</td>\n",
       "      <td>False</td>\n",
       "      <td>61</td>\n",
       "      <td>False</td>\n",
       "      <td>0</td>\n",
       "      <td>0</td>\n",
       "      <td>0</td>\n",
       "      <td>...</td>\n",
       "      <td>0</td>\n",
       "      <td>0</td>\n",
       "      <td>0</td>\n",
       "      <td>0</td>\n",
       "      <td>0</td>\n",
       "      <td>0</td>\n",
       "      <td>0</td>\n",
       "      <td>0</td>\n",
       "      <td>0</td>\n",
       "      <td>phish</td>\n",
       "    </tr>\n",
       "    <tr>\n",
       "      <th>2</th>\n",
       "      <td>www.serveradmin.gq</td>\n",
       "      <td>True</td>\n",
       "      <td>57</td>\n",
       "      <td>True</td>\n",
       "      <td>False</td>\n",
       "      <td>6</td>\n",
       "      <td>True</td>\n",
       "      <td>0</td>\n",
       "      <td>0</td>\n",
       "      <td>0</td>\n",
       "      <td>...</td>\n",
       "      <td>0</td>\n",
       "      <td>0</td>\n",
       "      <td>0</td>\n",
       "      <td>0</td>\n",
       "      <td>0</td>\n",
       "      <td>0</td>\n",
       "      <td>0</td>\n",
       "      <td>0</td>\n",
       "      <td>0</td>\n",
       "      <td>phish</td>\n",
       "    </tr>\n",
       "    <tr>\n",
       "      <th>3</th>\n",
       "      <td>themasterslive.com</td>\n",
       "      <td>True</td>\n",
       "      <td>90</td>\n",
       "      <td>True</td>\n",
       "      <td>False</td>\n",
       "      <td>1</td>\n",
       "      <td>False</td>\n",
       "      <td>0</td>\n",
       "      <td>0</td>\n",
       "      <td>0</td>\n",
       "      <td>...</td>\n",
       "      <td>0</td>\n",
       "      <td>0</td>\n",
       "      <td>0</td>\n",
       "      <td>0</td>\n",
       "      <td>0</td>\n",
       "      <td>0</td>\n",
       "      <td>0</td>\n",
       "      <td>0</td>\n",
       "      <td>0</td>\n",
       "      <td>phish</td>\n",
       "    </tr>\n",
       "    <tr>\n",
       "      <th>4</th>\n",
       "      <td>edicionsdeponent.com</td>\n",
       "      <td>True</td>\n",
       "      <td>90</td>\n",
       "      <td>True</td>\n",
       "      <td>False</td>\n",
       "      <td>7</td>\n",
       "      <td>False</td>\n",
       "      <td>0</td>\n",
       "      <td>0</td>\n",
       "      <td>0</td>\n",
       "      <td>...</td>\n",
       "      <td>0</td>\n",
       "      <td>0</td>\n",
       "      <td>0</td>\n",
       "      <td>0</td>\n",
       "      <td>0</td>\n",
       "      <td>0</td>\n",
       "      <td>0</td>\n",
       "      <td>0</td>\n",
       "      <td>0</td>\n",
       "      <td>phish</td>\n",
       "    </tr>\n",
       "  </tbody>\n",
       "</table>\n",
       "<p>5 rows × 2208 columns</p>\n",
       "</div>"
      ],
      "text/plain": [
       "                 domain  has_cert  longetivity  valid_cert  \\\n",
       "0             yusqa.com      True          365        True   \n",
       "1   yonnaforexbureau.gm      True           90        True   \n",
       "2    www.serveradmin.gq      True           57        True   \n",
       "3    themasterslive.com      True           90        True   \n",
       "4  edicionsdeponent.com      True           90        True   \n",
       "\n",
       "   extended_validation  cert_age  multi_mtn  globalsign nv-sa  google inc  \\\n",
       "0                False       257      False                 0           0   \n",
       "1                False        61      False                 0           0   \n",
       "2                False         6       True                 0           0   \n",
       "3                False         1      False                 0           0   \n",
       "4                False         7      False                 0           0   \n",
       "\n",
       "   gandi  ...  wponabudget.com  reviews-by.ml  sewaknepal.org  \\\n",
       "0      0  ...                0              0               0   \n",
       "1      0  ...                0              0               0   \n",
       "2      0  ...                0              0               0   \n",
       "3      0  ...                0              0               0   \n",
       "4      0  ...                0              0               0   \n",
       "\n",
       "   watchvslivestreamtv.club  nehanaxane.ga  alexis-collins10.tk  \\\n",
       "0                         0              0                    0   \n",
       "1                         0              0                    0   \n",
       "2                         0              0                    0   \n",
       "3                         0              0                    0   \n",
       "4                         0              0                    0   \n",
       "\n",
       "   laborindonesia.com  egdemo.info  theflatbellydrink.com  class  \n",
       "0                   0            0                      0  phish  \n",
       "1                   0            0                      0  phish  \n",
       "2                   0            0                      0  phish  \n",
       "3                   0            0                      0  phish  \n",
       "4                   0            0                      0  phish  \n",
       "\n",
       "[5 rows x 2208 columns]"
      ]
     },
     "execution_count": 21,
     "metadata": {},
     "output_type": "execute_result"
    }
   ],
   "source": [
    "phish.head()"
   ]
  },
  {
   "cell_type": "code",
   "execution_count": 22,
   "metadata": {
    "ExecuteTime": {
     "end_time": "2020-04-05T14:51:15.307442Z",
     "start_time": "2020-04-05T14:51:14.988649Z"
    }
   },
   "outputs": [],
   "source": [
    "#merge alexa and phish datasets\n",
    "df = pd.concat([phish,alexa], axis=0, join='outer', ignore_index=False, keys=None,\n",
    "          levels=None, names=None, verify_integrity=False, copy=True)"
   ]
  },
  {
   "cell_type": "code",
   "execution_count": 23,
   "metadata": {
    "ExecuteTime": {
     "end_time": "2020-04-05T14:51:15.814000Z",
     "start_time": "2020-04-05T14:51:15.788298Z"
    },
    "scrolled": true
   },
   "outputs": [
    {
     "data": {
      "text/html": [
       "<div>\n",
       "<style scoped>\n",
       "    .dataframe tbody tr th:only-of-type {\n",
       "        vertical-align: middle;\n",
       "    }\n",
       "\n",
       "    .dataframe tbody tr th {\n",
       "        vertical-align: top;\n",
       "    }\n",
       "\n",
       "    .dataframe thead th {\n",
       "        text-align: right;\n",
       "    }\n",
       "</style>\n",
       "<table border=\"1\" class=\"dataframe\">\n",
       "  <thead>\n",
       "    <tr style=\"text-align: right;\">\n",
       "      <th></th>\n",
       "      <th>domain</th>\n",
       "      <th>has_cert</th>\n",
       "      <th>longetivity</th>\n",
       "      <th>valid_cert</th>\n",
       "      <th>extended_validation</th>\n",
       "      <th>cert_age</th>\n",
       "      <th>multi_mtn</th>\n",
       "      <th>globalsign nv-sa</th>\n",
       "      <th>google inc</th>\n",
       "      <th>gandi</th>\n",
       "      <th>...</th>\n",
       "      <th>wponabudget.com</th>\n",
       "      <th>reviews-by.ml</th>\n",
       "      <th>sewaknepal.org</th>\n",
       "      <th>watchvslivestreamtv.club</th>\n",
       "      <th>nehanaxane.ga</th>\n",
       "      <th>alexis-collins10.tk</th>\n",
       "      <th>laborindonesia.com</th>\n",
       "      <th>egdemo.info</th>\n",
       "      <th>theflatbellydrink.com</th>\n",
       "      <th>class</th>\n",
       "    </tr>\n",
       "  </thead>\n",
       "  <tbody>\n",
       "    <tr>\n",
       "      <th>7071</th>\n",
       "      <td>www.weihenstephaner.de</td>\n",
       "      <td>True</td>\n",
       "      <td>1095</td>\n",
       "      <td>True</td>\n",
       "      <td>False</td>\n",
       "      <td>566</td>\n",
       "      <td>False</td>\n",
       "      <td>0</td>\n",
       "      <td>0</td>\n",
       "      <td>0</td>\n",
       "      <td>...</td>\n",
       "      <td>0</td>\n",
       "      <td>0</td>\n",
       "      <td>0</td>\n",
       "      <td>0</td>\n",
       "      <td>0</td>\n",
       "      <td>0</td>\n",
       "      <td>0</td>\n",
       "      <td>0</td>\n",
       "      <td>0</td>\n",
       "      <td>alexa</td>\n",
       "    </tr>\n",
       "    <tr>\n",
       "      <th>7072</th>\n",
       "      <td>www.overnightprints.at</td>\n",
       "      <td>True</td>\n",
       "      <td>1187</td>\n",
       "      <td>True</td>\n",
       "      <td>False</td>\n",
       "      <td>881</td>\n",
       "      <td>False</td>\n",
       "      <td>0</td>\n",
       "      <td>0</td>\n",
       "      <td>0</td>\n",
       "      <td>...</td>\n",
       "      <td>0</td>\n",
       "      <td>0</td>\n",
       "      <td>0</td>\n",
       "      <td>0</td>\n",
       "      <td>0</td>\n",
       "      <td>0</td>\n",
       "      <td>0</td>\n",
       "      <td>0</td>\n",
       "      <td>0</td>\n",
       "      <td>alexa</td>\n",
       "    </tr>\n",
       "    <tr>\n",
       "      <th>7073</th>\n",
       "      <td>tierradegracia.net</td>\n",
       "      <td>True</td>\n",
       "      <td>191</td>\n",
       "      <td>True</td>\n",
       "      <td>False</td>\n",
       "      <td>0</td>\n",
       "      <td>True</td>\n",
       "      <td>0</td>\n",
       "      <td>0</td>\n",
       "      <td>0</td>\n",
       "      <td>...</td>\n",
       "      <td>0</td>\n",
       "      <td>0</td>\n",
       "      <td>0</td>\n",
       "      <td>0</td>\n",
       "      <td>0</td>\n",
       "      <td>0</td>\n",
       "      <td>0</td>\n",
       "      <td>0</td>\n",
       "      <td>0</td>\n",
       "      <td>alexa</td>\n",
       "    </tr>\n",
       "    <tr>\n",
       "      <th>7074</th>\n",
       "      <td>fluffyaudio.com</td>\n",
       "      <td>True</td>\n",
       "      <td>365</td>\n",
       "      <td>True</td>\n",
       "      <td>False</td>\n",
       "      <td>274</td>\n",
       "      <td>False</td>\n",
       "      <td>0</td>\n",
       "      <td>0</td>\n",
       "      <td>0</td>\n",
       "      <td>...</td>\n",
       "      <td>0</td>\n",
       "      <td>0</td>\n",
       "      <td>0</td>\n",
       "      <td>0</td>\n",
       "      <td>0</td>\n",
       "      <td>0</td>\n",
       "      <td>0</td>\n",
       "      <td>0</td>\n",
       "      <td>0</td>\n",
       "      <td>alexa</td>\n",
       "    </tr>\n",
       "    <tr>\n",
       "      <th>7075</th>\n",
       "      <td>semirxb.world.tmall.com</td>\n",
       "      <td>True</td>\n",
       "      <td>354</td>\n",
       "      <td>True</td>\n",
       "      <td>False</td>\n",
       "      <td>19</td>\n",
       "      <td>True</td>\n",
       "      <td>1</td>\n",
       "      <td>0</td>\n",
       "      <td>0</td>\n",
       "      <td>...</td>\n",
       "      <td>0</td>\n",
       "      <td>0</td>\n",
       "      <td>0</td>\n",
       "      <td>0</td>\n",
       "      <td>0</td>\n",
       "      <td>0</td>\n",
       "      <td>0</td>\n",
       "      <td>0</td>\n",
       "      <td>0</td>\n",
       "      <td>alexa</td>\n",
       "    </tr>\n",
       "  </tbody>\n",
       "</table>\n",
       "<p>5 rows × 2208 columns</p>\n",
       "</div>"
      ],
      "text/plain": [
       "                       domain  has_cert  longetivity  valid_cert  \\\n",
       "7071   www.weihenstephaner.de      True         1095        True   \n",
       "7072   www.overnightprints.at      True         1187        True   \n",
       "7073       tierradegracia.net      True          191        True   \n",
       "7074          fluffyaudio.com      True          365        True   \n",
       "7075  semirxb.world.tmall.com      True          354        True   \n",
       "\n",
       "      extended_validation  cert_age  multi_mtn  globalsign nv-sa  google inc  \\\n",
       "7071                False       566      False                 0           0   \n",
       "7072                False       881      False                 0           0   \n",
       "7073                False         0       True                 0           0   \n",
       "7074                False       274      False                 0           0   \n",
       "7075                False        19       True                 1           0   \n",
       "\n",
       "      gandi  ...  wponabudget.com  reviews-by.ml  sewaknepal.org  \\\n",
       "7071      0  ...                0              0               0   \n",
       "7072      0  ...                0              0               0   \n",
       "7073      0  ...                0              0               0   \n",
       "7074      0  ...                0              0               0   \n",
       "7075      0  ...                0              0               0   \n",
       "\n",
       "      watchvslivestreamtv.club  nehanaxane.ga  alexis-collins10.tk  \\\n",
       "7071                         0              0                    0   \n",
       "7072                         0              0                    0   \n",
       "7073                         0              0                    0   \n",
       "7074                         0              0                    0   \n",
       "7075                         0              0                    0   \n",
       "\n",
       "      laborindonesia.com  egdemo.info  theflatbellydrink.com  class  \n",
       "7071                   0            0                      0  alexa  \n",
       "7072                   0            0                      0  alexa  \n",
       "7073                   0            0                      0  alexa  \n",
       "7074                   0            0                      0  alexa  \n",
       "7075                   0            0                      0  alexa  \n",
       "\n",
       "[5 rows x 2208 columns]"
      ]
     },
     "execution_count": 23,
     "metadata": {},
     "output_type": "execute_result"
    }
   ],
   "source": [
    "df.tail()"
   ]
  },
  {
   "cell_type": "code",
   "execution_count": 24,
   "metadata": {
    "ExecuteTime": {
     "end_time": "2020-04-05T14:51:16.194139Z",
     "start_time": "2020-04-05T14:51:16.189121Z"
    }
   },
   "outputs": [],
   "source": [
    "#define features and target feature\n",
    "x = df.iloc[:,1:7]\n",
    "y = df.loc[:,\"class\"]"
   ]
  },
  {
   "cell_type": "code",
   "execution_count": 25,
   "metadata": {
    "ExecuteTime": {
     "end_time": "2020-04-05T14:51:16.571826Z",
     "start_time": "2020-04-05T14:51:16.556493Z"
    }
   },
   "outputs": [
    {
     "data": {
      "text/html": [
       "<div>\n",
       "<style scoped>\n",
       "    .dataframe tbody tr th:only-of-type {\n",
       "        vertical-align: middle;\n",
       "    }\n",
       "\n",
       "    .dataframe tbody tr th {\n",
       "        vertical-align: top;\n",
       "    }\n",
       "\n",
       "    .dataframe thead th {\n",
       "        text-align: right;\n",
       "    }\n",
       "</style>\n",
       "<table border=\"1\" class=\"dataframe\">\n",
       "  <thead>\n",
       "    <tr style=\"text-align: right;\">\n",
       "      <th></th>\n",
       "      <th>has_cert</th>\n",
       "      <th>longetivity</th>\n",
       "      <th>valid_cert</th>\n",
       "      <th>extended_validation</th>\n",
       "      <th>cert_age</th>\n",
       "      <th>multi_mtn</th>\n",
       "    </tr>\n",
       "  </thead>\n",
       "  <tbody>\n",
       "    <tr>\n",
       "      <th>0</th>\n",
       "      <td>True</td>\n",
       "      <td>365</td>\n",
       "      <td>True</td>\n",
       "      <td>False</td>\n",
       "      <td>257</td>\n",
       "      <td>False</td>\n",
       "    </tr>\n",
       "    <tr>\n",
       "      <th>1</th>\n",
       "      <td>True</td>\n",
       "      <td>90</td>\n",
       "      <td>True</td>\n",
       "      <td>False</td>\n",
       "      <td>61</td>\n",
       "      <td>False</td>\n",
       "    </tr>\n",
       "    <tr>\n",
       "      <th>2</th>\n",
       "      <td>True</td>\n",
       "      <td>57</td>\n",
       "      <td>True</td>\n",
       "      <td>False</td>\n",
       "      <td>6</td>\n",
       "      <td>True</td>\n",
       "    </tr>\n",
       "    <tr>\n",
       "      <th>3</th>\n",
       "      <td>True</td>\n",
       "      <td>90</td>\n",
       "      <td>True</td>\n",
       "      <td>False</td>\n",
       "      <td>1</td>\n",
       "      <td>False</td>\n",
       "    </tr>\n",
       "    <tr>\n",
       "      <th>4</th>\n",
       "      <td>True</td>\n",
       "      <td>90</td>\n",
       "      <td>True</td>\n",
       "      <td>False</td>\n",
       "      <td>7</td>\n",
       "      <td>False</td>\n",
       "    </tr>\n",
       "  </tbody>\n",
       "</table>\n",
       "</div>"
      ],
      "text/plain": [
       "   has_cert  longetivity  valid_cert  extended_validation  cert_age  multi_mtn\n",
       "0      True          365        True                False       257      False\n",
       "1      True           90        True                False        61      False\n",
       "2      True           57        True                False         6       True\n",
       "3      True           90        True                False         1      False\n",
       "4      True           90        True                False         7      False"
      ]
     },
     "execution_count": 25,
     "metadata": {},
     "output_type": "execute_result"
    }
   ],
   "source": [
    "x.head()"
   ]
  },
  {
   "cell_type": "code",
   "execution_count": 26,
   "metadata": {
    "ExecuteTime": {
     "end_time": "2020-04-05T14:51:25.472339Z",
     "start_time": "2020-04-05T14:51:25.466355Z"
    }
   },
   "outputs": [
    {
     "data": {
      "text/plain": [
       "0    phish\n",
       "1    phish\n",
       "2    phish\n",
       "3    phish\n",
       "4    phish\n",
       "Name: class, dtype: object"
      ]
     },
     "execution_count": 26,
     "metadata": {},
     "output_type": "execute_result"
    }
   ],
   "source": [
    "y.head()"
   ]
  },
  {
   "cell_type": "code",
   "execution_count": 27,
   "metadata": {
    "ExecuteTime": {
     "end_time": "2020-04-05T14:51:26.923194Z",
     "start_time": "2020-04-05T14:51:26.909228Z"
    }
   },
   "outputs": [
    {
     "data": {
      "text/html": [
       "<div>\n",
       "<style scoped>\n",
       "    .dataframe tbody tr th:only-of-type {\n",
       "        vertical-align: middle;\n",
       "    }\n",
       "\n",
       "    .dataframe tbody tr th {\n",
       "        vertical-align: top;\n",
       "    }\n",
       "\n",
       "    .dataframe thead th {\n",
       "        text-align: right;\n",
       "    }\n",
       "</style>\n",
       "<table border=\"1\" class=\"dataframe\">\n",
       "  <thead>\n",
       "    <tr style=\"text-align: right;\">\n",
       "      <th></th>\n",
       "      <th>target</th>\n",
       "    </tr>\n",
       "  </thead>\n",
       "  <tbody>\n",
       "    <tr>\n",
       "      <th>0</th>\n",
       "      <td>True</td>\n",
       "    </tr>\n",
       "    <tr>\n",
       "      <th>1</th>\n",
       "      <td>True</td>\n",
       "    </tr>\n",
       "    <tr>\n",
       "      <th>2</th>\n",
       "      <td>True</td>\n",
       "    </tr>\n",
       "    <tr>\n",
       "      <th>3</th>\n",
       "      <td>True</td>\n",
       "    </tr>\n",
       "    <tr>\n",
       "      <th>4</th>\n",
       "      <td>True</td>\n",
       "    </tr>\n",
       "  </tbody>\n",
       "</table>\n",
       "</div>"
      ],
      "text/plain": [
       "   target\n",
       "0    True\n",
       "1    True\n",
       "2    True\n",
       "3    True\n",
       "4    True"
      ]
     },
     "execution_count": 27,
     "metadata": {},
     "output_type": "execute_result"
    }
   ],
   "source": [
    "#convert target class to booleans\n",
    "\n",
    "ylist = list(y)\n",
    "\n",
    "count = 0\n",
    "for i in ylist:\n",
    "    if i == 'phish':\n",
    "        ylist[count] = True\n",
    "    elif i == 'alexa':\n",
    "        ylist[count] = False\n",
    "    count+=1\n",
    "\n",
    "yboolean = pd.DataFrame(ylist, columns = ['target'])\n",
    "yboolean.head()"
   ]
  },
  {
   "cell_type": "code",
   "execution_count": 28,
   "metadata": {
    "ExecuteTime": {
     "end_time": "2020-04-05T14:51:32.449610Z",
     "start_time": "2020-04-05T14:51:28.884928Z"
    }
   },
   "outputs": [],
   "source": [
    "#create train and test dataframes\n",
    "from sklearn.model_selection import train_test_split\n",
    "x_train, x_test, y_train, y_test = train_test_split(x, y, test_size=0.2, stratify=y)"
   ]
  },
  {
   "cell_type": "code",
   "execution_count": 102,
   "metadata": {
    "ExecuteTime": {
     "end_time": "2020-04-05T17:43:44.733171Z",
     "start_time": "2020-04-05T17:43:43.382741Z"
    }
   },
   "outputs": [
    {
     "name": "stdout",
     "output_type": "stream",
     "text": [
      "Accuracy attained from ADABoost model: 0.919047619047619\n"
     ]
    }
   ],
   "source": [
    "from sklearn.tree import DecisionTreeClassifier\n",
    "from sklearn.ensemble import AdaBoostClassifier\n",
    "from sklearn.metrics import accuracy_score\n",
    "\n",
    "\n",
    "# Instantiate dt\n",
    "#dt = DecisionTreeClassifier(max_depth=3)\n",
    "dt = DecisionTreeClassifier()\n",
    "\n",
    "# Instantiate ada\n",
    "#ada = AdaBoostClassifier(base_estimator=dt, learning_rate = 0.05, n_estimators = 200)\n",
    "ada = AdaBoostClassifier(base_estimator=dt)\n",
    "\n",
    "# Fit ada to the training set\n",
    "ada.fit(x_train, y_train)\n",
    "\n",
    "# Compute the probabilities of obtaining the positive class\n",
    "y_pred_proba = ada.predict_proba(x_test)[:,1]\n",
    "y_pred_Ada = ada.predict(x_test)\n",
    "\n",
    "from sklearn.metrics import accuracy_score\n",
    "\n",
    "#AdaBoost accuracy\n",
    "print('Accuracy attained from ADABoost model:', accuracy_score(y_test,y_pred_Ada))"
   ]
  },
  {
   "cell_type": "code",
   "execution_count": 42,
   "metadata": {
    "ExecuteTime": {
     "end_time": "2020-04-05T15:03:57.330343Z",
     "start_time": "2020-04-05T14:55:05.524203Z"
    }
   },
   "outputs": [],
   "source": [
    "\n",
    "from sklearn.model_selection import GridSearchCV\n",
    "\n",
    "'''This loops iterates through different decision tree max depths and performs a grid search on the\n",
    "AdaBoost model for each max depth'''\n",
    "list1 = []\n",
    "for i in range(1, 10, 2):\n",
    "\n",
    "    param_grid = {\n",
    "     'n_estimators': [50, 100, 200],\n",
    "     'learning_rate' : [0.01,0.05,0.1,0.3,1],\n",
    "     }\n",
    "\n",
    "    ada2 = AdaBoostClassifier(DecisionTreeClassifier(max_depth=i))\n",
    "    ada_search = GridSearchCV(ada2, param_grid, cv=3, scoring = 'accuracy')\n",
    "    ada_search.fit(x_train, y_train)\n",
    "    list1.append([pd.DataFrame(ada_search.cv_results_),i])\n"
   ]
  },
  {
   "cell_type": "code",
   "execution_count": 44,
   "metadata": {
    "ExecuteTime": {
     "end_time": "2020-04-05T15:24:52.648271Z",
     "start_time": "2020-04-05T15:24:52.616776Z"
    }
   },
   "outputs": [
    {
     "data": {
      "text/html": [
       "<div>\n",
       "<style scoped>\n",
       "    .dataframe tbody tr th:only-of-type {\n",
       "        vertical-align: middle;\n",
       "    }\n",
       "\n",
       "    .dataframe tbody tr th {\n",
       "        vertical-align: top;\n",
       "    }\n",
       "\n",
       "    .dataframe thead th {\n",
       "        text-align: right;\n",
       "    }\n",
       "</style>\n",
       "<table border=\"1\" class=\"dataframe\">\n",
       "  <thead>\n",
       "    <tr style=\"text-align: right;\">\n",
       "      <th></th>\n",
       "      <th>param_learning_rate</th>\n",
       "      <th>param_n_estimators</th>\n",
       "      <th>params</th>\n",
       "      <th>max_depth</th>\n",
       "      <th>mean_test_score</th>\n",
       "      <th>rank_test_score</th>\n",
       "    </tr>\n",
       "  </thead>\n",
       "  <tbody>\n",
       "    <tr>\n",
       "      <th>5</th>\n",
       "      <td>0.05</td>\n",
       "      <td>200</td>\n",
       "      <td>{'learning_rate': 0.05, 'n_estimators': 200}</td>\n",
       "      <td>3</td>\n",
       "      <td>0.927508</td>\n",
       "      <td>1</td>\n",
       "    </tr>\n",
       "    <tr>\n",
       "      <th>3</th>\n",
       "      <td>0.05</td>\n",
       "      <td>50</td>\n",
       "      <td>{'learning_rate': 0.05, 'n_estimators': 50}</td>\n",
       "      <td>5</td>\n",
       "      <td>0.927359</td>\n",
       "      <td>1</td>\n",
       "    </tr>\n",
       "    <tr>\n",
       "      <th>4</th>\n",
       "      <td>0.05</td>\n",
       "      <td>100</td>\n",
       "      <td>{'learning_rate': 0.05, 'n_estimators': 100}</td>\n",
       "      <td>3</td>\n",
       "      <td>0.926020</td>\n",
       "      <td>2</td>\n",
       "    </tr>\n",
       "    <tr>\n",
       "      <th>2</th>\n",
       "      <td>0.01</td>\n",
       "      <td>200</td>\n",
       "      <td>{'learning_rate': 0.01, 'n_estimators': 200}</td>\n",
       "      <td>5</td>\n",
       "      <td>0.925722</td>\n",
       "      <td>2</td>\n",
       "    </tr>\n",
       "    <tr>\n",
       "      <th>1</th>\n",
       "      <td>0.01</td>\n",
       "      <td>100</td>\n",
       "      <td>{'learning_rate': 0.01, 'n_estimators': 100}</td>\n",
       "      <td>5</td>\n",
       "      <td>0.925573</td>\n",
       "      <td>3</td>\n",
       "    </tr>\n",
       "  </tbody>\n",
       "</table>\n",
       "</div>"
      ],
      "text/plain": [
       "  param_learning_rate param_n_estimators  \\\n",
       "5                0.05                200   \n",
       "3                0.05                 50   \n",
       "4                0.05                100   \n",
       "2                0.01                200   \n",
       "1                0.01                100   \n",
       "\n",
       "                                         params  max_depth  mean_test_score  \\\n",
       "5  {'learning_rate': 0.05, 'n_estimators': 200}          3         0.927508   \n",
       "3   {'learning_rate': 0.05, 'n_estimators': 50}          5         0.927359   \n",
       "4  {'learning_rate': 0.05, 'n_estimators': 100}          3         0.926020   \n",
       "2  {'learning_rate': 0.01, 'n_estimators': 200}          5         0.925722   \n",
       "1  {'learning_rate': 0.01, 'n_estimators': 100}          5         0.925573   \n",
       "\n",
       "   rank_test_score  \n",
       "5                1  \n",
       "3                1  \n",
       "4                2  \n",
       "2                2  \n",
       "1                3  "
      ]
     },
     "execution_count": 44,
     "metadata": {},
     "output_type": "execute_result"
    }
   ],
   "source": [
    "#gridsearch and for loop results\n",
    "ada_cv = pd.DataFrame()\n",
    "for j in list1:\n",
    "    j[0]['max_depth'] = j[1]\n",
    "    ada_cv = pd.concat([j[0], ada_cv])\n",
    "ada_cv = ada_cv[['param_learning_rate', 'param_n_estimators', 'params','max_depth', 'mean_test_score', 'rank_test_score']]\n",
    "ada_cv.sort_values(by=['mean_test_score'], ascending = False).head()"
   ]
  },
  {
   "cell_type": "code",
   "execution_count": 104,
   "metadata": {
    "ExecuteTime": {
     "end_time": "2020-04-05T17:46:12.268755Z",
     "start_time": "2020-04-05T17:46:07.685408Z"
    }
   },
   "outputs": [
    {
     "name": "stdout",
     "output_type": "stream",
     "text": [
      "Accuracy attained from best ADABoost model: 0.9202380952380952\n"
     ]
    }
   ],
   "source": [
    "#Run AdaBoost using the best parameters and output accuracy\n",
    "dt_best = DecisionTreeClassifier(max_depth=3)\n",
    "ada_best = AdaBoostClassifier(base_estimator=dt_best, n_estimators = 200, learning_rate= 0.05)\n",
    "\n",
    "ada_best.fit(x_train, y_train)\n",
    "y_pred_Ada_best = ada_best.predict(x_test)\n",
    "print('Accuracy attained from best ADABoost model:', accuracy_score(y_test,y_pred_Ada_best))"
   ]
  },
  {
   "cell_type": "code",
   "execution_count": null,
   "metadata": {},
   "outputs": [],
   "source": []
  },
  {
   "cell_type": "code",
   "execution_count": null,
   "metadata": {},
   "outputs": [],
   "source": []
  },
  {
   "cell_type": "code",
   "execution_count": null,
   "metadata": {},
   "outputs": [],
   "source": []
  },
  {
   "cell_type": "code",
   "execution_count": 52,
   "metadata": {
    "ExecuteTime": {
     "end_time": "2020-04-05T15:57:58.112298Z",
     "start_time": "2020-04-05T15:57:58.108309Z"
    }
   },
   "outputs": [],
   "source": [
    "from sklearn.ensemble import RandomForestClassifier"
   ]
  },
  {
   "cell_type": "code",
   "execution_count": 105,
   "metadata": {
    "ExecuteTime": {
     "end_time": "2020-04-05T17:47:12.921480Z",
     "start_time": "2020-04-05T17:47:12.840869Z"
    }
   },
   "outputs": [
    {
     "name": "stdout",
     "output_type": "stream",
     "text": [
      "Accuracy attained from RF model: 0.9172619047619047\n"
     ]
    },
    {
     "name": "stderr",
     "output_type": "stream",
     "text": [
      "C:\\ProgramData\\Anaconda3\\lib\\site-packages\\sklearn\\ensemble\\forest.py:245: FutureWarning: The default value of n_estimators will change from 10 in version 0.20 to 100 in 0.22.\n",
      "  \"10 in version 0.20 to 100 in 0.22.\", FutureWarning)\n"
     ]
    }
   ],
   "source": [
    "#Fit a basic random forest classifier to certification data\n",
    "forest_phish = RandomForestClassifier()\n",
    "forest_phish.fit(x_train,y_train)\n",
    "\n",
    "y_pred_RF = forest_phish.predict(x_test)\n",
    "\n",
    "#Evaluate test set accuracy\n",
    "print('Accuracy attained from RF model:', accuracy_score(y_test,y_pred_RF))"
   ]
  },
  {
   "cell_type": "code",
   "execution_count": 58,
   "metadata": {
    "ExecuteTime": {
     "end_time": "2020-04-05T16:28:57.999929Z",
     "start_time": "2020-04-05T16:28:19.169732Z"
    }
   },
   "outputs": [
    {
     "data": {
      "text/plain": [
       "GridSearchCV(cv=3, error_score='raise-deprecating',\n",
       "             estimator=RandomForestClassifier(bootstrap=True, class_weight=None,\n",
       "                                              criterion='gini', max_depth=None,\n",
       "                                              max_features='auto',\n",
       "                                              max_leaf_nodes=None,\n",
       "                                              min_impurity_decrease=0.0,\n",
       "                                              min_impurity_split=None,\n",
       "                                              min_samples_leaf=1,\n",
       "                                              min_samples_split=2,\n",
       "                                              min_weight_fraction_leaf=0.0,\n",
       "                                              n_estimators='warn', n_jobs=None,\n",
       "                                              oob_score=Fa...\n",
       "                                              random_state=None, verbose=0,\n",
       "                                              warm_start=False),\n",
       "             iid='warn', n_jobs=None,\n",
       "             param_grid=[{'max_depth': [2, 4, 7, 10, 15],\n",
       "                          'max_features': [0.1, 0.3, 0.5, 0.8, 1.0],\n",
       "                          'n_estimators': [3, 10, 30]},\n",
       "                         {'bootstrap': [False], 'max_depth': [2, 4, 7, 10, 15],\n",
       "                          'max_features': [0.1, 0.3, 0.5, 0.8, 1.0],\n",
       "                          'n_estimators': [3, 10, 30]}],\n",
       "             pre_dispatch='2*n_jobs', refit=True, return_train_score=False,\n",
       "             scoring='accuracy', verbose=0)"
      ]
     },
     "execution_count": 58,
     "metadata": {},
     "output_type": "execute_result"
    }
   ],
   "source": [
    "#gridsearch on random forest paramaters n_estimators, max_features, max_depth, bootstrap\n",
    "param_grid = [\n",
    "    # try 12 (3×4) combinations of hyperparameters\n",
    "    {'n_estimators': [3, 10, 30], 'max_features': [0.1, 0.3, 0.5, 0.8, 1.0], 'max_depth':[2,4,7,10, 15]}, \n",
    "    #{'n_estimators': [50, 70, 90], 'max_features': [8, 10, 12, 15]},\n",
    "    # then try 6 (2×3) combinations with bootstrap set as False\n",
    "    {'bootstrap': [False], 'n_estimators': [3, 10, 30], 'max_features': [0.1, 0.3, 0.5, 0.8, 1.0], 'max_depth':[2,4,7,10, 15]}]\n",
    "\n",
    "forest_phish = RandomForestClassifier()\n",
    "# train across 5 folds, that's a total of (12+6)*5=90 rounds of training \n",
    "grid_forest = GridSearchCV(forest_phish, param_grid, cv=3,\n",
    "                           scoring='accuracy')\n",
    "grid_forest.fit(x_train,y_train.values.ravel())"
   ]
  },
  {
   "cell_type": "code",
   "execution_count": 70,
   "metadata": {
    "ExecuteTime": {
     "end_time": "2020-04-05T16:32:11.354688Z",
     "start_time": "2020-04-05T16:32:11.332526Z"
    }
   },
   "outputs": [
    {
     "data": {
      "text/html": [
       "<div>\n",
       "<style scoped>\n",
       "    .dataframe tbody tr th:only-of-type {\n",
       "        vertical-align: middle;\n",
       "    }\n",
       "\n",
       "    .dataframe tbody tr th {\n",
       "        vertical-align: top;\n",
       "    }\n",
       "\n",
       "    .dataframe thead th {\n",
       "        text-align: right;\n",
       "    }\n",
       "</style>\n",
       "<table border=\"1\" class=\"dataframe\">\n",
       "  <thead>\n",
       "    <tr style=\"text-align: right;\">\n",
       "      <th></th>\n",
       "      <th>param_max_depth</th>\n",
       "      <th>param_max_features</th>\n",
       "      <th>param_bootstrap</th>\n",
       "      <th>param_n_estimators</th>\n",
       "      <th>params</th>\n",
       "      <th>mean_test_score</th>\n",
       "      <th>rank_test_score</th>\n",
       "    </tr>\n",
       "  </thead>\n",
       "  <tbody>\n",
       "    <tr>\n",
       "      <th>49</th>\n",
       "      <td>10</td>\n",
       "      <td>0.3</td>\n",
       "      <td>NaN</td>\n",
       "      <td>10</td>\n",
       "      <td>{'max_depth': 10, 'max_features': 0.3, 'n_esti...</td>\n",
       "      <td>0.928401</td>\n",
       "      <td>1</td>\n",
       "    </tr>\n",
       "    <tr>\n",
       "      <th>37</th>\n",
       "      <td>7</td>\n",
       "      <td>0.5</td>\n",
       "      <td>NaN</td>\n",
       "      <td>10</td>\n",
       "      <td>{'max_depth': 7, 'max_features': 0.5, 'n_estim...</td>\n",
       "      <td>0.927359</td>\n",
       "      <td>2</td>\n",
       "    </tr>\n",
       "    <tr>\n",
       "      <th>122</th>\n",
       "      <td>10</td>\n",
       "      <td>0.1</td>\n",
       "      <td>False</td>\n",
       "      <td>30</td>\n",
       "      <td>{'bootstrap': False, 'max_depth': 10, 'max_fea...</td>\n",
       "      <td>0.927062</td>\n",
       "      <td>3</td>\n",
       "    </tr>\n",
       "    <tr>\n",
       "      <th>115</th>\n",
       "      <td>7</td>\n",
       "      <td>0.8</td>\n",
       "      <td>False</td>\n",
       "      <td>10</td>\n",
       "      <td>{'bootstrap': False, 'max_depth': 7, 'max_feat...</td>\n",
       "      <td>0.926615</td>\n",
       "      <td>4</td>\n",
       "    </tr>\n",
       "    <tr>\n",
       "      <th>40</th>\n",
       "      <td>7</td>\n",
       "      <td>0.8</td>\n",
       "      <td>NaN</td>\n",
       "      <td>10</td>\n",
       "      <td>{'max_depth': 7, 'max_features': 0.8, 'n_estim...</td>\n",
       "      <td>0.926466</td>\n",
       "      <td>5</td>\n",
       "    </tr>\n",
       "  </tbody>\n",
       "</table>\n",
       "</div>"
      ],
      "text/plain": [
       "    param_max_depth param_max_features param_bootstrap param_n_estimators  \\\n",
       "49               10                0.3             NaN                 10   \n",
       "37                7                0.5             NaN                 10   \n",
       "122              10                0.1           False                 30   \n",
       "115               7                0.8           False                 10   \n",
       "40                7                0.8             NaN                 10   \n",
       "\n",
       "                                                params  mean_test_score  \\\n",
       "49   {'max_depth': 10, 'max_features': 0.3, 'n_esti...         0.928401   \n",
       "37   {'max_depth': 7, 'max_features': 0.5, 'n_estim...         0.927359   \n",
       "122  {'bootstrap': False, 'max_depth': 10, 'max_fea...         0.927062   \n",
       "115  {'bootstrap': False, 'max_depth': 7, 'max_feat...         0.926615   \n",
       "40   {'max_depth': 7, 'max_features': 0.8, 'n_estim...         0.926466   \n",
       "\n",
       "     rank_test_score  \n",
       "49                 1  \n",
       "37                 2  \n",
       "122                3  \n",
       "115                4  \n",
       "40                 5  "
      ]
     },
     "execution_count": 70,
     "metadata": {},
     "output_type": "execute_result"
    }
   ],
   "source": [
    "#Random forest best paramaters\n",
    "tuned_forest = pd.DataFrame(grid_forest.cv_results_)[['param_max_depth','param_max_features', 'param_bootstrap','param_n_estimators','params', 'mean_test_score', 'rank_test_score']]\n",
    "tuned_forest.sort_values(by='mean_test_score', ascending= False).head()"
   ]
  },
  {
   "cell_type": "code",
   "execution_count": 107,
   "metadata": {
    "ExecuteTime": {
     "end_time": "2020-04-05T17:50:02.684346Z",
     "start_time": "2020-04-05T17:50:02.608203Z"
    }
   },
   "outputs": [
    {
     "name": "stdout",
     "output_type": "stream",
     "text": [
      "Accuracy attained from RF model: 0.9202380952380952\n"
     ]
    }
   ],
   "source": [
    "#Random forest fit with best parameters on train set and predicted against test set\n",
    "forest_phish = RandomForestClassifier(max_depth = 10, max_features = 0.3, n_estimators = 10)\n",
    "forest_phish.fit(x_train,y_train)\n",
    "\n",
    "y_pred_best_RF = forest_phish.predict(x_test)\n",
    "\n",
    "#Evaluate test set accuracy\n",
    "print('Accuracy attained from RF model:', accuracy_score(y_test,y_pred_best_RF))"
   ]
  },
  {
   "cell_type": "code",
   "execution_count": null,
   "metadata": {},
   "outputs": [],
   "source": []
  },
  {
   "cell_type": "code",
   "execution_count": null,
   "metadata": {},
   "outputs": [],
   "source": []
  },
  {
   "cell_type": "code",
   "execution_count": null,
   "metadata": {},
   "outputs": [],
   "source": []
  },
  {
   "cell_type": "code",
   "execution_count": 108,
   "metadata": {
    "ExecuteTime": {
     "end_time": "2020-04-05T17:50:15.279196Z",
     "start_time": "2020-04-05T17:50:15.245480Z"
    }
   },
   "outputs": [
    {
     "name": "stdout",
     "output_type": "stream",
     "text": [
      "Accuracy attained from CART model: 0.9160714285714285\n"
     ]
    }
   ],
   "source": [
    "#Fit a basic CART classifier to certification data\n",
    "dt = DecisionTreeClassifier()\n",
    "\n",
    "\n",
    "#Fit dt to the training set\n",
    "dt.fit(x_train,y_train)\n",
    "\n",
    "#Predict test set labels\n",
    "y_pred_CART = dt.predict(x_test)\n",
    "\n",
    "#Evaluate test set accuracy\n",
    "print('Accuracy attained from CART model:', accuracy_score(y_test,y_pred_CART))"
   ]
  },
  {
   "cell_type": "code",
   "execution_count": 69,
   "metadata": {
    "ExecuteTime": {
     "end_time": "2020-04-05T16:30:54.803687Z",
     "start_time": "2020-04-05T16:30:51.220678Z"
    }
   },
   "outputs": [
    {
     "data": {
      "text/plain": [
       "GridSearchCV(cv=3, error_score='raise-deprecating',\n",
       "             estimator=DecisionTreeClassifier(class_weight=None,\n",
       "                                              criterion='gini', max_depth=None,\n",
       "                                              max_features=None,\n",
       "                                              max_leaf_nodes=None,\n",
       "                                              min_impurity_decrease=0.0,\n",
       "                                              min_impurity_split=None,\n",
       "                                              min_samples_leaf=1,\n",
       "                                              min_samples_split=2,\n",
       "                                              min_weight_fraction_leaf=0.0,\n",
       "                                              presort=False, random_state=None,\n",
       "                                              splitter='best'),\n",
       "             iid='warn', n_jobs=None,\n",
       "             param_grid={'criterion': ['gini', 'entropy'],\n",
       "                         'max_depth': [1, 2, 4, 8],\n",
       "                         'min_weight_fraction_leaf': [0, 0.005, 0.02, 0.05, 0.2,\n",
       "                                                      0.5]},\n",
       "             pre_dispatch='2*n_jobs', refit=True, return_train_score=False,\n",
       "             scoring='accuracy', verbose=0)"
      ]
     },
     "execution_count": 69,
     "metadata": {},
     "output_type": "execute_result"
    }
   ],
   "source": [
    "#run gridsearch on CART model for criterion, max_depth, and min_weight_fraction_leaf parameters\n",
    "from sklearn.model_selection import GridSearchCV\n",
    "\n",
    "# list1 = []\n",
    "\n",
    "param_grid = {\n",
    " 'criterion': ['gini', 'entropy'],\n",
    " 'max_depth': [1,2,4,8],\n",
    " 'min_weight_fraction_leaf' : [0, 0.005, 0.02, 0.05, 0.2, 0.5],\n",
    " }\n",
    "\n",
    "dt2 = DecisionTreeClassifier()\n",
    "dt2_search = GridSearchCV(dt2, param_grid, cv=3, scoring = 'accuracy')\n",
    "dt2_search.fit(x_train, y_train)\n",
    "# list1.append(pd.DataFrame(dt2_search.cv_results_))\n"
   ]
  },
  {
   "cell_type": "code",
   "execution_count": 75,
   "metadata": {
    "ExecuteTime": {
     "end_time": "2020-04-05T16:36:20.366061Z",
     "start_time": "2020-04-05T16:36:20.347419Z"
    },
    "scrolled": true
   },
   "outputs": [
    {
     "data": {
      "text/html": [
       "<div>\n",
       "<style scoped>\n",
       "    .dataframe tbody tr th:only-of-type {\n",
       "        vertical-align: middle;\n",
       "    }\n",
       "\n",
       "    .dataframe tbody tr th {\n",
       "        vertical-align: top;\n",
       "    }\n",
       "\n",
       "    .dataframe thead th {\n",
       "        text-align: right;\n",
       "    }\n",
       "</style>\n",
       "<table border=\"1\" class=\"dataframe\">\n",
       "  <thead>\n",
       "    <tr style=\"text-align: right;\">\n",
       "      <th></th>\n",
       "      <th>param_criterion</th>\n",
       "      <th>param_max_depth</th>\n",
       "      <th>param_min_weight_fraction_leaf</th>\n",
       "      <th>params</th>\n",
       "      <th>mean_test_score</th>\n",
       "      <th>rank_test_score</th>\n",
       "    </tr>\n",
       "  </thead>\n",
       "  <tbody>\n",
       "    <tr>\n",
       "      <th>42</th>\n",
       "      <td>entropy</td>\n",
       "      <td>8</td>\n",
       "      <td>0</td>\n",
       "      <td>{'criterion': 'entropy', 'max_depth': 8, 'min_...</td>\n",
       "      <td>0.923489</td>\n",
       "      <td>1</td>\n",
       "    </tr>\n",
       "    <tr>\n",
       "      <th>18</th>\n",
       "      <td>gini</td>\n",
       "      <td>8</td>\n",
       "      <td>0</td>\n",
       "      <td>{'criterion': 'gini', 'max_depth': 8, 'min_wei...</td>\n",
       "      <td>0.923340</td>\n",
       "      <td>2</td>\n",
       "    </tr>\n",
       "    <tr>\n",
       "      <th>36</th>\n",
       "      <td>entropy</td>\n",
       "      <td>4</td>\n",
       "      <td>0</td>\n",
       "      <td>{'criterion': 'entropy', 'max_depth': 4, 'min_...</td>\n",
       "      <td>0.917535</td>\n",
       "      <td>3</td>\n",
       "    </tr>\n",
       "    <tr>\n",
       "      <th>19</th>\n",
       "      <td>gini</td>\n",
       "      <td>8</td>\n",
       "      <td>0.005</td>\n",
       "      <td>{'criterion': 'gini', 'max_depth': 8, 'min_wei...</td>\n",
       "      <td>0.916791</td>\n",
       "      <td>4</td>\n",
       "    </tr>\n",
       "    <tr>\n",
       "      <th>37</th>\n",
       "      <td>entropy</td>\n",
       "      <td>4</td>\n",
       "      <td>0.005</td>\n",
       "      <td>{'criterion': 'entropy', 'max_depth': 4, 'min_...</td>\n",
       "      <td>0.916791</td>\n",
       "      <td>4</td>\n",
       "    </tr>\n",
       "  </tbody>\n",
       "</table>\n",
       "</div>"
      ],
      "text/plain": [
       "   param_criterion param_max_depth param_min_weight_fraction_leaf  \\\n",
       "42         entropy               8                              0   \n",
       "18            gini               8                              0   \n",
       "36         entropy               4                              0   \n",
       "19            gini               8                          0.005   \n",
       "37         entropy               4                          0.005   \n",
       "\n",
       "                                               params  mean_test_score  \\\n",
       "42  {'criterion': 'entropy', 'max_depth': 8, 'min_...         0.923489   \n",
       "18  {'criterion': 'gini', 'max_depth': 8, 'min_wei...         0.923340   \n",
       "36  {'criterion': 'entropy', 'max_depth': 4, 'min_...         0.917535   \n",
       "19  {'criterion': 'gini', 'max_depth': 8, 'min_wei...         0.916791   \n",
       "37  {'criterion': 'entropy', 'max_depth': 4, 'min_...         0.916791   \n",
       "\n",
       "    rank_test_score  \n",
       "42                1  \n",
       "18                2  \n",
       "36                3  \n",
       "19                4  \n",
       "37                4  "
      ]
     },
     "execution_count": 75,
     "metadata": {},
     "output_type": "execute_result"
    }
   ],
   "source": [
    "#Display best CART grid search parameters\n",
    "dt2_cv = pd.DataFrame(dt2_search.cv_results_)\n",
    "dt2_cv = dt2_cv[['param_criterion', 'param_max_depth', 'param_min_weight_fraction_leaf','params', 'mean_test_score', 'rank_test_score']]\n",
    "\n",
    "dt2_cv.sort_values(by='mean_test_score', ascending = False).head()"
   ]
  },
  {
   "cell_type": "code",
   "execution_count": 109,
   "metadata": {
    "ExecuteTime": {
     "end_time": "2020-04-05T18:12:33.086177Z",
     "start_time": "2020-04-05T18:12:33.081192Z"
    }
   },
   "outputs": [
    {
     "data": {
      "text/plain": [
       "{'criterion': 'entropy', 'max_depth': 8, 'min_weight_fraction_leaf': 0}"
      ]
     },
     "execution_count": 109,
     "metadata": {},
     "output_type": "execute_result"
    }
   ],
   "source": [
    "dt2_search.best_params_"
   ]
  },
  {
   "cell_type": "code",
   "execution_count": 111,
   "metadata": {
    "ExecuteTime": {
     "end_time": "2020-04-05T18:14:17.236345Z",
     "start_time": "2020-04-05T18:14:17.201439Z"
    }
   },
   "outputs": [
    {
     "name": "stdout",
     "output_type": "stream",
     "text": [
      "Accuracy attained from CART model: 0.9202380952380952\n"
     ]
    }
   ],
   "source": [
    "\n",
    "CART_best = DecisionTreeClassifier(criterion= 'entropy', max_depth= 8, min_weight_fraction_leaf= 0)\n",
    "CART_best.fit(x_train, y_train)\n",
    "#Predict test set labels\n",
    "CART_best_pred = CART_best.predict(x_test)\n",
    "\n",
    "#Evaluate test set accuracy\n",
    "print('Accuracy attained from CART model:', accuracy_score(y_test,CART_best_pred))"
   ]
  },
  {
   "cell_type": "code",
   "execution_count": null,
   "metadata": {},
   "outputs": [],
   "source": []
  },
  {
   "cell_type": "code",
   "execution_count": null,
   "metadata": {},
   "outputs": [],
   "source": []
  },
  {
   "cell_type": "code",
   "execution_count": null,
   "metadata": {},
   "outputs": [],
   "source": []
  },
  {
   "cell_type": "code",
   "execution_count": 114,
   "metadata": {
    "ExecuteTime": {
     "end_time": "2020-04-05T18:17:18.703267Z",
     "start_time": "2020-04-05T18:17:18.594948Z"
    }
   },
   "outputs": [
    {
     "name": "stdout",
     "output_type": "stream",
     "text": [
      "Accuracy attained from KNN model: 0.9178571428571428\n"
     ]
    }
   ],
   "source": [
    "#Fit a basic KNN classifier to certification data\n",
    "from sklearn.neighbors import KNeighborsClassifier\n",
    "\n",
    "classifier = KNeighborsClassifier()\n",
    "classifier.fit(x_train,y_train)\n",
    "KNN_base_pred = classifier.predict(x_test)\n",
    "\n",
    "#Evaluate test set accuracy\n",
    "print('Accuracy attained from KNN model:', accuracy_score(y_test,KNN_base_pred))"
   ]
  },
  {
   "cell_type": "code",
   "execution_count": 92,
   "metadata": {
    "ExecuteTime": {
     "end_time": "2020-04-05T17:38:11.183351Z",
     "start_time": "2020-04-05T17:38:07.001066Z"
    }
   },
   "outputs": [
    {
     "name": "stdout",
     "output_type": "stream",
     "text": [
      "Fitting 5 folds for each of 40 candidates, totalling 200 fits\n"
     ]
    },
    {
     "name": "stderr",
     "output_type": "stream",
     "text": [
      "[Parallel(n_jobs=-1)]: Using backend LokyBackend with 8 concurrent workers.\n",
      "[Parallel(n_jobs=-1)]: Done  88 tasks      | elapsed:    1.6s\n",
      "[Parallel(n_jobs=-1)]: Done 200 out of 200 | elapsed:    4.0s finished\n"
     ]
    },
    {
     "data": {
      "text/plain": [
       "GridSearchCV(cv=5, error_score='raise-deprecating',\n",
       "             estimator=KNeighborsClassifier(algorithm='auto', leaf_size=30,\n",
       "                                            metric='minkowski',\n",
       "                                            metric_params=None, n_jobs=None,\n",
       "                                            n_neighbors=5, p=2,\n",
       "                                            weights='uniform'),\n",
       "             iid='warn', n_jobs=-1,\n",
       "             param_grid={'metric': ['euclidean', 'manhattan'],\n",
       "                         'n_neighbors': [1, 2, 3, 5, 10, 20, 50, 100, 200, 500],\n",
       "                         'weights': ['uniform', 'distance']},\n",
       "             pre_dispatch='2*n_jobs', refit=True, return_train_score=False,\n",
       "             scoring=None, verbose=1)"
      ]
     },
     "execution_count": 92,
     "metadata": {},
     "output_type": "execute_result"
    }
   ],
   "source": [
    "# Applying Grid Search to find the best model and the best parameters for KNN\n",
    "from sklearn.model_selection import GridSearchCV\n",
    "param_grid = {\n",
    "    'n_neighbors': [1,2,3,5,10,20,50,100,200,500],\n",
    "    'weights': ['uniform','distance'],\n",
    "    'metric' : ['euclidean','manhattan']}\n",
    "grid_search_KNN = GridSearchCV(estimator=classifier, param_grid=param_grid, cv= 5, verbose=1, n_jobs =-1)\n",
    "grid_search_KNN.fit(x_train, y_train)"
   ]
  },
  {
   "cell_type": "code",
   "execution_count": 94,
   "metadata": {
    "ExecuteTime": {
     "end_time": "2020-04-05T17:38:15.412612Z",
     "start_time": "2020-04-05T17:38:15.393662Z"
    }
   },
   "outputs": [
    {
     "data": {
      "text/html": [
       "<div>\n",
       "<style scoped>\n",
       "    .dataframe tbody tr th:only-of-type {\n",
       "        vertical-align: middle;\n",
       "    }\n",
       "\n",
       "    .dataframe tbody tr th {\n",
       "        vertical-align: top;\n",
       "    }\n",
       "\n",
       "    .dataframe thead th {\n",
       "        text-align: right;\n",
       "    }\n",
       "</style>\n",
       "<table border=\"1\" class=\"dataframe\">\n",
       "  <thead>\n",
       "    <tr style=\"text-align: right;\">\n",
       "      <th></th>\n",
       "      <th>rank_test_score</th>\n",
       "      <th>mean_test_score</th>\n",
       "      <th>params</th>\n",
       "      <th>param_weights</th>\n",
       "      <th>param_metric</th>\n",
       "      <th>param_n_neighbors</th>\n",
       "    </tr>\n",
       "  </thead>\n",
       "  <tbody>\n",
       "    <tr>\n",
       "      <th>9</th>\n",
       "      <td>1</td>\n",
       "      <td>0.917535</td>\n",
       "      <td>{'metric': 'euclidean', 'n_neighbors': 10, 'we...</td>\n",
       "      <td>distance</td>\n",
       "      <td>euclidean</td>\n",
       "      <td>10</td>\n",
       "    </tr>\n",
       "    <tr>\n",
       "      <th>29</th>\n",
       "      <td>1</td>\n",
       "      <td>0.917535</td>\n",
       "      <td>{'metric': 'manhattan', 'n_neighbors': 10, 'we...</td>\n",
       "      <td>distance</td>\n",
       "      <td>manhattan</td>\n",
       "      <td>10</td>\n",
       "    </tr>\n",
       "    <tr>\n",
       "      <th>4</th>\n",
       "      <td>3</td>\n",
       "      <td>0.917088</td>\n",
       "      <td>{'metric': 'euclidean', 'n_neighbors': 3, 'wei...</td>\n",
       "      <td>uniform</td>\n",
       "      <td>euclidean</td>\n",
       "      <td>3</td>\n",
       "    </tr>\n",
       "    <tr>\n",
       "      <th>31</th>\n",
       "      <td>3</td>\n",
       "      <td>0.917088</td>\n",
       "      <td>{'metric': 'manhattan', 'n_neighbors': 20, 'we...</td>\n",
       "      <td>distance</td>\n",
       "      <td>manhattan</td>\n",
       "      <td>20</td>\n",
       "    </tr>\n",
       "    <tr>\n",
       "      <th>11</th>\n",
       "      <td>5</td>\n",
       "      <td>0.916791</td>\n",
       "      <td>{'metric': 'euclidean', 'n_neighbors': 20, 'we...</td>\n",
       "      <td>distance</td>\n",
       "      <td>euclidean</td>\n",
       "      <td>20</td>\n",
       "    </tr>\n",
       "  </tbody>\n",
       "</table>\n",
       "</div>"
      ],
      "text/plain": [
       "    rank_test_score  mean_test_score  \\\n",
       "9                 1         0.917535   \n",
       "29                1         0.917535   \n",
       "4                 3         0.917088   \n",
       "31                3         0.917088   \n",
       "11                5         0.916791   \n",
       "\n",
       "                                               params param_weights  \\\n",
       "9   {'metric': 'euclidean', 'n_neighbors': 10, 'we...      distance   \n",
       "29  {'metric': 'manhattan', 'n_neighbors': 10, 'we...      distance   \n",
       "4   {'metric': 'euclidean', 'n_neighbors': 3, 'wei...       uniform   \n",
       "31  {'metric': 'manhattan', 'n_neighbors': 20, 'we...      distance   \n",
       "11  {'metric': 'euclidean', 'n_neighbors': 20, 'we...      distance   \n",
       "\n",
       "   param_metric param_n_neighbors  \n",
       "9     euclidean                10  \n",
       "29    manhattan                10  \n",
       "4     euclidean                 3  \n",
       "31    manhattan                20  \n",
       "11    euclidean                20  "
      ]
     },
     "execution_count": 94,
     "metadata": {},
     "output_type": "execute_result"
    }
   ],
   "source": [
    "#Display best params for KNN\n",
    "KNN_best = pd.DataFrame(grid_search_KNN.cv_results_)\n",
    "KNN_best[['rank_test_score','mean_test_score', 'params','param_weights', 'param_metric', 'param_n_neighbors']].sort_values(by='mean_test_score', ascending = False).head()"
   ]
  },
  {
   "cell_type": "code",
   "execution_count": 95,
   "metadata": {
    "ExecuteTime": {
     "end_time": "2020-04-05T17:38:15.979595Z",
     "start_time": "2020-04-05T17:38:15.974605Z"
    }
   },
   "outputs": [
    {
     "data": {
      "text/plain": [
       "0.9175349806490026"
      ]
     },
     "execution_count": 95,
     "metadata": {},
     "output_type": "execute_result"
    }
   ],
   "source": [
    "grid_search_KNN.best_score_"
   ]
  },
  {
   "cell_type": "code",
   "execution_count": 112,
   "metadata": {
    "ExecuteTime": {
     "end_time": "2020-04-05T18:16:06.515904Z",
     "start_time": "2020-04-05T18:16:06.509920Z"
    }
   },
   "outputs": [
    {
     "data": {
      "text/plain": [
       "{'metric': 'euclidean', 'n_neighbors': 10, 'weights': 'distance'}"
      ]
     },
     "execution_count": 112,
     "metadata": {},
     "output_type": "execute_result"
    }
   ],
   "source": [
    "grid_search_KNN.best_params_"
   ]
  },
  {
   "cell_type": "code",
   "execution_count": 101,
   "metadata": {
    "ExecuteTime": {
     "end_time": "2020-04-05T17:41:39.276846Z",
     "start_time": "2020-04-05T17:41:39.233105Z"
    }
   },
   "outputs": [
    {
     "name": "stdout",
     "output_type": "stream",
     "text": [
      "Accuracy attained from best KNN model: 0.9160714285714285\n"
     ]
    }
   ],
   "source": [
    "KNN_best = KNeighborsClassifier(metric= 'euclidean', n_neighbors= 10, weights= 'distance')\n",
    "KNN_best.fit(x_train, y_train)\n",
    "KNN_best_pred = KNN_best.predict(x_test)\n",
    "KNN_best_pred\n",
    "print('Accuracy attained from best KNN model:', accuracy_score(y_test,KNN_best_pred))"
   ]
  },
  {
   "cell_type": "code",
   "execution_count": null,
   "metadata": {},
   "outputs": [],
   "source": []
  },
  {
   "cell_type": "code",
   "execution_count": null,
   "metadata": {},
   "outputs": [],
   "source": []
  },
  {
   "cell_type": "code",
   "execution_count": 129,
   "metadata": {
    "ExecuteTime": {
     "end_time": "2020-04-05T18:26:46.558303Z",
     "start_time": "2020-04-05T18:26:46.438557Z"
    }
   },
   "outputs": [],
   "source": [
    "classification_results = [['AdaBoost Base', accuracy_score(y_test,y_pred_Ada)],\n",
    "                ['AdaBoost Tuned', accuracy_score(y_test,y_pred_Ada_best)],\n",
    "                ['Random Forest Base', accuracy_score(y_test,y_pred_RF)],\n",
    "                ['Random Forest Tuned', accuracy_score(y_test,y_pred_best_RF)],\n",
    "                ['CART Base', accuracy_score(y_test,y_pred_CART)],\n",
    "                ['CART Tuned', accuracy_score(y_test,CART_best_pred)],\n",
    "                ['KNN Base', accuracy_score(y_test,KNN_base_pred)],\n",
    "                ['KNN Tuned', accuracy_score(y_test,KNN_best_pred)]]\n",
    "\n",
    "\n",
    "confusion_matrix_all = [['AdaBoost Base', confusion_matrix(y_test,y_pred_Ada)],\n",
    "                ['AdaBoost Tuned', confusion_matrix(y_test,y_pred_Ada_best)],\n",
    "                ['Random Forest Base', confusion_matrix(y_test,y_pred_RF)],\n",
    "                ['Random Forest Tuned', confusion_matrix(y_test,y_pred_best_RF)],\n",
    "                ['CART Base', confusion_matrix(y_test,y_pred_CART)],\n",
    "                ['CART Tuned', confusion_matrix(y_test,CART_best_pred)],\n",
    "                ['KNN Base', confusion_matrix(y_test,KNN_base_pred)],\n",
    "                ['KNN Tuned', confusion_matrix(y_test,KNN_best_pred)]]"
   ]
  },
  {
   "cell_type": "code",
   "execution_count": null,
   "metadata": {},
   "outputs": [],
   "source": []
  },
  {
   "cell_type": "code",
   "execution_count": 122,
   "metadata": {
    "ExecuteTime": {
     "end_time": "2020-04-05T18:21:09.145516Z",
     "start_time": "2020-04-05T18:21:09.138535Z"
    }
   },
   "outputs": [],
   "source": [
    "results = pd.DataFrame(classification_results, columns= ['Model','Accuracy']).sort_values(by='Accuracy', ascending=False)"
   ]
  },
  {
   "cell_type": "code",
   "execution_count": 123,
   "metadata": {
    "ExecuteTime": {
     "end_time": "2020-04-05T18:21:13.240850Z",
     "start_time": "2020-04-05T18:21:13.232111Z"
    }
   },
   "outputs": [
    {
     "data": {
      "text/html": [
       "<div>\n",
       "<style scoped>\n",
       "    .dataframe tbody tr th:only-of-type {\n",
       "        vertical-align: middle;\n",
       "    }\n",
       "\n",
       "    .dataframe tbody tr th {\n",
       "        vertical-align: top;\n",
       "    }\n",
       "\n",
       "    .dataframe thead th {\n",
       "        text-align: right;\n",
       "    }\n",
       "</style>\n",
       "<table border=\"1\" class=\"dataframe\">\n",
       "  <thead>\n",
       "    <tr style=\"text-align: right;\">\n",
       "      <th></th>\n",
       "      <th>Model</th>\n",
       "      <th>Accuracy</th>\n",
       "    </tr>\n",
       "  </thead>\n",
       "  <tbody>\n",
       "    <tr>\n",
       "      <th>2</th>\n",
       "      <td>Random Forest Base</td>\n",
       "      <td>0.922024</td>\n",
       "    </tr>\n",
       "    <tr>\n",
       "      <th>1</th>\n",
       "      <td>AdaBoost Tuned</td>\n",
       "      <td>0.920238</td>\n",
       "    </tr>\n",
       "    <tr>\n",
       "      <th>3</th>\n",
       "      <td>Random Forest Tuned</td>\n",
       "      <td>0.920238</td>\n",
       "    </tr>\n",
       "    <tr>\n",
       "      <th>5</th>\n",
       "      <td>CART Tuned</td>\n",
       "      <td>0.920238</td>\n",
       "    </tr>\n",
       "    <tr>\n",
       "      <th>0</th>\n",
       "      <td>AdaBoost Base</td>\n",
       "      <td>0.919048</td>\n",
       "    </tr>\n",
       "    <tr>\n",
       "      <th>6</th>\n",
       "      <td>KNN Base</td>\n",
       "      <td>0.917857</td>\n",
       "    </tr>\n",
       "    <tr>\n",
       "      <th>4</th>\n",
       "      <td>CART Base</td>\n",
       "      <td>0.916071</td>\n",
       "    </tr>\n",
       "    <tr>\n",
       "      <th>7</th>\n",
       "      <td>KNN Tuned</td>\n",
       "      <td>0.916071</td>\n",
       "    </tr>\n",
       "  </tbody>\n",
       "</table>\n",
       "</div>"
      ],
      "text/plain": [
       "                 Model  Accuracy\n",
       "2   Random Forest Base  0.922024\n",
       "1       AdaBoost Tuned  0.920238\n",
       "3  Random Forest Tuned  0.920238\n",
       "5           CART Tuned  0.920238\n",
       "0        AdaBoost Base  0.919048\n",
       "6             KNN Base  0.917857\n",
       "4            CART Base  0.916071\n",
       "7            KNN Tuned  0.916071"
      ]
     },
     "execution_count": 123,
     "metadata": {},
     "output_type": "execute_result"
    }
   ],
   "source": [
    "results\n",
    "#Note that not all tuned models performed better on the test set.  This is likely due to the models not\n",
    "#showing significant improvment with tuning, and a different random seed in the base run resulting in\n",
    "#better slightly better accuracy"
   ]
  },
  {
   "cell_type": "code",
   "execution_count": 132,
   "metadata": {
    "ExecuteTime": {
     "end_time": "2020-04-05T18:29:07.464359Z",
     "start_time": "2020-04-05T18:29:07.445396Z"
    }
   },
   "outputs": [
    {
     "data": {
      "text/html": [
       "<div>\n",
       "<style scoped>\n",
       "    .dataframe tbody tr th:only-of-type {\n",
       "        vertical-align: middle;\n",
       "    }\n",
       "\n",
       "    .dataframe tbody tr th {\n",
       "        vertical-align: top;\n",
       "    }\n",
       "\n",
       "    .dataframe thead th {\n",
       "        text-align: right;\n",
       "    }\n",
       "</style>\n",
       "<table border=\"1\" class=\"dataframe\">\n",
       "  <thead>\n",
       "    <tr style=\"text-align: right;\">\n",
       "      <th></th>\n",
       "      <th>Model</th>\n",
       "      <th>Confusion Matrix</th>\n",
       "    </tr>\n",
       "  </thead>\n",
       "  <tbody>\n",
       "    <tr>\n",
       "      <th>0</th>\n",
       "      <td>AdaBoost Base</td>\n",
       "      <td>[[1348, 68], [68, 196]]</td>\n",
       "    </tr>\n",
       "    <tr>\n",
       "      <th>1</th>\n",
       "      <td>AdaBoost Tuned</td>\n",
       "      <td>[[1368, 48], [86, 178]]</td>\n",
       "    </tr>\n",
       "    <tr>\n",
       "      <th>2</th>\n",
       "      <td>Random Forest Base</td>\n",
       "      <td>[[1356, 60], [71, 193]]</td>\n",
       "    </tr>\n",
       "    <tr>\n",
       "      <th>3</th>\n",
       "      <td>Random Forest Tuned</td>\n",
       "      <td>[[1356, 60], [74, 190]]</td>\n",
       "    </tr>\n",
       "    <tr>\n",
       "      <th>4</th>\n",
       "      <td>CART Base</td>\n",
       "      <td>[[1347, 69], [72, 192]]</td>\n",
       "    </tr>\n",
       "    <tr>\n",
       "      <th>5</th>\n",
       "      <td>CART Tuned</td>\n",
       "      <td>[[1354, 62], [72, 192]]</td>\n",
       "    </tr>\n",
       "    <tr>\n",
       "      <th>6</th>\n",
       "      <td>KNN Base</td>\n",
       "      <td>[[1348, 68], [70, 194]]</td>\n",
       "    </tr>\n",
       "    <tr>\n",
       "      <th>7</th>\n",
       "      <td>KNN Tuned</td>\n",
       "      <td>[[1351, 65], [76, 188]]</td>\n",
       "    </tr>\n",
       "  </tbody>\n",
       "</table>\n",
       "</div>"
      ],
      "text/plain": [
       "                 Model         Confusion Matrix\n",
       "0        AdaBoost Base  [[1348, 68], [68, 196]]\n",
       "1       AdaBoost Tuned  [[1368, 48], [86, 178]]\n",
       "2   Random Forest Base  [[1356, 60], [71, 193]]\n",
       "3  Random Forest Tuned  [[1356, 60], [74, 190]]\n",
       "4            CART Base  [[1347, 69], [72, 192]]\n",
       "5           CART Tuned  [[1354, 62], [72, 192]]\n",
       "6             KNN Base  [[1348, 68], [70, 194]]\n",
       "7            KNN Tuned  [[1351, 65], [76, 188]]"
      ]
     },
     "execution_count": 132,
     "metadata": {},
     "output_type": "execute_result"
    }
   ],
   "source": [
    "#Confusion matrix of all results\n",
    "pd.DataFrame(confusion_matrix_all, columns= ['Model', 'Confusion Matrix'])"
   ]
  },
  {
   "cell_type": "code",
   "execution_count": 138,
   "metadata": {
    "ExecuteTime": {
     "end_time": "2020-04-05T19:40:45.225004Z",
     "start_time": "2020-04-05T19:40:45.216052Z"
    }
   },
   "outputs": [
    {
     "name": "stdout",
     "output_type": "stream",
     "text": [
      "AdaBoost Base\n",
      "[[1348   68]\n",
      " [  68  196]]\n",
      "AdaBoost Tuned\n",
      "[[1368   48]\n",
      " [  86  178]]\n",
      "Random Forest Base\n",
      "[[1356   60]\n",
      " [  71  193]]\n",
      "Random Forest Tuned\n",
      "[[1356   60]\n",
      " [  74  190]]\n",
      "CART Base\n",
      "[[1347   69]\n",
      " [  72  192]]\n",
      "CART Tuned\n",
      "[[1354   62]\n",
      " [  72  192]]\n",
      "KNN Base\n",
      "[[1348   68]\n",
      " [  70  194]]\n",
      "KNN Tuned\n",
      "[[1351   65]\n",
      " [  76  188]]\n"
     ]
    }
   ],
   "source": [
    "#Confusion matrix of all results\n",
    "for i in confusion_matrix_all:\n",
    "    print(i[0])\n",
    "    print(i[1])"
   ]
  },
  {
   "cell_type": "code",
   "execution_count": null,
   "metadata": {},
   "outputs": [],
   "source": []
  }
 ],
 "metadata": {
  "hide_input": false,
  "kernelspec": {
   "display_name": "Python 3",
   "language": "python",
   "name": "python3"
  },
  "language_info": {
   "codemirror_mode": {
    "name": "ipython",
    "version": 3
   },
   "file_extension": ".py",
   "mimetype": "text/x-python",
   "name": "python",
   "nbconvert_exporter": "python",
   "pygments_lexer": "ipython3",
   "version": "3.7.3"
  },
  "toc": {
   "base_numbering": 1,
   "nav_menu": {},
   "number_sections": true,
   "sideBar": true,
   "skip_h1_title": false,
   "title_cell": "Table of Contents",
   "title_sidebar": "Contents",
   "toc_cell": false,
   "toc_position": {},
   "toc_section_display": true,
   "toc_window_display": false
  },
  "varInspector": {
   "cols": {
    "lenName": 16,
    "lenType": 16,
    "lenVar": 40
   },
   "kernels_config": {
    "python": {
     "delete_cmd_postfix": "",
     "delete_cmd_prefix": "del ",
     "library": "var_list.py",
     "varRefreshCmd": "print(var_dic_list())"
    },
    "r": {
     "delete_cmd_postfix": ") ",
     "delete_cmd_prefix": "rm(",
     "library": "var_list.r",
     "varRefreshCmd": "cat(var_dic_list()) "
    }
   },
   "types_to_exclude": [
    "module",
    "function",
    "builtin_function_or_method",
    "instance",
    "_Feature"
   ],
   "window_display": false
  }
 },
 "nbformat": 4,
 "nbformat_minor": 2
}
