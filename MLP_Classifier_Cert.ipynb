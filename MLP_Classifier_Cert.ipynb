{
 "cells": [
  {
   "cell_type": "markdown",
   "metadata": {},
   "source": [
    "## MLP Classification of Certificate Features"
   ]
  },
  {
   "cell_type": "code",
   "execution_count": 12,
   "metadata": {
    "ExecuteTime": {
     "end_time": "2020-04-09T21:07:30.921541Z",
     "start_time": "2020-04-09T21:07:30.915556Z"
    }
   },
   "outputs": [],
   "source": [
    "# Import necessary packages\n",
    "\n",
    "import pandas as pd\n",
    "from sklearn.model_selection import train_test_split\n",
    "from sklearn.model_selection import ParameterGrid\n",
    "import matplotlib.pyplot as plt\n",
    "from sklearn.metrics import confusion_matrix, classification_report\n",
    "from sklearn.preprocessing import scale\n",
    "from sklearn.neural_network import MLPClassifier\n",
    "from sklearn.model_selection import cross_val_score\n",
    "from sklearn.model_selection import train_test_split"
   ]
  },
  {
   "cell_type": "code",
   "execution_count": 13,
   "metadata": {
    "ExecuteTime": {
     "end_time": "2020-04-09T21:07:32.305907Z",
     "start_time": "2020-04-09T21:07:31.658569Z"
    }
   },
   "outputs": [],
   "source": [
    "# Read in the certificate features excel files with the \"phish\" classification\n",
    "cert_phish = pd.read_csv('cert_features_phish.csv')\n",
    "\n",
    "# Create a column for binary output where if the class is phish, it equals 1\n",
    "cert_phish['class_bin'] = pd.Series([1 for x in range(len(cert_phish.index))])"
   ]
  },
  {
   "cell_type": "code",
   "execution_count": 14,
   "metadata": {
    "ExecuteTime": {
     "end_time": "2020-04-09T21:07:35.183532Z",
     "start_time": "2020-04-09T21:07:33.135009Z"
    }
   },
   "outputs": [],
   "source": [
    "# Read in the certificate features excel file with the \"alexa\" or non-phish classification\n",
    "cert_alexa = pd.read_csv('cert_features_alexa.csv')\n",
    "\n",
    "# Create a column for binary output where if the class is alexa, it equals 0\n",
    "cert_alexa['class_bin'] = pd.Series([0 for x in range(len(cert_alexa.index))])"
   ]
  },
  {
   "cell_type": "code",
   "execution_count": 15,
   "metadata": {
    "ExecuteTime": {
     "end_time": "2020-04-09T21:07:36.263775Z",
     "start_time": "2020-04-09T21:07:35.981933Z"
    }
   },
   "outputs": [
    {
     "data": {
      "text/html": [
       "<div>\n",
       "<style scoped>\n",
       "    .dataframe tbody tr th:only-of-type {\n",
       "        vertical-align: middle;\n",
       "    }\n",
       "\n",
       "    .dataframe tbody tr th {\n",
       "        vertical-align: top;\n",
       "    }\n",
       "\n",
       "    .dataframe thead th {\n",
       "        text-align: right;\n",
       "    }\n",
       "</style>\n",
       "<table border=\"1\" class=\"dataframe\">\n",
       "  <thead>\n",
       "    <tr style=\"text-align: right;\">\n",
       "      <th></th>\n",
       "      <th>domain</th>\n",
       "      <th>has_cert</th>\n",
       "      <th>longetivity</th>\n",
       "      <th>valid_cert</th>\n",
       "      <th>extended_validation</th>\n",
       "      <th>cert_age</th>\n",
       "      <th>multi_mtn</th>\n",
       "      <th>globalsign nv-sa</th>\n",
       "      <th>google inc</th>\n",
       "      <th>gandi</th>\n",
       "      <th>...</th>\n",
       "      <th>reviews-by.ml</th>\n",
       "      <th>sewaknepal.org</th>\n",
       "      <th>watchvslivestreamtv.club</th>\n",
       "      <th>nehanaxane.ga</th>\n",
       "      <th>alexis-collins10.tk</th>\n",
       "      <th>laborindonesia.com</th>\n",
       "      <th>egdemo.info</th>\n",
       "      <th>theflatbellydrink.com</th>\n",
       "      <th>class</th>\n",
       "      <th>class_bin</th>\n",
       "    </tr>\n",
       "  </thead>\n",
       "  <tbody>\n",
       "    <tr>\n",
       "      <th>0</th>\n",
       "      <td>yusqa.com</td>\n",
       "      <td>True</td>\n",
       "      <td>365</td>\n",
       "      <td>True</td>\n",
       "      <td>False</td>\n",
       "      <td>257</td>\n",
       "      <td>False</td>\n",
       "      <td>0</td>\n",
       "      <td>0</td>\n",
       "      <td>0</td>\n",
       "      <td>...</td>\n",
       "      <td>0</td>\n",
       "      <td>0</td>\n",
       "      <td>0</td>\n",
       "      <td>0</td>\n",
       "      <td>0</td>\n",
       "      <td>0</td>\n",
       "      <td>0</td>\n",
       "      <td>0</td>\n",
       "      <td>phish</td>\n",
       "      <td>1</td>\n",
       "    </tr>\n",
       "    <tr>\n",
       "      <th>1</th>\n",
       "      <td>yonnaforexbureau.gm</td>\n",
       "      <td>True</td>\n",
       "      <td>90</td>\n",
       "      <td>True</td>\n",
       "      <td>False</td>\n",
       "      <td>61</td>\n",
       "      <td>False</td>\n",
       "      <td>0</td>\n",
       "      <td>0</td>\n",
       "      <td>0</td>\n",
       "      <td>...</td>\n",
       "      <td>0</td>\n",
       "      <td>0</td>\n",
       "      <td>0</td>\n",
       "      <td>0</td>\n",
       "      <td>0</td>\n",
       "      <td>0</td>\n",
       "      <td>0</td>\n",
       "      <td>0</td>\n",
       "      <td>phish</td>\n",
       "      <td>1</td>\n",
       "    </tr>\n",
       "    <tr>\n",
       "      <th>2</th>\n",
       "      <td>www.serveradmin.gq</td>\n",
       "      <td>True</td>\n",
       "      <td>57</td>\n",
       "      <td>True</td>\n",
       "      <td>False</td>\n",
       "      <td>6</td>\n",
       "      <td>True</td>\n",
       "      <td>0</td>\n",
       "      <td>0</td>\n",
       "      <td>0</td>\n",
       "      <td>...</td>\n",
       "      <td>0</td>\n",
       "      <td>0</td>\n",
       "      <td>0</td>\n",
       "      <td>0</td>\n",
       "      <td>0</td>\n",
       "      <td>0</td>\n",
       "      <td>0</td>\n",
       "      <td>0</td>\n",
       "      <td>phish</td>\n",
       "      <td>1</td>\n",
       "    </tr>\n",
       "  </tbody>\n",
       "</table>\n",
       "<p>3 rows × 2209 columns</p>\n",
       "</div>"
      ],
      "text/plain": [
       "                domain  has_cert  longetivity  valid_cert  \\\n",
       "0            yusqa.com      True          365        True   \n",
       "1  yonnaforexbureau.gm      True           90        True   \n",
       "2   www.serveradmin.gq      True           57        True   \n",
       "\n",
       "   extended_validation  cert_age  multi_mtn  globalsign nv-sa  google inc  \\\n",
       "0                False       257      False                 0           0   \n",
       "1                False        61      False                 0           0   \n",
       "2                False         6       True                 0           0   \n",
       "\n",
       "   gandi  ...  reviews-by.ml  sewaknepal.org  watchvslivestreamtv.club  \\\n",
       "0      0  ...              0               0                         0   \n",
       "1      0  ...              0               0                         0   \n",
       "2      0  ...              0               0                         0   \n",
       "\n",
       "   nehanaxane.ga  alexis-collins10.tk  laborindonesia.com  egdemo.info  \\\n",
       "0              0                    0                   0            0   \n",
       "1              0                    0                   0            0   \n",
       "2              0                    0                   0            0   \n",
       "\n",
       "   theflatbellydrink.com  class  class_bin  \n",
       "0                      0  phish          1  \n",
       "1                      0  phish          1  \n",
       "2                      0  phish          1  \n",
       "\n",
       "[3 rows x 2209 columns]"
      ]
     },
     "execution_count": 15,
     "metadata": {},
     "output_type": "execute_result"
    }
   ],
   "source": [
    "# Input the two previously loaded dataframes into a list\n",
    "certs = [cert_phish, cert_alexa]\n",
    "\n",
    "# Concatenate all the items of the list\n",
    "cert = pd.concat(certs)\n",
    "\n",
    "cert.head(3)"
   ]
  },
  {
   "cell_type": "code",
   "execution_count": 16,
   "metadata": {
    "ExecuteTime": {
     "end_time": "2020-04-09T21:07:36.986851Z",
     "start_time": "2020-04-09T21:07:36.981855Z"
    }
   },
   "outputs": [
    {
     "data": {
      "text/plain": [
       "(8398, 2209)"
      ]
     },
     "execution_count": 16,
     "metadata": {},
     "output_type": "execute_result"
    }
   ],
   "source": [
    "cert.shape"
   ]
  },
  {
   "cell_type": "code",
   "execution_count": 17,
   "metadata": {
    "ExecuteTime": {
     "end_time": "2020-04-09T21:07:37.701897Z",
     "start_time": "2020-04-09T21:07:37.663695Z"
    }
   },
   "outputs": [
    {
     "data": {
      "text/html": [
       "<div>\n",
       "<style scoped>\n",
       "    .dataframe tbody tr th:only-of-type {\n",
       "        vertical-align: middle;\n",
       "    }\n",
       "\n",
       "    .dataframe tbody tr th {\n",
       "        vertical-align: top;\n",
       "    }\n",
       "\n",
       "    .dataframe thead th {\n",
       "        text-align: right;\n",
       "    }\n",
       "</style>\n",
       "<table border=\"1\" class=\"dataframe\">\n",
       "  <thead>\n",
       "    <tr style=\"text-align: right;\">\n",
       "      <th></th>\n",
       "      <th>has_cert</th>\n",
       "      <th>longetivity</th>\n",
       "      <th>valid_cert</th>\n",
       "      <th>extended_validation</th>\n",
       "      <th>cert_age</th>\n",
       "      <th>multi_mtn</th>\n",
       "    </tr>\n",
       "  </thead>\n",
       "  <tbody>\n",
       "    <tr>\n",
       "      <th>0</th>\n",
       "      <td>True</td>\n",
       "      <td>365</td>\n",
       "      <td>True</td>\n",
       "      <td>False</td>\n",
       "      <td>257</td>\n",
       "      <td>False</td>\n",
       "    </tr>\n",
       "    <tr>\n",
       "      <th>1</th>\n",
       "      <td>True</td>\n",
       "      <td>90</td>\n",
       "      <td>True</td>\n",
       "      <td>False</td>\n",
       "      <td>61</td>\n",
       "      <td>False</td>\n",
       "    </tr>\n",
       "    <tr>\n",
       "      <th>2</th>\n",
       "      <td>True</td>\n",
       "      <td>57</td>\n",
       "      <td>True</td>\n",
       "      <td>False</td>\n",
       "      <td>6</td>\n",
       "      <td>True</td>\n",
       "    </tr>\n",
       "    <tr>\n",
       "      <th>3</th>\n",
       "      <td>True</td>\n",
       "      <td>90</td>\n",
       "      <td>True</td>\n",
       "      <td>False</td>\n",
       "      <td>1</td>\n",
       "      <td>False</td>\n",
       "    </tr>\n",
       "    <tr>\n",
       "      <th>4</th>\n",
       "      <td>True</td>\n",
       "      <td>90</td>\n",
       "      <td>True</td>\n",
       "      <td>False</td>\n",
       "      <td>7</td>\n",
       "      <td>False</td>\n",
       "    </tr>\n",
       "  </tbody>\n",
       "</table>\n",
       "</div>"
      ],
      "text/plain": [
       "   has_cert  longetivity  valid_cert  extended_validation  cert_age  multi_mtn\n",
       "0      True          365        True                False       257      False\n",
       "1      True           90        True                False        61      False\n",
       "2      True           57        True                False         6       True\n",
       "3      True           90        True                False         1      False\n",
       "4      True           90        True                False         7      False"
      ]
     },
     "execution_count": 17,
     "metadata": {},
     "output_type": "execute_result"
    }
   ],
   "source": [
    "X = cert.iloc[:, 1:7 ]\n",
    "y = cert.iloc[:,-1]\n",
    "X.head()"
   ]
  },
  {
   "cell_type": "code",
   "execution_count": 33,
   "metadata": {
    "ExecuteTime": {
     "end_time": "2020-04-09T21:26:09.267582Z",
     "start_time": "2020-04-09T21:24:37.237511Z"
    }
   },
   "outputs": [
    {
     "data": {
      "text/plain": [
       "0.8751274781898877"
      ]
     },
     "execution_count": 33,
     "metadata": {},
     "output_type": "execute_result"
    }
   ],
   "source": [
    "# Scale the X values\n",
    "XS=scale(X)\n",
    "\n",
    "# Perform a train-test split\n",
    "X_train, X_test, y_train, y_test = train_test_split(XS, y, test_size=0.3, random_state=42)\n",
    "\n",
    "# Create the MLP classifier model with particular parameters\n",
    "mlp = MLPClassifier(max_iter=10000, random_state=42, hidden_layer_sizes=(256,128,128,128,256))\n",
    "\n",
    "# Fit the mlp model to the data\n",
    "mlp.fit(X_train, y_train)\n",
    "\n",
    "# Perform a 5-fold cross validation\n",
    "scores = cross_val_score(mlp, X_train, y_train, cv=5, scoring=\"accuracy\")\n",
    "\n",
    "# Print the mean of the validation scores\n",
    "np.mean(scores)"
   ]
  },
  {
   "cell_type": "code",
   "execution_count": 34,
   "metadata": {
    "ExecuteTime": {
     "end_time": "2020-04-09T21:26:09.860996Z",
     "start_time": "2020-04-09T21:26:09.827086Z"
    }
   },
   "outputs": [
    {
     "data": {
      "text/plain": [
       "0.8551587301587301"
      ]
     },
     "execution_count": 34,
     "metadata": {},
     "output_type": "execute_result"
    }
   ],
   "source": [
    "mlp.score(X_test, y_test)"
   ]
  },
  {
   "cell_type": "code",
   "execution_count": 35,
   "metadata": {
    "ExecuteTime": {
     "end_time": "2020-04-09T21:26:10.572094Z",
     "start_time": "2020-04-09T21:26:10.538185Z"
    }
   },
   "outputs": [],
   "source": [
    "pred = mlp.predict(X_test)"
   ]
  },
  {
   "cell_type": "code",
   "execution_count": 36,
   "metadata": {
    "ExecuteTime": {
     "end_time": "2020-04-09T21:26:11.105976Z",
     "start_time": "2020-04-09T21:26:11.095949Z"
    }
   },
   "outputs": [
    {
     "name": "stdout",
     "output_type": "stream",
     "text": [
      "[[2073   36]\n",
      " [ 329   82]]\n"
     ]
    }
   ],
   "source": [
    "print(confusion_matrix(y_test,pred))"
   ]
  },
  {
   "cell_type": "code",
   "execution_count": 37,
   "metadata": {
    "ExecuteTime": {
     "end_time": "2020-04-09T21:26:11.617840Z",
     "start_time": "2020-04-09T21:26:11.607347Z"
    }
   },
   "outputs": [
    {
     "name": "stdout",
     "output_type": "stream",
     "text": [
      "              precision    recall  f1-score   support\n",
      "\n",
      "           0       0.86      0.98      0.92      2109\n",
      "           1       0.69      0.20      0.31       411\n",
      "\n",
      "    accuracy                           0.86      2520\n",
      "   macro avg       0.78      0.59      0.61      2520\n",
      "weighted avg       0.84      0.86      0.82      2520\n",
      "\n"
     ]
    }
   ],
   "source": [
    "print(classification_report(y_test,pred))"
   ]
  }
 ],
 "metadata": {
  "kernelspec": {
   "display_name": "Python 3",
   "language": "python",
   "name": "python3"
  },
  "language_info": {
   "codemirror_mode": {
    "name": "ipython",
    "version": 3
   },
   "file_extension": ".py",
   "mimetype": "text/x-python",
   "name": "python",
   "nbconvert_exporter": "python",
   "pygments_lexer": "ipython3",
   "version": "3.7.3"
  },
  "toc": {
   "base_numbering": 1,
   "nav_menu": {},
   "number_sections": true,
   "sideBar": true,
   "skip_h1_title": false,
   "title_cell": "Table of Contents",
   "title_sidebar": "Contents",
   "toc_cell": false,
   "toc_position": {},
   "toc_section_display": true,
   "toc_window_display": false
  },
  "varInspector": {
   "cols": {
    "lenName": 16,
    "lenType": 16,
    "lenVar": 40
   },
   "kernels_config": {
    "python": {
     "delete_cmd_postfix": "",
     "delete_cmd_prefix": "del ",
     "library": "var_list.py",
     "varRefreshCmd": "print(var_dic_list())"
    },
    "r": {
     "delete_cmd_postfix": ") ",
     "delete_cmd_prefix": "rm(",
     "library": "var_list.r",
     "varRefreshCmd": "cat(var_dic_list()) "
    }
   },
   "types_to_exclude": [
    "module",
    "function",
    "builtin_function_or_method",
    "instance",
    "_Feature"
   ],
   "window_display": false
  }
 },
 "nbformat": 4,
 "nbformat_minor": 2
}
