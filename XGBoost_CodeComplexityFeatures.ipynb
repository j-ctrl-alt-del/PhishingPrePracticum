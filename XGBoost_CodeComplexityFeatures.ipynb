{
 "cells": [
  {
   "cell_type": "code",
   "execution_count": null,
   "metadata": {},
   "outputs": [],
   "source": [
    "# Overall Stats:\n",
    "# All Variables: 87.27%\n",
    "# average cyclomatic complexity: 82.72%\n",
    "# average number of external blocks: 86.22%\n",
    "# proprietary code count: 82.38%\n",
    "# average number of inline blocks: 80.33%\n",
    "# number of DOM on-event handlers: 86.31%"
   ]
  },
  {
   "cell_type": "code",
   "execution_count": 2,
   "metadata": {
    "ExecuteTime": {
     "end_time": "2020-02-23T23:30:08.714315Z",
     "start_time": "2020-02-23T23:30:04.871538Z"
    }
   },
   "outputs": [],
   "source": [
    "# The below was heavily inspired by\n",
    "# https://machinelearningmastery.com/develop-first-xgboost-model-python-scikit-learn/\n",
    "\n",
    "import pandas as pd # Needed for iloc.\n",
    "from numpy import loadtxt\n",
    "from xgboost import XGBClassifier\n",
    "from sklearn.model_selection import train_test_split\n",
    "from sklearn.metrics import accuracy_score"
   ]
  },
  {
   "cell_type": "code",
   "execution_count": 3,
   "metadata": {
    "ExecuteTime": {
     "end_time": "2020-02-23T23:30:10.245170Z",
     "start_time": "2020-02-23T23:30:10.120133Z"
    }
   },
   "outputs": [],
   "source": [
    "# Reading the data from the provided csv. \n",
    "rawdata = pd.read_csv(r\"C:\\Users\\jft2456\\Desktop\\PrePracticum\\wc.csv\")\n",
    "\n",
    "# Changing the rawdata type so that we receive true/false values in the reshaped array. \n",
    "# False values are known phishing URLs.  True values are known good values from Alexa Internet Rankings. \n",
    "rawdata.type = (rawdata.type == \"alexa\")"
   ]
  },
  {
   "cell_type": "code",
   "execution_count": 4,
   "metadata": {
    "ExecuteTime": {
     "end_time": "2020-02-23T23:30:13.681822Z",
     "start_time": "2020-02-23T23:30:13.634928Z"
    }
   },
   "outputs": [
    {
     "data": {
      "text/html": [
       "<div>\n",
       "<style scoped>\n",
       "    .dataframe tbody tr th:only-of-type {\n",
       "        vertical-align: middle;\n",
       "    }\n",
       "\n",
       "    .dataframe tbody tr th {\n",
       "        vertical-align: top;\n",
       "    }\n",
       "\n",
       "    .dataframe thead th {\n",
       "        text-align: right;\n",
       "    }\n",
       "</style>\n",
       "<table border=\"1\" class=\"dataframe\">\n",
       "  <thead>\n",
       "    <tr style=\"text-align: right;\">\n",
       "      <th></th>\n",
       "      <th>site</th>\n",
       "      <th>scrap_time</th>\n",
       "      <th>path</th>\n",
       "      <th>has_html</th>\n",
       "      <th>inline_count</th>\n",
       "      <th>avg_inline_script_block</th>\n",
       "      <th>external_count</th>\n",
       "      <th>avg_external_script_block</th>\n",
       "      <th>onclick_count</th>\n",
       "      <th>onload_count</th>\n",
       "      <th>onchange_count</th>\n",
       "      <th>avg_onclick_count</th>\n",
       "      <th>avg_onload_count</th>\n",
       "      <th>avg_onchange_count</th>\n",
       "      <th>avg_cyc_complexity</th>\n",
       "      <th>library_code_count</th>\n",
       "      <th>type</th>\n",
       "    </tr>\n",
       "  </thead>\n",
       "  <tbody>\n",
       "    <tr>\n",
       "      <td>0</td>\n",
       "      <td>0.2090000.ru</td>\n",
       "      <td>2017-11-17 11-19-03</td>\n",
       "      <td>C:\\Phishing Project\\phishtank - november 2017\\...</td>\n",
       "      <td>True</td>\n",
       "      <td>2.0</td>\n",
       "      <td>0.0</td>\n",
       "      <td>4.0</td>\n",
       "      <td>64.000000</td>\n",
       "      <td>1</td>\n",
       "      <td>1.0</td>\n",
       "      <td>0.0</td>\n",
       "      <td>358</td>\n",
       "      <td>3</td>\n",
       "      <td>1</td>\n",
       "      <td>0.000000</td>\n",
       "      <td>0</td>\n",
       "      <td>False</td>\n",
       "    </tr>\n",
       "    <tr>\n",
       "      <td>1</td>\n",
       "      <td>000keca.wcomhost.com</td>\n",
       "      <td>2017-09-20 07-53-06</td>\n",
       "      <td>C:\\Phishing Project\\phishtank - september 2017...</td>\n",
       "      <td>True</td>\n",
       "      <td>2.0</td>\n",
       "      <td>2.0</td>\n",
       "      <td>2.0</td>\n",
       "      <td>169.000000</td>\n",
       "      <td>1</td>\n",
       "      <td>1.0</td>\n",
       "      <td>0.0</td>\n",
       "      <td>219</td>\n",
       "      <td>1</td>\n",
       "      <td>1</td>\n",
       "      <td>1.000000</td>\n",
       "      <td>1</td>\n",
       "      <td>False</td>\n",
       "    </tr>\n",
       "    <tr>\n",
       "      <td>2</td>\n",
       "      <td>000pichincha.webcindario.com</td>\n",
       "      <td>2017-11-21 03-59-08</td>\n",
       "      <td>C:\\Phishing Project\\phishtank - november 2017\\...</td>\n",
       "      <td>True</td>\n",
       "      <td>4.0</td>\n",
       "      <td>0.0</td>\n",
       "      <td>3.0</td>\n",
       "      <td>260.500000</td>\n",
       "      <td>1</td>\n",
       "      <td>0.0</td>\n",
       "      <td>1.0</td>\n",
       "      <td>1783</td>\n",
       "      <td>1</td>\n",
       "      <td>2</td>\n",
       "      <td>1.000000</td>\n",
       "      <td>2</td>\n",
       "      <td>False</td>\n",
       "    </tr>\n",
       "    <tr>\n",
       "      <td>3</td>\n",
       "      <td>003.ru</td>\n",
       "      <td>2017-12-03 02-44-02</td>\n",
       "      <td>C:\\target site - 20K alexa\\content\\15c\\003.ru\\...</td>\n",
       "      <td>True</td>\n",
       "      <td>75.0</td>\n",
       "      <td>0.0</td>\n",
       "      <td>18.5</td>\n",
       "      <td>955.733333</td>\n",
       "      <td>2</td>\n",
       "      <td>72.0</td>\n",
       "      <td>0.0</td>\n",
       "      <td>41327</td>\n",
       "      <td>4</td>\n",
       "      <td>15</td>\n",
       "      <td>0.733333</td>\n",
       "      <td>11</td>\n",
       "      <td>True</td>\n",
       "    </tr>\n",
       "    <tr>\n",
       "      <td>4</td>\n",
       "      <td>007ex.com</td>\n",
       "      <td>2017-12-04 06-09-04</td>\n",
       "      <td>C:\\target site - 20K alexa\\content\\d10\\007ex.c...</td>\n",
       "      <td>True</td>\n",
       "      <td>3.0</td>\n",
       "      <td>0.0</td>\n",
       "      <td>6.0</td>\n",
       "      <td>740.600000</td>\n",
       "      <td>1</td>\n",
       "      <td>0.0</td>\n",
       "      <td>0.0</td>\n",
       "      <td>10901</td>\n",
       "      <td>1</td>\n",
       "      <td>5</td>\n",
       "      <td>0.800000</td>\n",
       "      <td>4</td>\n",
       "      <td>True</td>\n",
       "    </tr>\n",
       "  </tbody>\n",
       "</table>\n",
       "</div>"
      ],
      "text/plain": [
       "                           site           scrap_time  \\\n",
       "0                  0.2090000.ru  2017-11-17 11-19-03   \n",
       "1          000keca.wcomhost.com  2017-09-20 07-53-06   \n",
       "2  000pichincha.webcindario.com  2017-11-21 03-59-08   \n",
       "3                        003.ru  2017-12-03 02-44-02   \n",
       "4                     007ex.com  2017-12-04 06-09-04   \n",
       "\n",
       "                                                path  has_html  inline_count  \\\n",
       "0  C:\\Phishing Project\\phishtank - november 2017\\...      True           2.0   \n",
       "1  C:\\Phishing Project\\phishtank - september 2017...      True           2.0   \n",
       "2  C:\\Phishing Project\\phishtank - november 2017\\...      True           4.0   \n",
       "3  C:\\target site - 20K alexa\\content\\15c\\003.ru\\...      True          75.0   \n",
       "4  C:\\target site - 20K alexa\\content\\d10\\007ex.c...      True           3.0   \n",
       "\n",
       "   avg_inline_script_block  external_count  avg_external_script_block  \\\n",
       "0                      0.0             4.0                  64.000000   \n",
       "1                      2.0             2.0                 169.000000   \n",
       "2                      0.0             3.0                 260.500000   \n",
       "3                      0.0            18.5                 955.733333   \n",
       "4                      0.0             6.0                 740.600000   \n",
       "\n",
       "   onclick_count  onload_count  onchange_count  avg_onclick_count  \\\n",
       "0              1           1.0             0.0                358   \n",
       "1              1           1.0             0.0                219   \n",
       "2              1           0.0             1.0               1783   \n",
       "3              2          72.0             0.0              41327   \n",
       "4              1           0.0             0.0              10901   \n",
       "\n",
       "   avg_onload_count  avg_onchange_count  avg_cyc_complexity  \\\n",
       "0                 3                   1            0.000000   \n",
       "1                 1                   1            1.000000   \n",
       "2                 1                   2            1.000000   \n",
       "3                 4                  15            0.733333   \n",
       "4                 1                   5            0.800000   \n",
       "\n",
       "   library_code_count   type  \n",
       "0                   0  False  \n",
       "1                   1  False  \n",
       "2                   2  False  \n",
       "3                  11   True  \n",
       "4                   4   True  "
      ]
     },
     "execution_count": 4,
     "metadata": {},
     "output_type": "execute_result"
    }
   ],
   "source": [
    "rawdata.head()"
   ]
  },
  {
   "cell_type": "code",
   "execution_count": 5,
   "metadata": {
    "ExecuteTime": {
     "end_time": "2020-02-23T23:30:15.946910Z",
     "start_time": "2020-02-23T23:30:15.915680Z"
    }
   },
   "outputs": [
    {
     "data": {
      "text/plain": [
       "array([False, False, False, ...,  True,  True,  True])"
      ]
     },
     "execution_count": 5,
     "metadata": {},
     "output_type": "execute_result"
    }
   ],
   "source": [
    "# Selecting the desired rows (excluding site, scrape_time, and path).\n",
    "X = rawdata.iloc[:,4:16].values  # Dependent variables. \n",
    "y = rawdata.iloc[:,16].values    # Response variable (aleax, or not phish, and phish). \n",
    "\n",
    "# Reshaping into a flat array to allow processing.\n",
    "y.reshape((24232,))"
   ]
  },
  {
   "cell_type": "code",
   "execution_count": 6,
   "metadata": {
    "ExecuteTime": {
     "end_time": "2020-02-23T23:30:18.789959Z",
     "start_time": "2020-02-23T23:30:18.040166Z"
    }
   },
   "outputs": [
    {
     "name": "stdout",
     "output_type": "stream",
     "text": [
      "Accuracy: 87.27%\n"
     ]
    }
   ],
   "source": [
    "# Splitting the training and testing data sets. \n",
    "seed = 7\n",
    "test_size = 0.33\n",
    "X_train, X_test, y_train, y_test = train_test_split(X, y, test_size=test_size, random_state=seed)\n",
    "\n",
    "# Fitting the model. \n",
    "model = XGBClassifier()\n",
    "model.fit(X_train, y_train)\n",
    "\n",
    "# Making predictions for the test data. \n",
    "y_pred = model.predict(X_test)\n",
    "predictions = [round(value) for value in y_pred]\n",
    "\n",
    "# Evaluating predictions for the test data. \n",
    "accuracy = accuracy_score(y_test, predictions)\n",
    "print(\"Accuracy: %.2f%%\" % (accuracy * 100.0))"
   ]
  },
  {
   "cell_type": "code",
   "execution_count": null,
   "metadata": {},
   "outputs": [],
   "source": [
    "# NOTE: The colums in the wc.csv file were moved to allow values in the same feature category to be considered together. \n",
    "# No content was changed. "
   ]
  },
  {
   "cell_type": "code",
   "execution_count": 7,
   "metadata": {
    "ExecuteTime": {
     "end_time": "2020-02-23T23:30:33.192817Z",
     "start_time": "2020-02-23T23:30:33.177193Z"
    }
   },
   "outputs": [
    {
     "data": {
      "text/plain": [
       "array([False, False, False, ...,  True,  True,  True])"
      ]
     },
     "execution_count": 7,
     "metadata": {},
     "output_type": "execute_result"
    }
   ],
   "source": [
    "# Repeating the process for the most important feature according to table V, average cyclomatic complexity. \n",
    "\n",
    "\n",
    "# Selecting the desired row (only avg_cyc_complexity).\n",
    "X = rawdata.iloc[:,14:15].values\n",
    "y = rawdata.iloc[:,16].values\n",
    "\n",
    "# Reshaping into a flat array to allow processing.\n",
    "y.reshape((24232,))"
   ]
  },
  {
   "cell_type": "code",
   "execution_count": 8,
   "metadata": {
    "ExecuteTime": {
     "end_time": "2020-02-23T23:30:51.532252Z",
     "start_time": "2020-02-23T23:30:51.235425Z"
    }
   },
   "outputs": [
    {
     "name": "stdout",
     "output_type": "stream",
     "text": [
      "Accuracy: 82.72%\n"
     ]
    }
   ],
   "source": [
    "# Splitting the training and testing data sets. \n",
    "seed = 7\n",
    "test_size = 0.33\n",
    "X_train, X_test, y_train, y_test = train_test_split(X, y, test_size=test_size, random_state=seed)\n",
    "\n",
    "# Fitting the model. \n",
    "model = XGBClassifier()\n",
    "model.fit(X_train, y_train)\n",
    "\n",
    "# Making predictions for the test data. \n",
    "y_pred = model.predict(X_test)\n",
    "predictions = [round(value) for value in y_pred]\n",
    "\n",
    "# Evaluating predictions for the test data. \n",
    "accuracy = accuracy_score(y_test, predictions)\n",
    "print(\"Accuracy: %.2f%%\" % (accuracy * 100.0))"
   ]
  },
  {
   "cell_type": "code",
   "execution_count": 9,
   "metadata": {
    "ExecuteTime": {
     "end_time": "2020-02-23T23:30:54.500296Z",
     "start_time": "2020-02-23T23:30:54.484663Z"
    }
   },
   "outputs": [
    {
     "data": {
      "text/plain": [
       "array([False, False, False, ...,  True,  True,  True])"
      ]
     },
     "execution_count": 9,
     "metadata": {},
     "output_type": "execute_result"
    }
   ],
   "source": [
    "# Repeating the process for the third most important feature according to table V, average number of external blocks. \n",
    "\n",
    "\n",
    "# Selecting the desired rows (only external_count and avg_external_script_block).\n",
    "X = rawdata.iloc[:,6:8].values\n",
    "y = rawdata.iloc[:,16].values\n",
    "\n",
    "# Reshaping into a flat array to allow processing.\n",
    "y.reshape((24232,))"
   ]
  },
  {
   "cell_type": "code",
   "execution_count": 10,
   "metadata": {
    "ExecuteTime": {
     "end_time": "2020-02-23T23:30:58.546216Z",
     "start_time": "2020-02-23T23:30:58.155701Z"
    }
   },
   "outputs": [
    {
     "name": "stdout",
     "output_type": "stream",
     "text": [
      "Accuracy: 86.22%\n"
     ]
    }
   ],
   "source": [
    "# Splitting the training and testing data sets. \n",
    "seed = 7\n",
    "test_size = 0.33\n",
    "X_train, X_test, y_train, y_test = train_test_split(X, y, test_size=test_size, random_state=seed)\n",
    "\n",
    "# Fitting the model. \n",
    "model = XGBClassifier()\n",
    "model.fit(X_train, y_train)\n",
    "\n",
    "# Making predictions for the test data. \n",
    "y_pred = model.predict(X_test)\n",
    "predictions = [round(value) for value in y_pred]\n",
    "\n",
    "# Evaluating predictions for the test data. \n",
    "accuracy = accuracy_score(y_test, predictions)\n",
    "print(\"Accuracy: %.2f%%\" % (accuracy * 100.0))"
   ]
  },
  {
   "cell_type": "code",
   "execution_count": 11,
   "metadata": {
    "ExecuteTime": {
     "end_time": "2020-02-23T23:31:02.060993Z",
     "start_time": "2020-02-23T23:31:02.045373Z"
    }
   },
   "outputs": [
    {
     "data": {
      "text/plain": [
       "array([False, False, False, ...,  True,  True,  True])"
      ]
     },
     "execution_count": 11,
     "metadata": {},
     "output_type": "execute_result"
    }
   ],
   "source": [
    "# Repeating the process for the seventh most important feature according to table V, proprietary code count. \n",
    "\n",
    "\n",
    "# Selecting the desired row (only library_code_count).\n",
    "X = rawdata.iloc[:,15:16].values\n",
    "y = rawdata.iloc[:,16].values\n",
    "\n",
    "# Reshaping into a flat array to allow processing.\n",
    "y.reshape((24232,))"
   ]
  },
  {
   "cell_type": "code",
   "execution_count": 12,
   "metadata": {
    "ExecuteTime": {
     "end_time": "2020-02-23T23:31:05.622651Z",
     "start_time": "2020-02-23T23:31:05.310224Z"
    }
   },
   "outputs": [
    {
     "name": "stdout",
     "output_type": "stream",
     "text": [
      "Accuracy: 82.38%\n"
     ]
    }
   ],
   "source": [
    "# Splitting the training and testing data sets. \n",
    "seed = 7\n",
    "test_size = 0.33\n",
    "X_train, X_test, y_train, y_test = train_test_split(X, y, test_size=test_size, random_state=seed)\n",
    "\n",
    "# Fitting the model. \n",
    "model = XGBClassifier()\n",
    "model.fit(X_train, y_train)\n",
    "\n",
    "# Making predictions for the test data. \n",
    "y_pred = model.predict(X_test)\n",
    "predictions = [round(value) for value in y_pred]\n",
    "\n",
    "# Evaluating predictions for the test data. \n",
    "accuracy = accuracy_score(y_test, predictions)\n",
    "print(\"Accuracy: %.2f%%\" % (accuracy * 100.0))"
   ]
  },
  {
   "cell_type": "code",
   "execution_count": 13,
   "metadata": {
    "ExecuteTime": {
     "end_time": "2020-02-23T23:31:07.403510Z",
     "start_time": "2020-02-23T23:31:07.372403Z"
    }
   },
   "outputs": [
    {
     "data": {
      "text/plain": [
       "array([False, False, False, ...,  True,  True,  True])"
      ]
     },
     "execution_count": 13,
     "metadata": {},
     "output_type": "execute_result"
    }
   ],
   "source": [
    "# Repeating the process for the ninth most important feature according to table V, average number of inline blocks. \n",
    "\n",
    "\n",
    "# Selecting the desired rows (only inline_count and avg_inline_script_block).\n",
    "X = rawdata.iloc[:,4:6].values\n",
    "y = rawdata.iloc[:,16].values\n",
    "\n",
    "# Reshaping into a flat array to allow processing.\n",
    "y.reshape((24232,))"
   ]
  },
  {
   "cell_type": "code",
   "execution_count": 14,
   "metadata": {
    "ExecuteTime": {
     "end_time": "2020-02-23T23:31:12.995952Z",
     "start_time": "2020-02-23T23:31:12.652266Z"
    }
   },
   "outputs": [
    {
     "name": "stdout",
     "output_type": "stream",
     "text": [
      "Accuracy: 80.33%\n"
     ]
    }
   ],
   "source": [
    "# Splitting the training and testing data sets. \n",
    "seed = 7\n",
    "test_size = 0.33\n",
    "X_train, X_test, y_train, y_test = train_test_split(X, y, test_size=test_size, random_state=seed)\n",
    "\n",
    "# Fitting the model. \n",
    "model = XGBClassifier()\n",
    "model.fit(X_train, y_train)\n",
    "\n",
    "# Making predictions for the test data. \n",
    "y_pred = model.predict(X_test)\n",
    "predictions = [round(value) for value in y_pred]\n",
    "\n",
    "# Evaluating predictions for the test data. \n",
    "accuracy = accuracy_score(y_test, predictions)\n",
    "print(\"Accuracy: %.2f%%\" % (accuracy * 100.0))"
   ]
  },
  {
   "cell_type": "code",
   "execution_count": 15,
   "metadata": {
    "ExecuteTime": {
     "end_time": "2020-02-23T23:31:14.932978Z",
     "start_time": "2020-02-23T23:31:14.917330Z"
    }
   },
   "outputs": [
    {
     "data": {
      "text/plain": [
       "array([False, False, False, ...,  True,  True,  True])"
      ]
     },
     "execution_count": 15,
     "metadata": {},
     "output_type": "execute_result"
    }
   ],
   "source": [
    "# Repeating the process for a feature not listed on table V, number of DOM on-event handlers. \n",
    "\n",
    "\n",
    "# Selecting the desired rows (only inline_count and avg_inline_script_block).\n",
    "X = rawdata.iloc[:,8:14].values\n",
    "y = rawdata.iloc[:,16].values\n",
    "\n",
    "# Reshaping into a flat array to allow processing.\n",
    "y.reshape((24232,))"
   ]
  },
  {
   "cell_type": "code",
   "execution_count": 16,
   "metadata": {
    "ExecuteTime": {
     "end_time": "2020-02-23T23:31:21.243963Z",
     "start_time": "2020-02-23T23:31:20.775363Z"
    }
   },
   "outputs": [
    {
     "name": "stdout",
     "output_type": "stream",
     "text": [
      "Accuracy: 86.31%\n"
     ]
    }
   ],
   "source": [
    "# Splitting the training and testing data sets. \n",
    "seed = 7\n",
    "test_size = 0.33\n",
    "X_train, X_test, y_train, y_test = train_test_split(X, y, test_size=test_size, random_state=seed)\n",
    "\n",
    "# Fitting the model. \n",
    "model = XGBClassifier()\n",
    "model.fit(X_train, y_train)\n",
    "\n",
    "# Making predictions for the test data. \n",
    "y_pred = model.predict(X_test)\n",
    "predictions = [round(value) for value in y_pred]\n",
    "\n",
    "# Evaluating predictions for the test data. \n",
    "accuracy = accuracy_score(y_test, predictions)\n",
    "print(\"Accuracy: %.2f%%\" % (accuracy * 100.0))"
   ]
  },
  {
   "cell_type": "code",
   "execution_count": 17,
   "metadata": {
    "ExecuteTime": {
     "end_time": "2020-02-23T23:31:24.399466Z",
     "start_time": "2020-02-23T23:31:24.383844Z"
    }
   },
   "outputs": [],
   "source": [
    "# Function for producing logarithmic scales of inputted phishing data. \n",
    "def figure_1(y,X):\n",
    "    \n",
    "    import numpy as np\n",
    "    import matplotlib.pyplot as plt\n",
    "    from matplotlib.ticker import MultipleLocator, FormatStrFormatter\n",
    "    \n",
    "    # Creating lists to store values for boxplots\n",
    "    alexa_values = []\n",
    "    phish_values = []\n",
    "    for i in range(len(y)):\n",
    "        if y[i] == True:\n",
    "            alexa_values.append(float(X[i]))\n",
    "        else:\n",
    "            phish_values.append(float(X[i]))\n",
    "\n",
    "    # Inputting extremely small value to substitute for 0 so that we can use log\n",
    "    for j in alexa_values:\n",
    "        if j == 0:\n",
    "            j += 10**-10\n",
    "    \n",
    "    for k in phish_values:\n",
    "        if k == 0:\n",
    "            k += 10**-10\n",
    "    \n",
    "    # Creating boxplots for both alexa and phish values.  \n",
    "    # I'm using the log of each list to replicate paper (i.e., y axis of Count (Logarithmic Scale))\n",
    "    fig = plt.figure(figsize=(18, 6))\n",
    "\n",
    "    ax = plt.subplot(1, 3, 1)\n",
    "    ax.boxplot(np.log(alexa_values))\n",
    "    ax.set_title('Alexa')\n",
    "\n",
    "    ax = plt.subplot(1, 3, 2)\n",
    "    ax.boxplot(np.log(phish_values))\n",
    "    ax.set_title('Phish')\n",
    "\n",
    "    plt.show()"
   ]
  },
  {
   "cell_type": "code",
   "execution_count": 18,
   "metadata": {
    "ExecuteTime": {
     "end_time": "2020-02-23T23:31:26.242814Z",
     "start_time": "2020-02-23T23:31:25.852395Z"
    },
    "scrolled": false
   },
   "outputs": [
    {
     "name": "stderr",
     "output_type": "stream",
     "text": [
      "C:\\Users\\jft2456\\AppData\\Local\\Continuum\\anaconda3\\lib\\site-packages\\ipykernel_launcher.py:31: RuntimeWarning: divide by zero encountered in log\n",
      "C:\\Users\\jft2456\\AppData\\Local\\Continuum\\anaconda3\\lib\\site-packages\\ipykernel_launcher.py:35: RuntimeWarning: divide by zero encountered in log\n"
     ]
    },
    {
     "data": {
      "text/plain": [
       "<Figure size 1800x600 with 2 Axes>"
      ]
     },
     "metadata": {},
     "output_type": "display_data"
    }
   ],
   "source": [
    "# Inline Blocks (inline_count)\n",
    "\n",
    "X = rawdata.iloc[:,4:5].values\n",
    "y = rawdata.iloc[:,16].values\n",
    "\n",
    "figure_1(y,X)"
   ]
  },
  {
   "cell_type": "code",
   "execution_count": 39,
   "metadata": {},
   "outputs": [
    {
     "name": "stderr",
     "output_type": "stream",
     "text": [
      "C:\\ProgramData\\Anaconda3\\lib\\site-packages\\ipykernel_launcher.py:27: RuntimeWarning: divide by zero encountered in log\n",
      "C:\\ProgramData\\Anaconda3\\lib\\site-packages\\matplotlib\\cbook\\__init__.py:1291: RuntimeWarning: invalid value encountered in double_scalars\n",
      "  stats['iqr'] = q3 - q1\n",
      "C:\\ProgramData\\Anaconda3\\lib\\site-packages\\matplotlib\\cbook\\__init__.py:1316: RuntimeWarning: invalid value encountered in less_equal\n",
      "  wiskhi = x[x <= hival]\n",
      "C:\\ProgramData\\Anaconda3\\lib\\site-packages\\matplotlib\\cbook\\__init__.py:1323: RuntimeWarning: invalid value encountered in greater_equal\n",
      "  wisklo = x[x >= loval]\n",
      "C:\\ProgramData\\Anaconda3\\lib\\site-packages\\ipykernel_launcher.py:34: RuntimeWarning: divide by zero encountered in log\n",
      "C:\\ProgramData\\Anaconda3\\lib\\site-packages\\matplotlib\\cbook\\__init__.py:1291: RuntimeWarning: invalid value encountered in double_scalars\n",
      "  stats['iqr'] = q3 - q1\n",
      "C:\\ProgramData\\Anaconda3\\lib\\site-packages\\matplotlib\\cbook\\__init__.py:1316: RuntimeWarning: invalid value encountered in less_equal\n",
      "  wiskhi = x[x <= hival]\n",
      "C:\\ProgramData\\Anaconda3\\lib\\site-packages\\matplotlib\\cbook\\__init__.py:1323: RuntimeWarning: invalid value encountered in greater_equal\n",
      "  wisklo = x[x >= loval]\n"
     ]
    },
    {
     "data": {
      "image/png": "[encoded data removed]",
      "text/plain": [
       "<Figure size 1296x432 with 2 Axes>"
      ]
     },
     "metadata": {
      "needs_background": "light"
     },
     "output_type": "display_data"
    }
   ],
   "source": [
    "# Inline Blocks (avg_inline_script_block - This one doesn't work well)\n",
    "\n",
    "X = rawdata.iloc[:,5:6].values\n",
    "y = rawdata.iloc[:,16].values\n",
    "\n",
    "figure_1(y,X)"
   ]
  },
  {
   "cell_type": "code",
   "execution_count": 37,
   "metadata": {},
   "outputs": [
    {
     "name": "stderr",
     "output_type": "stream",
     "text": [
      "C:\\ProgramData\\Anaconda3\\lib\\site-packages\\ipykernel_launcher.py:27: RuntimeWarning: divide by zero encountered in log\n",
      "C:\\ProgramData\\Anaconda3\\lib\\site-packages\\ipykernel_launcher.py:34: RuntimeWarning: divide by zero encountered in log\n"
     ]
    },
    {
     "data": {
      "image/png": "[encoded data removed]",
      "text/plain": [
       "<Figure size 1296x432 with 2 Axes>"
      ]
     },
     "metadata": {
      "needs_background": "light"
     },
     "output_type": "display_data"
    }
   ],
   "source": [
    "# External Blocks (external_count)\n",
    "\n",
    "X = rawdata.iloc[:,6:7].values\n",
    "y = rawdata.iloc[:,16].values\n",
    "\n",
    "figure_1(y,X)"
   ]
  },
  {
   "cell_type": "code",
   "execution_count": 38,
   "metadata": {},
   "outputs": [
    {
     "name": "stderr",
     "output_type": "stream",
     "text": [
      "C:\\ProgramData\\Anaconda3\\lib\\site-packages\\ipykernel_launcher.py:27: RuntimeWarning: divide by zero encountered in log\n",
      "C:\\ProgramData\\Anaconda3\\lib\\site-packages\\ipykernel_launcher.py:34: RuntimeWarning: divide by zero encountered in log\n"
     ]
    },
    {
     "data": {
      "image/png": "[encoded data removed]",
      "text/plain": [
       "<Figure size 1296x432 with 2 Axes>"
      ]
     },
     "metadata": {
      "needs_background": "light"
     },
     "output_type": "display_data"
    }
   ],
   "source": [
    "# External Blocks (avg_external_script_block)\n",
    "\n",
    "X = rawdata.iloc[:,7:8].values\n",
    "y = rawdata.iloc[:,16].values\n",
    "\n",
    "figure_1(y,X)"
   ]
  },
  {
   "cell_type": "code",
   "execution_count": 40,
   "metadata": {},
   "outputs": [
    {
     "name": "stderr",
     "output_type": "stream",
     "text": [
      "C:\\ProgramData\\Anaconda3\\lib\\site-packages\\ipykernel_launcher.py:27: RuntimeWarning: divide by zero encountered in log\n",
      "C:\\ProgramData\\Anaconda3\\lib\\site-packages\\ipykernel_launcher.py:34: RuntimeWarning: divide by zero encountered in log\n",
      "C:\\ProgramData\\Anaconda3\\lib\\site-packages\\matplotlib\\cbook\\__init__.py:1237: RuntimeWarning: invalid value encountered in double_scalars\n",
      "  notch_max = med + 1.57 * iqr / np.sqrt(N)\n"
     ]
    },
    {
     "data": {
      "image/png": "[encoded data removed]",
      "text/plain": [
       "<Figure size 1296x432 with 2 Axes>"
      ]
     },
     "metadata": {
      "needs_background": "light"
     },
     "output_type": "display_data"
    }
   ],
   "source": [
    "# Cyclomatic Complexity (avg_cyc_complexity)\n",
    "\n",
    "X = rawdata.iloc[:,14:15].values\n",
    "y = rawdata.iloc[:,16].values\n",
    "\n",
    "figure_1(y,X)"
   ]
  },
  {
   "cell_type": "code",
   "execution_count": 41,
   "metadata": {},
   "outputs": [
    {
     "name": "stderr",
     "output_type": "stream",
     "text": [
      "C:\\ProgramData\\Anaconda3\\lib\\site-packages\\ipykernel_launcher.py:27: RuntimeWarning: divide by zero encountered in log\n",
      "C:\\ProgramData\\Anaconda3\\lib\\site-packages\\ipykernel_launcher.py:34: RuntimeWarning: divide by zero encountered in log\n",
      "C:\\ProgramData\\Anaconda3\\lib\\site-packages\\matplotlib\\cbook\\__init__.py:1237: RuntimeWarning: invalid value encountered in double_scalars\n",
      "  notch_max = med + 1.57 * iqr / np.sqrt(N)\n"
     ]
    },
    {
     "data": {
      "image/png": "[encoded data removed]",
      "text/plain": [
       "<Figure size 1296x432 with 2 Axes>"
      ]
     },
     "metadata": {
      "needs_background": "light"
     },
     "output_type": "display_data"
    }
   ],
   "source": [
    "# LOC for library files (library_code_count)\n",
    "\n",
    "X = rawdata.iloc[:,15:16].values\n",
    "y = rawdata.iloc[:,16].values\n",
    "\n",
    "figure_1(y,X)"
   ]
  },
  {
   "cell_type": "code",
   "execution_count": null,
   "metadata": {},
   "outputs": [],
   "source": []
  }
 ],
 "metadata": {
  "hide_input": false,
  "kernelspec": {
   "display_name": "Python 3",
   "language": "python",
   "name": "python3"
  },
  "language_info": {
   "codemirror_mode": {
    "name": "ipython",
    "version": 3
   },
   "file_extension": ".py",
   "mimetype": "text/x-python",
   "name": "python",
   "nbconvert_exporter": "python",
   "pygments_lexer": "ipython3",
   "version": "3.7.4"
  },
  "toc": {
   "base_numbering": 1,
   "nav_menu": {},
   "number_sections": true,
   "sideBar": true,
   "skip_h1_title": false,
   "title_cell": "Table of Contents",
   "title_sidebar": "Contents",
   "toc_cell": false,
   "toc_position": {},
   "toc_section_display": true,
   "toc_window_display": false
  },
  "varInspector": {
   "cols": {
    "lenName": 16,
    "lenType": 16,
    "lenVar": 40
   },
   "kernels_config": {
    "python": {
     "delete_cmd_postfix": "",
     "delete_cmd_prefix": "del ",
     "library": "var_list.py",
     "varRefreshCmd": "print(var_dic_list())"
    },
    "r": {
     "delete_cmd_postfix": ") ",
     "delete_cmd_prefix": "rm(",
     "library": "var_list.r",
     "varRefreshCmd": "cat(var_dic_list()) "
    }
   },
   "types_to_exclude": [
    "module",
    "function",
    "builtin_function_or_method",
    "instance",
    "_Feature"
   ],
   "window_display": false
  }
 },
 "nbformat": 4,
 "nbformat_minor": 2
}
